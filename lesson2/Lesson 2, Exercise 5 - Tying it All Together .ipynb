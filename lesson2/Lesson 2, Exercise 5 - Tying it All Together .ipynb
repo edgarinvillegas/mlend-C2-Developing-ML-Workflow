{
 "cells": [
  {
   "cell_type": "markdown",
   "metadata": {},
   "source": [
    "# UDACITY SageMaker Essentials: Tying it all Together\n",
    "\n",
    "## Using XGBoost in SageMaker\n",
    "\n",
    "\n",
    "To tie everything together, we'll be using Amazon's SageMaker service to construct a random tree model to predict the sentiment of a movie review. This is also a sentiment analysis problem but we won't be using BlazingText. Instead, we will be using the XGBoost package as it is provided to us by Amazon.\n",
    "\n",
    "## Instructions\n",
    "Once you this notebook is opened in SageMaker Studio, select \"Python3(Data Science)\" kernel with \"ml.g4dn.xlarge\" instance.\n",
    "\n",
    "Some template code has already been provided for you, and you will need to implement additional functionality to successfully complete this notebook. You will not need to modify the included code beyond what is requested. Sections that begin with '**TODO**' in the header indicate that you need to complete or implement some portion within them. Instructions will be provided for each section and the specifics of the implementation are marked in the code block with a `# TODO: ...` comment. Please be sure to read the instructions carefully!"
   ]
  },
  {
   "cell_type": "markdown",
   "metadata": {},
   "source": [
    "## Step 1: Downloading the data\n",
    "\n",
    "The dataset we are going to use is very popular among researchers in Natural Language Processing, usually referred to as the [IMDb dataset](http://ai.stanford.edu/~amaas/data/sentiment/). It consists of movie reviews from the website [imdb.com](http://www.imdb.com/), each labeled as either '**pos**itive', if the reviewer enjoyed the film, or '**neg**ative' otherwise.\n",
    "\n",
    "> Maas, Andrew L., et al. [Learning Word Vectors for Sentiment Analysis](http://ai.stanford.edu/~amaas/data/sentiment/). In _Proceedings of the 49th Annual Meeting of the Association for Computational Linguistics: Human Language Technologies_. Association for Computational Linguistics, 2011.\n",
    "\n",
    "We begin by using some Jupyter Notebook magic to download and extract the dataset."
   ]
  },
  {
   "cell_type": "code",
   "execution_count": 12,
   "metadata": {
    "scrolled": true
   },
   "outputs": [
    {
     "name": "stdout",
     "output_type": "stream",
     "text": [
      "--2021-12-08 19:07:14--  https://ai.stanford.edu/~amaas/data/sentiment/aclImdb_v1.tar.gz\n",
      "Resolving ai.stanford.edu (ai.stanford.edu)... 171.64.68.10\n",
      "Connecting to ai.stanford.edu (ai.stanford.edu)|171.64.68.10|:443... connected.\n",
      "HTTP request sent, awaiting response... 200 OK\n",
      "Length: 84125825 (80M) [application/x-gzip]\n",
      "Saving to: ‘../data/aclImdb_v1.tar.gz’\n",
      "\n",
      "../data/aclImdb_v1. 100%[===================>]  80.23M  22.6MB/s    in 4.2s    \n",
      "\n",
      "2021-12-08 19:07:18 (19.0 MB/s) - ‘../data/aclImdb_v1.tar.gz’ saved [84125825/84125825]\n",
      "\n"
     ]
    }
   ],
   "source": [
    "# %mkdir ../data\n",
    "!wget -O ../data/aclImdb_v1.tar.gz https://ai.stanford.edu/~amaas/data/sentiment/aclImdb_v1.tar.gz"
   ]
  },
  {
   "cell_type": "code",
   "execution_count": null,
   "metadata": {},
   "outputs": [],
   "source": [
    "!tar -zxf ../data/aclImdb_v1.tar.gz -C ../data"
   ]
  },
  {
   "cell_type": "markdown",
   "metadata": {},
   "source": [
    "## Step 2: Preparing the data\n",
    "\n",
    "The data we have downloaded is split into various files, each of which contains a single review. It will be much easier going forward if we combine these individual files into two large files, one for training and one for testing."
   ]
  },
  {
   "cell_type": "code",
   "execution_count": 52,
   "metadata": {},
   "outputs": [],
   "source": [
    "import os\n",
    "import glob\n",
    "\n",
    "def read_imdb_data(data_dir='../data/aclImdb'):\n",
    "    data = {}\n",
    "    labels = {}\n",
    "    \n",
    "    for data_type in ['train', 'test']:\n",
    "        data[data_type] = {}\n",
    "        labels[data_type] = {}\n",
    "        \n",
    "        for sentiment in ['pos', 'neg']:\n",
    "            data[data_type][sentiment] = []\n",
    "            labels[data_type][sentiment] = []\n",
    "            \n",
    "            path = os.path.join(data_dir, data_type, sentiment, '*.txt')\n",
    "            files = glob.glob(path)\n",
    "            \n",
    "            for f in files:\n",
    "                with open(f) as review:\n",
    "                    data[data_type][sentiment].append(review.read())\n",
    "                    # Here we represent a positive review by '1' and a negative review by '0'\n",
    "                    labels[data_type][sentiment].append(1 if sentiment == 'pos' else 0)\n",
    "                    \n",
    "            assert len(data[data_type][sentiment]) == len(labels[data_type][sentiment]), \\\n",
    "                    \"{}/{} data size does not match labels size\".format(data_type, sentiment)\n",
    "                \n",
    "    return data, labels"
   ]
  },
  {
   "cell_type": "code",
   "execution_count": 53,
   "metadata": {},
   "outputs": [
    {
     "name": "stdout",
     "output_type": "stream",
     "text": [
      "IMDB reviews: train = 12500 pos / 12500 neg, test = 12500 pos / 12500 neg\n"
     ]
    }
   ],
   "source": [
    "data, labels = read_imdb_data()\n",
    "print(\"IMDB reviews: train = {} pos / {} neg, test = {} pos / {} neg\".format(\n",
    "            len(data['train']['pos']), len(data['train']['neg']),\n",
    "            len(data['test']['pos']), len(data['test']['neg'])))"
   ]
  },
  {
   "cell_type": "code",
   "execution_count": 5,
   "metadata": {},
   "outputs": [],
   "source": [
    "from sklearn.utils import shuffle\n",
    "\n",
    "def prepare_imdb_data(data, labels):\n",
    "    \"\"\"Prepare training and test sets from IMDb movie reviews.\"\"\"\n",
    "    \n",
    "    #Combine positive and negative reviews and labels\n",
    "    data_train = data['train']['pos'] + data['train']['neg']\n",
    "    data_test = data['test']['pos'] + data['test']['neg']\n",
    "    labels_train = labels['train']['pos'] + labels['train']['neg']\n",
    "    labels_test = labels['test']['pos'] + labels['test']['neg']\n",
    "    \n",
    "    #Shuffle reviews and corresponding labels within training and test sets\n",
    "    data_train, labels_train = shuffle(data_train, labels_train)\n",
    "    data_test, labels_test = shuffle(data_test, labels_test)\n",
    "    \n",
    "    # Return a unified training data, test data, training labels, test labets\n",
    "    return data_train, data_test, labels_train, labels_test"
   ]
  },
  {
   "cell_type": "code",
   "execution_count": 6,
   "metadata": {},
   "outputs": [
    {
     "name": "stdout",
     "output_type": "stream",
     "text": [
      "IMDb reviews (combined): train = 25000, test = 25000\n"
     ]
    }
   ],
   "source": [
    "train_X, test_X, train_y, test_y = prepare_imdb_data(data, labels)\n",
    "print(\"IMDb reviews (combined): train = {}, test = {}\".format(len(train_X), len(test_X)))"
   ]
  },
  {
   "cell_type": "code",
   "execution_count": 7,
   "metadata": {},
   "outputs": [
    {
     "data": {
      "text/plain": [
       "'Good, funny, straightforward story, excellent Nicole Kidman (I almost always like the movies she\\'s in). This was a good \"vehicle\" for someone adept at comedy and drama since there are elements of both. A romantic comedy wrapped around two crime stories, great closing lines. Chaplin, very good here, was also good in another good, but unpopular romantic comedy (\"Truth about Cats & Dogs\"). Maybe they\\'re too implausible. Ebert didn\\'t even post a review for this. The great \"screwball\" comedies obviously were totally implausible (\"Bringing up Baby\", etc.). If you\\'ve seen one implausible comedy, you\\'ve seen them all? Or maybe people are ready to move on from the 1930s. Weird. Birthday Girl is a movie I\\'ve enjoyed several times. Nicole Kidman may be the \"killer app\" for home video.'"
      ]
     },
     "execution_count": 7,
     "metadata": {},
     "output_type": "execute_result"
    }
   ],
   "source": [
    "train_X[100]"
   ]
  },
  {
   "cell_type": "markdown",
   "metadata": {},
   "source": [
    "## Step 3: Processing the data\n",
    "\n",
    "Now that we have our training and testing datasets merged and ready to use, we need to start processing the raw data into something that will be useable by our machine learning algorithm. To begin with, we remove any html formatting that may appear in the reviews and perform some standard natural language processing in order to homogenize the data."
   ]
  },
  {
   "cell_type": "code",
   "execution_count": 8,
   "metadata": {},
   "outputs": [
    {
     "name": "stderr",
     "output_type": "stream",
     "text": [
      "[nltk_data] Downloading package stopwords to /root/nltk_data...\n",
      "[nltk_data]   Package stopwords is already up-to-date!\n"
     ]
    }
   ],
   "source": [
    "import nltk\n",
    "nltk.download(\"stopwords\")\n",
    "from nltk.corpus import stopwords\n",
    "from nltk.stem.porter import *\n",
    "stemmer = PorterStemmer()"
   ]
  },
  {
   "cell_type": "code",
   "execution_count": 9,
   "metadata": {},
   "outputs": [],
   "source": [
    "import re\n",
    "from bs4 import BeautifulSoup\n",
    "\n",
    "def review_to_words(review):\n",
    "    text = BeautifulSoup(review, \"html.parser\").get_text() # Remove HTML tags\n",
    "    text = re.sub(r\"[^a-zA-Z0-9]\", \" \", text.lower()) # Convert to lower case\n",
    "    words = text.split() # Split string into words\n",
    "    words = [w for w in words if w not in stopwords.words(\"english\")] # Remove stopwords\n",
    "    words = [PorterStemmer().stem(w) for w in words] # stem\n",
    "    \n",
    "    return words"
   ]
  },
  {
   "cell_type": "code",
   "execution_count": 4,
   "metadata": {},
   "outputs": [],
   "source": [
    "import pickle\n",
    "\n",
    "cache_dir = os.path.join(\"../cache\", \"sentiment_analysis\")  # where to store cache files\n",
    "os.makedirs(cache_dir, exist_ok=True)  # ensure cache directory exists\n",
    "\n",
    "def preprocess_data(data_train, data_test, labels_train, labels_test,\n",
    "                    cache_dir=cache_dir, cache_file=\"preprocessed_data.pkl\"):\n",
    "    \"\"\"Convert each review to words; read from cache if available.\"\"\"\n",
    "\n",
    "    # If cache_file is not None, try to read from it first\n",
    "    cache_data = None\n",
    "    if cache_file is not None:\n",
    "        try:\n",
    "            with open(os.path.join(cache_dir, cache_file), \"rb\") as f:\n",
    "                cache_data = pickle.load(f)\n",
    "            print(\"Read preprocessed data from cache file:\", cache_file)\n",
    "        except:\n",
    "            pass  # unable to read from cache, but that's okay\n",
    "    \n",
    "    # If cache is missing, then do the heavy lifting\n",
    "    if cache_data is None:\n",
    "        # Preprocess training and test data to obtain words for each review\n",
    "        #words_train = list(map(review_to_words, data_train))\n",
    "        #words_test = list(map(review_to_words, data_test))\n",
    "        words_train = [review_to_words(review) for review in data_train]\n",
    "        words_test = [review_to_words(review) for review in data_test]\n",
    "        \n",
    "        # Write to cache file for future runs\n",
    "        if cache_file is not None:\n",
    "            cache_data = dict(words_train=words_train, words_test=words_test,\n",
    "                              labels_train=labels_train, labels_test=labels_test)\n",
    "            with open(os.path.join(cache_dir, cache_file), \"wb\") as f:\n",
    "                pickle.dump(cache_data, f)\n",
    "            print(\"Wrote preprocessed data to cache file:\", cache_file)\n",
    "    else:\n",
    "        # Unpack data loaded from cache file\n",
    "        words_train, words_test, labels_train, labels_test = (cache_data['words_train'],\n",
    "                cache_data['words_test'], cache_data['labels_train'], cache_data['labels_test'])\n",
    "    \n",
    "    return words_train, words_test, labels_train, labels_test"
   ]
  },
  {
   "cell_type": "code",
   "execution_count": null,
   "metadata": {},
   "outputs": [],
   "source": [
    "# Preprocess data\n",
    "train_X, test_X, train_y, test_y = preprocess_data(train_X, test_X, train_y, test_y)"
   ]
  },
  {
   "cell_type": "markdown",
   "metadata": {},
   "source": [
    "### Extract Bag-of-Words features\n",
    "\n",
    "For the model we will be implementing, rather than using the reviews directly, we are going to transform each review into a Bag-of-Words feature representation. Keep in mind that 'in the wild' we will only have access to the training set so our transformer can only use the training set to construct a representation."
   ]
  },
  {
   "cell_type": "code",
   "execution_count": 15,
   "metadata": {},
   "outputs": [],
   "source": [
    "import numpy as np\n",
    "from sklearn.feature_extraction.text import CountVectorizer\n",
    "import joblib\n",
    "# joblib is an enhanced version of pickle that is more efficient for storing NumPy arrays\n",
    "\n",
    "def extract_BoW_features(words_train, words_test, vocabulary_size=5000,\n",
    "                         cache_dir=cache_dir, cache_file=\"bow_features.pkl\"):\n",
    "    \"\"\"Extract Bag-of-Words for a given set of documents, already preprocessed into words.\"\"\"\n",
    "    \n",
    "    # If cache_file is not None, try to read from it first\n",
    "    cache_data = None\n",
    "    if cache_file is not None:\n",
    "        try:\n",
    "            with open(os.path.join(cache_dir, cache_file), \"rb\") as f:\n",
    "                cache_data = joblib.load(f)\n",
    "            print(\"Read features from cache file:\", cache_file)\n",
    "        except:\n",
    "            pass  # unable to read from cache, but that's okay\n",
    "    \n",
    "    # If cache is missing, then do the heavy lifting\n",
    "    if cache_data is None:\n",
    "        # Fit a vectorizer to training documents and use it to transform them\n",
    "        # NOTE: Training documents have already been preprocessed and tokenized into words;\n",
    "        #       pass in dummy functions to skip those steps, e.g. preprocessor=lambda x: x\n",
    "        vectorizer = CountVectorizer(max_features=vocabulary_size,\n",
    "                preprocessor=lambda x: x, tokenizer=lambda x: x)  # already preprocessed\n",
    "        features_train = vectorizer.fit_transform(words_train).toarray()\n",
    "\n",
    "        # Apply the same vectorizer to transform the test documents (ignore unknown words)\n",
    "        features_test = vectorizer.transform(words_test).toarray()\n",
    "        \n",
    "        # NOTE: Remember to convert the features using .toarray() for a compact representation\n",
    "        \n",
    "        # Write to cache file for future runs (store vocabulary as well)\n",
    "        if cache_file is not None:\n",
    "            vocabulary = vectorizer.vocabulary_\n",
    "            cache_data = dict(features_train=features_train, features_test=features_test,\n",
    "                             vocabulary=vocabulary)\n",
    "            with open(os.path.join(cache_dir, cache_file), \"wb\") as f:\n",
    "                joblib.dump(cache_data, f)\n",
    "            print(\"Wrote features to cache file:\", cache_file)\n",
    "    else:\n",
    "        # Unpack data loaded from cache file\n",
    "        features_train, features_test, vocabulary = (cache_data['features_train'],\n",
    "                cache_data['features_test'], cache_data['vocabulary'])\n",
    "    \n",
    "    # Return both the extracted features as well as the vocabulary\n",
    "    return features_train, features_test, vocabulary"
   ]
  },
  {
   "cell_type": "code",
   "execution_count": null,
   "metadata": {},
   "outputs": [],
   "source": [
    "# Extract Bag of Words features for both training and test datasets\n",
    "train_X, test_X, vocabulary = extract_BoW_features(train_X, test_X)"
   ]
  },
  {
   "cell_type": "code",
   "execution_count": null,
   "metadata": {},
   "outputs": [],
   "source": [
    "test_X"
   ]
  },
  {
   "cell_type": "code",
   "execution_count": null,
   "metadata": {},
   "outputs": [],
   "source": [
    "train_X"
   ]
  },
  {
   "cell_type": "markdown",
   "metadata": {},
   "source": [
    "## Step 4: Classification using XGBoost\n",
    "\n",
    "Now that we have created the feature representation of our training (and testing) data, it is time to start setting up and using the XGBoost classifier provided by SageMaker.\n",
    "\n",
    "### (TODO) Writing the dataset\n",
    "\n",
    "The XGBoost classifier that we will be using requires the dataset to be written to a file and stored using Amazon S3. To do this, we will start by splitting the training dataset into two parts, the data we will train the model with and a validation set. Then, we will write those datasets to a file and upload the files to S3. In addition, we will write the test set input to a file and upload the file to S3. This is so that we can use SageMakers Batch Transform functionality to test our model once we've fit it."
   ]
  },
  {
   "cell_type": "code",
   "execution_count": null,
   "metadata": {},
   "outputs": [],
   "source": [
    "import pandas as pd\n",
    "from sklearn.model_selection import train_test_split\n",
    "import boto3\n",
    "from botocore.exceptions import ClientError\n",
    "\n",
    "# TODO: Split the train_X and train_y arrays into the DataFrames val_X, train_X and val_y, train_y.\n",
    "# Make sure that val_X and val_y contain 10000 entires while train_X and train_y contain the remaining 15000 entries.\n",
    "val_size = 10000\n",
    "train_X, val_X = train_test_split(train_X_orig, test_size=val_size, random_state=0)\n",
    "train_y, val_y = train_test_split(train_y_orig, test_size=val_size, random_state=0)\n",
    "\n",
    "print(train_X.shape, len(train_y))\n",
    "print(val_X.shape, len(val_y))"
   ]
  },
  {
   "cell_type": "markdown",
   "metadata": {},
   "source": [
    "The documentation for the XGBoost algorithm in SageMaker requires that the saved datasets should contain no headers or index and that for the training and validation data, the label should occur first for each sample.\n",
    "\n",
    "For more information about this and other algorithms, the SageMaker developer documentation can be found on __[Amazon's website.](https://docs.aws.amazon.com/sagemaker/latest/dg/)__"
   ]
  },
  {
   "cell_type": "code",
   "execution_count": 7,
   "metadata": {},
   "outputs": [],
   "source": [
    "# First we make sure that the local directory in which we'd like to store the training and validation csv files exists.\n",
    "data_dir = 'data/xgboost'\n",
    "if not os.path.exists(data_dir):\n",
    "    os.makedirs(data_dir)"
   ]
  },
  {
   "cell_type": "code",
   "execution_count": null,
   "metadata": {},
   "outputs": [],
   "source": [
    "# Then, save the test data to test.csv in the data_dir directory. Note that we do not save the associated ground truth\n",
    "# labels, instead we will use them later to compare with our model output.\n",
    "\n",
    "pd.DataFrame(test_X).to_csv(os.path.join(data_dir, 'test.csv'), header=False, index=False)\n",
    "\n",
    "# TODO: Save the training and validation data to train.csv and validation.csv in the data_dir directory.\n",
    "# Make sure that the files you create include the ground truth and are in the correct format.\n",
    "\n",
    "df_train = pd.DataFrame(np.insert(train_X, 0, train_y, axis=1))\n",
    "df_val = pd.DataFrame(np.insert(val_X, 0, val_y, axis=1))\n",
    "\n",
    "df_train.to_csv(os.path.join(data_dir, 'train.csv'), header=False, index=False)\n",
    "df_val.to_csv(os.path.join(data_dir, 'validation.csv'), header=False, index=False)\n"
   ]
  },
  {
   "cell_type": "code",
   "execution_count": null,
   "metadata": {},
   "outputs": [],
   "source": [
    "# To save a bit of memory we can set text_X, train_X, val_X, train_y and val_y to None.\n",
    "\n",
    "test_X = train_X = val_X = train_y = val_y = None"
   ]
  },
  {
   "cell_type": "markdown",
   "metadata": {},
   "source": [
    "### (TODO) Uploading Training / Validation files to S3\n",
    "\n",
    "Amazon's S3 service allows us to store files that can be access by both the built-in training models such as the XGBoost model we will be using as well as custom models such as the one we will see a little later.\n",
    "\n",
    "For this, and most other tasks we will be doing using SageMaker, there are two methods we could use. The first is to use the low level functionality of SageMaker which requires knowing each of the objects involved in the SageMaker environment. The second is to use the high level functionality in which certain choices have been made on the user's behalf. The low level approach benefits from allowing the user a great deal of flexibility while the high level approach makes development much quicker. For our purposes we will opt to use the high level approach although using the low-level approach is certainly an option.\n",
    "\n",
    "The method `upload_data()`, a member of the object representing our current SageMaker session, may be of use to you. What this method does is upload the data to the default bucket (which is created if it does not exist) into the path described by the key_prefix variable. To see this for yourself, once you have uploaded the data files, go to the S3 console and look to see where the files have been uploaded.\n",
    "\n",
    "For additional resources, see the __[SageMaker session.upload_data](https://sagemaker.readthedocs.io/en/latest/session.html#sagemaker.session.Session.upload_data)__ and in addition the __[SageMaker Developer Guide.](https://docs.aws.amazon.com/sagemaker/latest/dg/)__"
   ]
  },
  {
   "cell_type": "code",
   "execution_count": 30,
   "metadata": {},
   "outputs": [
    {
     "data": {
      "text/plain": [
       "'s3://edgarin-mlend-c2/all-together/processed-data/train.csv'"
      ]
     },
     "execution_count": 30,
     "metadata": {},
     "output_type": "execute_result"
    }
   ],
   "source": [
    "import sagemaker\n",
    "\n",
    "session = sagemaker.Session() # Store the current SageMaker session\n",
    "\n",
    "# s3://edgarin-mlend-c2/all-together/processed-data/\n",
    "bucket = 'edgarin-mlend-c2'\n",
    "\n",
    "# S3 prefix (which folder will we use)\n",
    "#prefix = 'sentiment-xgboost'\n",
    "prefix = 'all-together'\n",
    "key_prefix = f'{prefix}/processed-data'\n",
    "\n",
    "# TODO: Upload the test.csv, train.csv and validation.csv files which are contained in data_dir to S3 using sess.upload_data().\n",
    "test_location = session.upload_data(f'{data_dir}/test.csv', bucket=bucket, key_prefix=key_prefix)\n",
    "val_location = session.upload_data(f'{data_dir}/validation.csv', bucket=bucket, key_prefix=key_prefix)\n",
    "train_location = session.upload_data(f'{data_dir}/train.csv', bucket=bucket, key_prefix=key_prefix)\n",
    "\n",
    "train_location\n",
    "\n",
    "\n",
    "\n",
    "\n",
    "\n",
    "\n"
   ]
  },
  {
   "cell_type": "markdown",
   "metadata": {},
   "source": [
    "### (TODO) Creating the XGBoost model\n",
    "\n",
    "Now that the data has been uploaded it is time to create the XGBoost model. To begin with, we need to do some setup. At this point it is worth discussing what a model is in SageMaker. It is easiest to think of a model of comprising three different objects in the SageMaker ecosystem, which interact with one another.\n",
    "\n",
    "- Model Artifacts\n",
    "- Training Code (Container)\n",
    "- Inference Code (Container)\n",
    "\n",
    "The Model Artifacts are what you might think of as the actual model itself. For example, if you were building a neural network, the model artifacts would be the weights of the various layers. In our case, for an XGBoost model, the artifacts are the actual trees that are created during training.\n",
    "\n",
    "The other two objects, the training code and the inference code are then used the manipulate the training artifacts. More precisely, the training code uses the training data that is provided and creates the model artifacts, while the inference code uses the model artifacts to make predictions on new data.\n",
    "\n",
    "The way that SageMaker runs the training and inference code is by making use of Docker containers. For now, think of a container as being a way of packaging code up so that dependencies aren't an issue."
   ]
  },
  {
   "cell_type": "code",
   "execution_count": 24,
   "metadata": {},
   "outputs": [],
   "source": [
    "from sagemaker import get_execution_role\n",
    "\n",
    "# Our current execution role is require when creating the model as the training\n",
    "# and inference code will need to access the model artifacts.\n",
    "role = get_execution_role()"
   ]
  },
  {
   "cell_type": "code",
   "execution_count": 27,
   "metadata": {},
   "outputs": [],
   "source": [
    "# We need to retrieve the location of the container which is provided by Amazon for using XGBoost.\n",
    "# As a matter of convenience, the training and inference code both use the same container.\n",
    "from sagemaker import image_uris\n",
    "training_container = image_uris.retrieve('xgboost', session.boto_region_name, 'latest')\n",
    "inference_container = training_container"
   ]
  },
  {
   "cell_type": "code",
   "execution_count": 38,
   "metadata": {},
   "outputs": [],
   "source": [
    "# TODO: Create a SageMaker estimator using the container location determined in the previous cell.\n",
    "#       It is recommended that you use a single training instance of type ml.m4.xlarge. It is also\n",
    "#       recommended that you use 's3://{}/{}/output'.format(session.default_bucket(), prefix) as the\n",
    "#       output path.\n",
    "\n",
    "xgb_estimator = sagemaker.estimator.Estimator(\n",
    "    training_container,\n",
    "    role=role,\n",
    "    instance_count=2,\n",
    "    instance_type='ml.m4.xlarge',\n",
    "    output_path='s3://edgarin-mlend-c2/all-together/train-output/',\n",
    "    sagemaker_session=session\n",
    ")\n",
    "\n",
    "# TODO: Set the XGBoost hyperparameters in the xgb object. Don't forget that in this case we have a binary\n",
    "#       label so we should be using the 'binary:logistic' objective.\n",
    "xgb_estimator.set_hyperparameters(max_depth=5,\n",
    "                        eta=0.2,\n",
    "                        gamma=4,\n",
    "                        min_child_weight=6,\n",
    "                        subsample=0.8,\n",
    "                        silent=0,\n",
    "                        objective='binary:logistic',\n",
    "                        early_stopping_rounds=10,\n",
    "                        num_round=500)\n"
   ]
  },
  {
   "cell_type": "markdown",
   "metadata": {},
   "source": [
    "### Fit the XGBoost model\n",
    "\n",
    "Now that our model has been set up we simply need to attach the training and validation datasets and then ask SageMaker to set up the computation."
   ]
  },
  {
   "cell_type": "code",
   "execution_count": 39,
   "metadata": {},
   "outputs": [],
   "source": [
    "s3_input_train = sagemaker.TrainingInput(s3_data=train_location, content_type='csv')\n",
    "s3_input_validation = sagemaker.TrainingInput(s3_data=val_location, content_type='csv')"
   ]
  },
  {
   "cell_type": "code",
   "execution_count": 40,
   "metadata": {},
   "outputs": [
    {
     "name": "stdout",
     "output_type": "stream",
     "text": [
      "2021-12-10 23:49:26 Starting - Starting the training job...\n",
      "2021-12-10 23:49:50 Starting - Launching requested ML instancesProfilerReport-1639180166: InProgress\n",
      ".........\n",
      "2021-12-10 23:51:10 Starting - Preparing the instances for training............\n",
      "2021-12-10 23:53:25 Downloading - Downloading input data\n",
      "2021-12-10 23:53:25 Training - Downloading the training image...\n",
      "2021-12-10 23:53:53 Training - Training image download completed. Training in progress.\u001b[34mArguments: train\u001b[0m\n",
      "\u001b[34m[2021-12-10:23:53:47:INFO] Running distributed xgboost training.\u001b[0m\n",
      "\u001b[35m[2021-12-10:23:53:55:INFO] Number of hosts: 2, master IP address: 10.0.193.130, host IP address: 10.0.218.87.\u001b[0m\n",
      "\u001b[35m[2021-12-10:23:53:55:INFO] Finished Yarn configuration files setup.\u001b[0m\n",
      "\u001b[35mstarting datanode, logging to /opt/amazon/hadoop/logs/hadoop--datanode-ip-10-0-218-87.ec2.internal.out\u001b[0m\n",
      "\u001b[34mArguments: train\u001b[0m\n",
      "\u001b[34m[2021-12-10:23:53:55:INFO] Running distributed xgboost training.\u001b[0m\n",
      "\u001b[34m[2021-12-10:23:53:55:INFO] Number of hosts: 2, master IP address: 10.0.193.130, host IP address: 10.0.193.130.\u001b[0m\n",
      "\u001b[34m[2021-12-10:23:53:55:INFO] Finished Yarn configuration files setup.\u001b[0m\n",
      "\u001b[34mstarting namenode, logging to /opt/amazon/hadoop/logs/hadoop--namenode-ip-10-0-193-130.ec2.internal.out\u001b[0m\n",
      "\u001b[35mstarting nodemanager, logging to /opt/amazon/hadoop/logs/yarn--nodemanager-ip-10-0-218-87.ec2.internal.out\u001b[0m\n",
      "\u001b[35m[2021-12-10:23:54:00:INFO] File size need to be processed in the node: 119.25 mb. Available memory size in the node: {mem_size_str} mb\u001b[0m\n",
      "\u001b[34mstarting resourcemanager, logging to /opt/amazon/hadoop/logs/yarn--resourcemanager-ip-10-0-193-130.ec2.internal.out\u001b[0m\n",
      "\u001b[34mstarting datanode, logging to /opt/amazon/hadoop/logs/hadoop--datanode-ip-10-0-193-130.ec2.internal.out\u001b[0m\n",
      "\u001b[34mstarting nodemanager, logging to /opt/amazon/hadoop/logs/yarn--nodemanager-ip-10-0-193-130.ec2.internal.out\u001b[0m\n",
      "\u001b[34m[2021-12-10:23:54:09:INFO] File size need to be processed in the node: 119.25 mb. Available memory size in the node: {mem_size_str} mb\u001b[0m\n",
      "\u001b[34m[2021-12-10:23:54:09:INFO] HTTP server started....\u001b[0m\n",
      "\u001b[34m[2021-12-10:23:54:09:INFO] Memory/core ratio is 7.83\u001b[0m\n",
      "\u001b[34m[2021-12-10:23:54:09:INFO] Yarn setup: number of workers: 2, physical cores per worker: 2, physical memory per worker: 15.67g.\u001b[0m\n",
      "\u001b[34m[2021-12-10:23:54:09:INFO] Yarn job submitted successfully.\u001b[0m\n",
      "\u001b[34m2021-12-10 23:54:09,246 INFO start listen on 10.0.193.130:9091\u001b[0m\n",
      "\u001b[34m/xgboost/dmlc-core/tracker/dmlc_tracker/yarn.py:36: UserWarning: cannot find \"/xgboost/dmlc-core/tracker/dmlc_tracker/../yarn/dmlc-yarn.jar\", I will try to run build\n",
      "  warnings.warn(\"cannot find \\\"%s\\\", I will try to run build\" % YARN_JAR_PATH)\u001b[0m\n",
      "\u001b[34msrc/main/java/org/apache/hadoop/yarn/dmlc/Client.java:37: warning: Signal is internal proprietary API and may be removed in a future release\u001b[0m\n",
      "\u001b[34mimport sun.misc.Signal;\n",
      "               ^\u001b[0m\n",
      "\u001b[34msrc/main/java/org/apache/hadoop/yarn/dmlc/Client.java:38: warning: SignalHandler is internal proprietary API and may be removed in a future release\u001b[0m\n",
      "\u001b[34mimport sun.misc.SignalHandler;\n",
      "               ^\u001b[0m\n",
      "\u001b[34msrc/main/java/org/apache/hadoop/yarn/dmlc/Client.java:276: warning: Signal is internal proprietary API and may be removed in a future release\n",
      "        Signal intSignal = new Signal(\"INT\");\n",
      "        ^\u001b[0m\n",
      "\u001b[34msrc/main/java/org/apache/hadoop/yarn/dmlc/Client.java:276: warning: Signal is internal proprietary API and may be removed in a future release\n",
      "        Signal intSignal = new Signal(\"INT\");\n",
      "                               ^\u001b[0m\n",
      "\u001b[34msrc/main/java/org/apache/hadoop/yarn/dmlc/Client.java:277: warning: Signal is internal proprietary API and may be removed in a future release\n",
      "        Signal.handle(intSignal, handler);\n",
      "        ^\u001b[0m\n",
      "\u001b[34msrc/main/java/org/apache/hadoop/yarn/dmlc/Client.java:332: warning: SignalHandler is internal proprietary API and may be removed in a future release\n",
      "    class CtrlCHandler implements SignalHandler{\n",
      "                                  ^\u001b[0m\n",
      "\u001b[34msrc/main/java/org/apache/hadoop/yarn/dmlc/Client.java:339: warning: Signal is internal proprietary API and may be removed in a future release\n",
      "        public void handle(Signal signal){\n",
      "                           ^\u001b[0m\n",
      "\u001b[34mNote: src/main/java/org/apache/hadoop/yarn/dmlc/ApplicationMaster.java uses unchecked or unsafe operations.\u001b[0m\n",
      "\u001b[34mNote: Recompile with -Xlint:unchecked for details.\u001b[0m\n",
      "\u001b[34m7 warnings\u001b[0m\n",
      "\u001b[34m21/12/10 23:54:14 INFO client.RMProxy: Connecting to ResourceManager at algo-1/10.0.193.130:8032\u001b[0m\n",
      "\u001b[34m21/12/10 23:54:15 INFO dmlc.Client: HDFS temp directory do not exist, creating.. /tmp\u001b[0m\n",
      "\u001b[34m21/12/10 23:54:16 INFO dmlc.Client: jobname=DMLC[nworker=2]:python3,username=root\u001b[0m\n",
      "\u001b[34m21/12/10 23:54:16 INFO dmlc.Client: Submitting application application_1639180444792_0001\u001b[0m\n",
      "\u001b[34m21/12/10 23:54:16 INFO impl.YarnClientImpl: Submitted application application_1639180444792_0001\u001b[0m\n",
      "\u001b[34m2021-12-10 23:54:25,081 INFO @tracker All of 2 nodes getting started\u001b[0m\n",
      "\u001b[34m2021-12-10 23:54:29,458 INFO [0]#011train-error:0.295733#011validation-error:0.3056\u001b[0m\n",
      "\u001b[34m2021-12-10 23:54:29,458 INFO Multiple eval metrics have been passed: 'validation-error' will be used for early stopping.\u001b[0m\n",
      "\u001b[34m2021-12-10 23:54:29,459 INFO Multiple eval metrics have been passed: 'validation-error' will be used for early stopping.\u001b[0m\n",
      "\u001b[34m2021-12-10 23:54:29,459 INFO Will train until validation-error hasn't improved in 10 rounds.\u001b[0m\n",
      "\u001b[34m2021-12-10 23:54:30,738 INFO [1]#011train-error:0.282933#011validation-error:0.2864\u001b[0m\n",
      "\u001b[34m2021-12-10 23:54:31,949 INFO [2]#011train-error:0.281#011validation-error:0.2869\u001b[0m\n",
      "\u001b[34m2021-12-10 23:54:33,558 INFO [3]#011train-error:0.265867#011validation-error:0.2719\u001b[0m\n",
      "\u001b[34m2021-12-10 23:54:34,729 INFO [4]#011train-error:0.268867#011validation-error:0.2719\u001b[0m\n",
      "\u001b[34m2021-12-10 23:54:35,942 INFO [5]#011train-error:0.263867#011validation-error:0.2715\u001b[0m\n",
      "\u001b[34m2021-12-10 23:54:37,118 INFO [6]#011train-error:0.2434#011validation-error:0.2523\u001b[0m\n",
      "\u001b[34m2021-12-10 23:54:38,250 INFO [7]#011train-error:0.236467#011validation-error:0.2472\u001b[0m\n",
      "\u001b[34m2021-12-10 23:54:39,425 INFO [8]#011train-error:0.2306#011validation-error:0.2424\u001b[0m\n",
      "\u001b[34m2021-12-10 23:54:40,621 INFO [9]#011train-error:0.223933#011validation-error:0.2348\u001b[0m\n",
      "\u001b[34m2021-12-10 23:54:41,786 INFO [10]#011train-error:0.2196#011validation-error:0.2309\u001b[0m\n",
      "\u001b[34m2021-12-10 23:54:42,974 INFO [11]#011train-error:0.216467#011validation-error:0.227\u001b[0m\n",
      "\u001b[34m2021-12-10 23:54:44,152 INFO [12]#011train-error:0.2156#011validation-error:0.2258\u001b[0m\n",
      "\u001b[34m2021-12-10 23:54:45,453 INFO [13]#011train-error:0.208467#011validation-error:0.2229\u001b[0m\n",
      "\u001b[34m2021-12-10 23:54:46,652 INFO [14]#011train-error:0.208#011validation-error:0.2223\u001b[0m\n",
      "\u001b[34m2021-12-10 23:54:47,752 INFO [15]#011train-error:0.203733#011validation-error:0.2172\u001b[0m\n",
      "\u001b[34m2021-12-10 23:54:49,094 INFO [16]#011train-error:0.198733#011validation-error:0.2133\u001b[0m\n",
      "\u001b[34m2021-12-10 23:54:50,250 INFO [17]#011train-error:0.195733#011validation-error:0.2113\u001b[0m\n",
      "\u001b[34m2021-12-10 23:54:51,424 INFO [18]#011train-error:0.1932#011validation-error:0.2091\u001b[0m\n",
      "\u001b[34m2021-12-10 23:54:52,580 INFO [19]#011train-error:0.190267#011validation-error:0.205\u001b[0m\n",
      "\u001b[34m2021-12-10 23:54:53,705 INFO [20]#011train-error:0.187467#011validation-error:0.2032\u001b[0m\n",
      "\u001b[34m2021-12-10 23:54:54,850 INFO [21]#011train-error:0.186133#011validation-error:0.2011\u001b[0m\n",
      "\u001b[34m2021-12-10 23:54:55,973 INFO [22]#011train-error:0.183#011validation-error:0.1977\u001b[0m\n",
      "\u001b[34m2021-12-10 23:54:57,160 INFO [23]#011train-error:0.180467#011validation-error:0.1959\u001b[0m\n",
      "\u001b[34m2021-12-10 23:54:58,388 INFO [24]#011train-error:0.1772#011validation-error:0.1958\u001b[0m\n",
      "\u001b[34m2021-12-10 23:54:59,551 INFO [25]#011train-error:0.1766#011validation-error:0.1927\u001b[0m\n",
      "\u001b[34m2021-12-10 23:55:00,740 INFO [26]#011train-error:0.1744#011validation-error:0.1917\u001b[0m\n",
      "\u001b[34m2021-12-10 23:55:02,176 INFO [27]#011train-error:0.173133#011validation-error:0.1897\u001b[0m\n",
      "\u001b[34m2021-12-10 23:55:03,468 INFO [28]#011train-error:0.170333#011validation-error:0.1886\u001b[0m\n",
      "\u001b[34m2021-12-10 23:55:04,781 INFO [29]#011train-error:0.166733#011validation-error:0.1869\u001b[0m\n",
      "\u001b[34m2021-12-10 23:55:06,404 INFO [30]#011train-error:0.165733#011validation-error:0.1863\u001b[0m\n",
      "\u001b[34m2021-12-10 23:55:07,628 INFO [31]#011train-error:0.163933#011validation-error:0.1848\u001b[0m\n",
      "\u001b[34m2021-12-10 23:55:08,844 INFO [32]#011train-error:0.162667#011validation-error:0.1827\u001b[0m\n",
      "\u001b[34m2021-12-10 23:55:09,965 INFO [33]#011train-error:0.160933#011validation-error:0.18\u001b[0m\n",
      "\u001b[34m2021-12-10 23:55:11,112 INFO [34]#011train-error:0.159067#011validation-error:0.1804\u001b[0m\n",
      "\u001b[34m2021-12-10 23:55:12,480 INFO [35]#011train-error:0.158467#011validation-error:0.1799\u001b[0m\n",
      "\u001b[34m2021-12-10 23:55:13,624 INFO [36]#011train-error:0.156533#011validation-error:0.1797\u001b[0m\n",
      "\u001b[34m2021-12-10 23:55:14,967 INFO [37]#011train-error:0.155733#011validation-error:0.1794\u001b[0m\n",
      "\u001b[34m2021-12-10 23:55:16,309 INFO [38]#011train-error:0.153867#011validation-error:0.1785\u001b[0m\n",
      "\u001b[34m2021-12-10 23:55:17,556 INFO [39]#011train-error:0.152067#011validation-error:0.176\u001b[0m\n",
      "\u001b[34m2021-12-10 23:55:18,917 INFO [40]#011train-error:0.1516#011validation-error:0.1753\u001b[0m\n",
      "\u001b[34m2021-12-10 23:55:20,732 INFO [41]#011train-error:0.150067#011validation-error:0.1742\u001b[0m\n",
      "\u001b[34m2021-12-10 23:55:21,902 INFO [42]#011train-error:0.1496#011validation-error:0.1722\u001b[0m\n",
      "\u001b[34m2021-12-10 23:55:23,045 INFO [43]#011train-error:0.149133#011validation-error:0.1708\u001b[0m\n",
      "\u001b[34m2021-12-10 23:55:24,277 INFO [44]#011train-error:0.147867#011validation-error:0.1697\u001b[0m\n",
      "\u001b[34m2021-12-10 23:55:25,396 INFO [45]#011train-error:0.147#011validation-error:0.1708\u001b[0m\n",
      "\u001b[34m2021-12-10 23:55:26,544 INFO [46]#011train-error:0.145867#011validation-error:0.17\u001b[0m\n",
      "\u001b[34m2021-12-10 23:55:27,708 INFO [47]#011train-error:0.1444#011validation-error:0.1693\u001b[0m\n",
      "\u001b[34m2021-12-10 23:55:28,928 INFO [48]#011train-error:0.143533#011validation-error:0.1683\u001b[0m\n",
      "\u001b[34m2021-12-10 23:55:30,176 INFO [49]#011train-error:0.142667#011validation-error:0.1678\u001b[0m\n",
      "\u001b[34m2021-12-10 23:55:31,324 INFO [50]#011train-error:0.143#011validation-error:0.1679\u001b[0m\n",
      "\u001b[34m2021-12-10 23:55:32,572 INFO [51]#011train-error:0.1426#011validation-error:0.1663\u001b[0m\n",
      "\u001b[34m2021-12-10 23:55:33,739 INFO [52]#011train-error:0.141867#011validation-error:0.1653\u001b[0m\n",
      "\u001b[34m2021-12-10 23:55:34,893 INFO [53]#011train-error:0.139933#011validation-error:0.1634\u001b[0m\n",
      "\u001b[34m2021-12-10 23:55:36,060 INFO [54]#011train-error:0.138933#011validation-error:0.163\u001b[0m\n",
      "\u001b[34m2021-12-10 23:55:37,219 INFO [55]#011train-error:0.139#011validation-error:0.1614\u001b[0m\n",
      "\u001b[34m2021-12-10 23:55:38,348 INFO [56]#011train-error:0.1384#011validation-error:0.1617\u001b[0m\n",
      "\u001b[34m2021-12-10 23:55:39,512 INFO [57]#011train-error:0.137733#011validation-error:0.1623\u001b[0m\n",
      "\u001b[34m2021-12-10 23:55:40,696 INFO [58]#011train-error:0.1374#011validation-error:0.1619\u001b[0m\n",
      "\u001b[34m2021-12-10 23:55:41,844 INFO [59]#011train-error:0.136933#011validation-error:0.1612\u001b[0m\n",
      "\u001b[34m2021-12-10 23:55:43,024 INFO [60]#011train-error:0.136467#011validation-error:0.1612\u001b[0m\n",
      "\u001b[34m2021-12-10 23:55:44,132 INFO [61]#011train-error:0.1348#011validation-error:0.1596\u001b[0m\n",
      "\u001b[34m2021-12-10 23:55:45,302 INFO [62]#011train-error:0.1342#011validation-error:0.158\u001b[0m\n",
      "\u001b[34m2021-12-10 23:55:46,496 INFO [63]#011train-error:0.134067#011validation-error:0.1588\u001b[0m\n",
      "\u001b[34m2021-12-10 23:55:47,747 INFO [64]#011train-error:0.132733#011validation-error:0.1585\u001b[0m\n",
      "\u001b[34m2021-12-10 23:55:48,883 INFO [65]#011train-error:0.132133#011validation-error:0.1572\u001b[0m\n",
      "\u001b[34m2021-12-10 23:55:50,233 INFO [66]#011train-error:0.131333#011validation-error:0.1567\u001b[0m\n",
      "\u001b[34m2021-12-10 23:55:51,435 INFO [67]#011train-error:0.130333#011validation-error:0.1559\u001b[0m\n",
      "\u001b[34m2021-12-10 23:55:52,588 INFO [68]#011train-error:0.129733#011validation-error:0.1543\u001b[0m\n",
      "\u001b[34m2021-12-10 23:55:53,724 INFO [69]#011train-error:0.13#011validation-error:0.1535\u001b[0m\n",
      "\u001b[34m2021-12-10 23:55:54,849 INFO [70]#011train-error:0.128067#011validation-error:0.1542\u001b[0m\n",
      "\u001b[34m2021-12-10 23:55:56,015 INFO [71]#011train-error:0.127333#011validation-error:0.1538\u001b[0m\n",
      "\u001b[34m2021-12-10 23:55:57,140 INFO [72]#011train-error:0.1272#011validation-error:0.1526\u001b[0m\n",
      "\u001b[34m2021-12-10 23:55:58,307 INFO [73]#011train-error:0.126133#011validation-error:0.1547\u001b[0m\n",
      "\u001b[34m2021-12-10 23:55:59,486 INFO [74]#011train-error:0.124867#011validation-error:0.1548\u001b[0m\n",
      "\u001b[34m2021-12-10 23:56:00,645 INFO [75]#011train-error:0.1244#011validation-error:0.154\u001b[0m\n",
      "\u001b[34m2021-12-10 23:56:01,964 INFO [76]#011train-error:0.123933#011validation-error:0.1544\u001b[0m\n",
      "\u001b[34m2021-12-10 23:56:03,279 INFO [77]#011train-error:0.1232#011validation-error:0.1534\u001b[0m\n",
      "\u001b[34m2021-12-10 23:56:04,643 INFO [78]#011train-error:0.1232#011validation-error:0.153\u001b[0m\n",
      "\u001b[34m2021-12-10 23:56:06,114 INFO [79]#011train-error:0.1222#011validation-error:0.1521\u001b[0m\n",
      "\u001b[34m2021-12-10 23:56:07,391 INFO [80]#011train-error:0.121933#011validation-error:0.1522\u001b[0m\n",
      "\u001b[34m2021-12-10 23:56:08,604 INFO [81]#011train-error:0.121133#011validation-error:0.1516\u001b[0m\n",
      "\u001b[34m2021-12-10 23:56:09,744 INFO [82]#011train-error:0.120533#011validation-error:0.152\u001b[0m\n",
      "\u001b[34m2021-12-10 23:56:10,869 INFO [83]#011train-error:0.1202#011validation-error:0.1514\u001b[0m\n",
      "\u001b[34m2021-12-10 23:56:12,037 INFO [84]#011train-error:0.1188#011validation-error:0.1509\u001b[0m\n",
      "\u001b[34m2021-12-10 23:56:13,305 INFO [85]#011train-error:0.118467#011validation-error:0.1506\u001b[0m\n",
      "\u001b[34m2021-12-10 23:56:14,502 INFO [86]#011train-error:0.118067#011validation-error:0.1496\u001b[0m\n",
      "\u001b[34m2021-12-10 23:56:15,711 INFO [87]#011train-error:0.117533#011validation-error:0.1498\u001b[0m\n",
      "\u001b[34m2021-12-10 23:56:16,857 INFO [88]#011train-error:0.117067#011validation-error:0.1498\u001b[0m\n",
      "\u001b[34m2021-12-10 23:56:18,041 INFO [89]#011train-error:0.116533#011validation-error:0.1486\u001b[0m\n",
      "\u001b[34m2021-12-10 23:56:19,276 INFO [90]#011train-error:0.116067#011validation-error:0.148\u001b[0m\n",
      "\u001b[34m2021-12-10 23:56:20,537 INFO [91]#011train-error:0.115867#011validation-error:0.1484\u001b[0m\n",
      "\u001b[34m2021-12-10 23:56:22,247 INFO [92]#011train-error:0.114733#011validation-error:0.1485\u001b[0m\n",
      "\u001b[34m2021-12-10 23:56:23,492 INFO [93]#011train-error:0.1134#011validation-error:0.148\u001b[0m\n",
      "\u001b[34m2021-12-10 23:56:24,615 INFO [94]#011train-error:0.112933#011validation-error:0.1474\u001b[0m\n",
      "\u001b[34m2021-12-10 23:56:25,807 INFO [95]#011train-error:0.112733#011validation-error:0.1476\u001b[0m\n",
      "\u001b[34m2021-12-10 23:56:26,955 INFO [96]#011train-error:0.112067#011validation-error:0.1463\u001b[0m\n",
      "\u001b[34m2021-12-10 23:56:28,117 INFO [97]#011train-error:0.1124#011validation-error:0.1459\u001b[0m\n",
      "\u001b[34m2021-12-10 23:56:29,501 INFO [98]#011train-error:0.111467#011validation-error:0.1462\u001b[0m\n",
      "\u001b[34m2021-12-10 23:56:30,651 INFO [99]#011train-error:0.111333#011validation-error:0.1459\u001b[0m\n",
      "\u001b[34m2021-12-10 23:56:31,967 INFO [100]#011train-error:0.111067#011validation-error:0.1459\u001b[0m\n",
      "\u001b[34m2021-12-10 23:56:33,111 INFO [101]#011train-error:0.110933#011validation-error:0.1457\u001b[0m\n",
      "\u001b[34m2021-12-10 23:56:34,332 INFO [102]#011train-error:0.1104#011validation-error:0.1448\u001b[0m\n",
      "\u001b[34m2021-12-10 23:56:35,525 INFO [103]#011train-error:0.109867#011validation-error:0.1455\u001b[0m\n",
      "\u001b[34m2021-12-10 23:56:36,679 INFO [104]#011train-error:0.1094#011validation-error:0.1452\u001b[0m\n",
      "\u001b[34m2021-12-10 23:56:37,792 INFO [105]#011train-error:0.109667#011validation-error:0.1452\u001b[0m\n",
      "\u001b[34m2021-12-10 23:56:38,941 INFO [106]#011train-error:0.109#011validation-error:0.1447\u001b[0m\n",
      "\u001b[34m2021-12-10 23:56:40,115 INFO [107]#011train-error:0.108867#011validation-error:0.1434\u001b[0m\n",
      "\u001b[34m2021-12-10 23:56:41,227 INFO [108]#011train-error:0.1082#011validation-error:0.1429\u001b[0m\n",
      "\u001b[34m2021-12-10 23:56:42,323 INFO [109]#011train-error:0.107667#011validation-error:0.1426\u001b[0m\n",
      "\u001b[34m2021-12-10 23:56:43,427 INFO [110]#011train-error:0.107533#011validation-error:0.1432\u001b[0m\n",
      "\u001b[34m2021-12-10 23:56:44,624 INFO [111]#011train-error:0.1072#011validation-error:0.143\u001b[0m\n",
      "\u001b[34m2021-12-10 23:56:45,775 INFO [112]#011train-error:0.107#011validation-error:0.1429\u001b[0m\n",
      "\u001b[34m2021-12-10 23:56:46,883 INFO [113]#011train-error:0.1066#011validation-error:0.1432\u001b[0m\n",
      "\u001b[34m2021-12-10 23:56:48,192 INFO [114]#011train-error:0.106133#011validation-error:0.1431\u001b[0m\n",
      "\u001b[34m2021-12-10 23:56:49,403 INFO [115]#011train-error:0.104667#011validation-error:0.1412\u001b[0m\n",
      "\u001b[34m2021-12-10 23:56:50,527 INFO [116]#011train-error:0.104933#011validation-error:0.141\u001b[0m\n",
      "\u001b[34m2021-12-10 23:56:51,792 INFO [117]#011train-error:0.104533#011validation-error:0.1401\u001b[0m\n",
      "\u001b[34m2021-12-10 23:56:52,901 INFO [118]#011train-error:0.104333#011validation-error:0.1406\u001b[0m\n",
      "\u001b[34m2021-12-10 23:56:54,124 INFO [119]#011train-error:0.1034#011validation-error:0.1405\u001b[0m\n",
      "\u001b[34m2021-12-10 23:56:55,263 INFO [120]#011train-error:0.103733#011validation-error:0.1396\u001b[0m\n",
      "\u001b[34m2021-12-10 23:56:56,407 INFO [121]#011train-error:0.1034#011validation-error:0.1397\u001b[0m\n",
      "\u001b[34m2021-12-10 23:56:57,591 INFO [122]#011train-error:0.1032#011validation-error:0.1401\u001b[0m\n",
      "\u001b[34m2021-12-10 23:56:58,766 INFO [123]#011train-error:0.1028#011validation-error:0.1401\u001b[0m\n",
      "\u001b[34m2021-12-10 23:57:00,005 INFO [124]#011train-error:0.102467#011validation-error:0.1399\u001b[0m\n",
      "\u001b[34m2021-12-10 23:57:01,164 INFO [125]#011train-error:0.102133#011validation-error:0.1395\u001b[0m\n",
      "\u001b[34m2021-12-10 23:57:02,527 INFO [126]#011train-error:0.1016#011validation-error:0.1386\u001b[0m\n",
      "\u001b[34m2021-12-10 23:57:03,675 INFO [127]#011train-error:0.1006#011validation-error:0.1387\u001b[0m\n",
      "\u001b[34m2021-12-10 23:57:05,008 INFO [128]#011train-error:0.100667#011validation-error:0.1388\u001b[0m\n",
      "\u001b[34m2021-12-10 23:57:06,421 INFO [129]#011train-error:0.100467#011validation-error:0.1386\u001b[0m\n",
      "\u001b[34m2021-12-10 23:57:07,646 INFO [130]#011train-error:0.100133#011validation-error:0.1392\u001b[0m\n",
      "\u001b[34m2021-12-10 23:57:08,759 INFO [131]#011train-error:0.098733#011validation-error:0.1399\u001b[0m\n",
      "\u001b[34m2021-12-10 23:57:09,942 INFO [132]#011train-error:0.098133#011validation-error:0.1389\u001b[0m\n",
      "\u001b[34m2021-12-10 23:57:11,109 INFO [133]#011train-error:0.097133#011validation-error:0.1386\u001b[0m\n",
      "\u001b[34m2021-12-10 23:57:12,208 INFO [134]#011train-error:0.097067#011validation-error:0.1384\u001b[0m\n",
      "\u001b[34m2021-12-10 23:57:13,310 INFO [135]#011train-error:0.096867#011validation-error:0.1386\u001b[0m\n",
      "\u001b[34m2021-12-10 23:57:14,472 INFO [136]#011train-error:0.096733#011validation-error:0.1387\u001b[0m\n",
      "\u001b[34m2021-12-10 23:57:15,710 INFO [137]#011train-error:0.096733#011validation-error:0.1378\u001b[0m\n",
      "\u001b[34m2021-12-10 23:57:16,854 INFO [138]#011train-error:0.096267#011validation-error:0.1388\u001b[0m\n",
      "\u001b[34m2021-12-10 23:57:18,044 INFO [139]#011train-error:0.095933#011validation-error:0.1388\u001b[0m\n",
      "\u001b[34m2021-12-10 23:57:19,264 INFO [140]#011train-error:0.095667#011validation-error:0.1389\u001b[0m\n",
      "\u001b[34m2021-12-10 23:57:20,391 INFO [141]#011train-error:0.095267#011validation-error:0.1386\u001b[0m\n",
      "\u001b[34m2021-12-10 23:57:21,627 INFO [142]#011train-error:0.095133#011validation-error:0.1389\u001b[0m\n",
      "\u001b[34m2021-12-10 23:57:22,881 INFO [143]#011train-error:0.094467#011validation-error:0.1386\u001b[0m\n",
      "\u001b[34m2021-12-10 23:57:24,478 INFO [144]#011train-error:0.094933#011validation-error:0.1376\u001b[0m\n",
      "\u001b[34m2021-12-10 23:57:25,701 INFO [145]#011train-error:0.094133#011validation-error:0.1375\u001b[0m\n",
      "\u001b[34m2021-12-10 23:57:26,819 INFO [146]#011train-error:0.094133#011validation-error:0.1374\u001b[0m\n",
      "\u001b[34m2021-12-10 23:57:27,927 INFO [147]#011train-error:0.0938#011validation-error:0.1375\u001b[0m\n",
      "\u001b[34m2021-12-10 23:57:29,039 INFO [148]#011train-error:0.093867#011validation-error:0.1369\u001b[0m\n",
      "\u001b[34m2021-12-10 23:57:30,217 INFO [149]#011train-error:0.093667#011validation-error:0.1364\u001b[0m\n",
      "\u001b[34m2021-12-10 23:57:31,357 INFO [150]#011train-error:0.093333#011validation-error:0.1372\u001b[0m\n",
      "\u001b[34m2021-12-10 23:57:32,543 INFO [151]#011train-error:0.093267#011validation-error:0.1369\u001b[0m\n",
      "\u001b[34m2021-12-10 23:57:33,649 INFO [152]#011train-error:0.0934#011validation-error:0.1364\u001b[0m\n",
      "\u001b[34m2021-12-10 23:57:34,807 INFO [153]#011train-error:0.093333#011validation-error:0.1366\u001b[0m\n",
      "\u001b[34m2021-12-10 23:57:35,993 INFO [154]#011train-error:0.092867#011validation-error:0.1359\u001b[0m\n",
      "\u001b[34m2021-12-10 23:57:37,171 INFO [155]#011train-error:0.092067#011validation-error:0.1365\u001b[0m\n",
      "\u001b[34m2021-12-10 23:57:38,289 INFO [156]#011train-error:0.091667#011validation-error:0.1364\u001b[0m\n",
      "\u001b[34m2021-12-10 23:57:39,389 INFO [157]#011train-error:0.0914#011validation-error:0.1358\u001b[0m\n",
      "\u001b[34m2021-12-10 23:57:40,580 INFO [158]#011train-error:0.091733#011validation-error:0.1357\u001b[0m\n",
      "\u001b[34m2021-12-10 23:57:41,863 INFO [159]#011train-error:0.091333#011validation-error:0.1348\u001b[0m\n",
      "\u001b[34m2021-12-10 23:57:43,009 INFO [160]#011train-error:0.091467#011validation-error:0.135\u001b[0m\n",
      "\u001b[34m2021-12-10 23:57:44,177 INFO [161]#011train-error:0.090533#011validation-error:0.1363\u001b[0m\n",
      "\u001b[34m2021-12-10 23:57:45,419 INFO [162]#011train-error:0.090067#011validation-error:0.1367\u001b[0m\n",
      "\u001b[34m2021-12-10 23:57:46,563 INFO [163]#011train-error:0.0896#011validation-error:0.1357\u001b[0m\n",
      "\u001b[34m2021-12-10 23:57:47,759 INFO [164]#011train-error:0.089267#011validation-error:0.1356\u001b[0m\n",
      "\u001b[34m2021-12-10 23:57:49,020 INFO [165]#011train-error:0.089#011validation-error:0.1355\u001b[0m\n",
      "\u001b[34m2021-12-10 23:57:50,152 INFO [166]#011train-error:0.088267#011validation-error:0.135\u001b[0m\n",
      "\u001b[34m2021-12-10 23:57:51,323 INFO [167]#011train-error:0.087867#011validation-error:0.1348\u001b[0m\n",
      "\u001b[34m2021-12-10 23:57:52,600 INFO [168]#011train-error:0.087533#011validation-error:0.1346\u001b[0m\n",
      "\u001b[34m2021-12-10 23:57:53,753 INFO [169]#011train-error:0.0872#011validation-error:0.1358\u001b[0m\n",
      "\u001b[34m2021-12-10 23:57:54,884 INFO [170]#011train-error:0.087067#011validation-error:0.1358\u001b[0m\n",
      "\u001b[34m2021-12-10 23:57:56,018 INFO [171]#011train-error:0.087333#011validation-error:0.1361\u001b[0m\n",
      "\u001b[34m2021-12-10 23:57:57,173 INFO [172]#011train-error:0.087067#011validation-error:0.1359\u001b[0m\n",
      "\u001b[34m2021-12-10 23:57:58,295 INFO [173]#011train-error:0.086733#011validation-error:0.136\u001b[0m\n",
      "\u001b[34m2021-12-10 23:57:59,471 INFO [174]#011train-error:0.086733#011validation-error:0.1359\u001b[0m\n",
      "\u001b[34m2021-12-10 23:58:00,624 INFO [175]#011train-error:0.086733#011validation-error:0.1366\u001b[0m\n",
      "\u001b[34m2021-12-10 23:58:01,809 INFO [176]#011train-error:0.086533#011validation-error:0.1363\u001b[0m\n",
      "\u001b[34m2021-12-10 23:58:03,072 INFO [177]#011train-error:0.0858#011validation-error:0.1356\u001b[0m\n",
      "\u001b[34m2021-12-10 23:58:04,398 INFO [178]#011train-error:0.086067#011validation-error:0.1347\u001b[0m\n",
      "\u001b[34m2021-12-10 23:58:04,399 INFO Stopping. Best iteration:\u001b[0m\n",
      "\u001b[34m[168]#011train-error:0.087533#011validation-error:0.1346\u001b[0m\n",
      "\u001b[34m2021-12-10 23:58:04,431 INFO Finished training\u001b[0m\n",
      "\u001b[34m2021-12-10 23:58:04,439 INFO Finished training\u001b[0m\n",
      "\u001b[34m2021-12-10 23:58:04,441 INFO @tracker All nodes finishes job\u001b[0m\n",
      "\u001b[34m2021-12-10 23:58:04,442 INFO @tracker 219.36058616638184 secs between node start and job finish\u001b[0m\n",
      "\u001b[35m[2021-12-10:23:59:02:INFO] Master host is not alive. Training might have finished. Shutting down.... Check the logs for algo-1 machine.\u001b[0m\n",
      "\n",
      "2021-12-10 23:59:32 Uploading - Uploading generated training model\n",
      "2021-12-10 23:59:32 Completed - Training job completed\n",
      "ProfilerReport-1639180166: NoIssuesFound\n",
      "Training seconds: 750\n",
      "Billable seconds: 750\n"
     ]
    }
   ],
   "source": [
    "xgb_estimator.fit({'train': s3_input_train, 'validation': s3_input_validation})"
   ]
  },
  {
   "cell_type": "markdown",
   "metadata": {},
   "source": [
    "### (TODO) Testing the model\n",
    "\n",
    "Now that we've fit our XGBoost model, it's time to see how well it performs. To do this we will use SageMakers Batch Transform functionality. Batch Transform is a convenient way to perform inference on a large dataset in a way that is not realtime. That is, we don't necessarily need to use our model's results immediately and instead we can peform inference on a large number of samples. An example of this in industry might be peforming an end of month report. This method of inference can also be useful to us as it means to can perform inference on our entire test set. \n",
    "\n",
    "To perform a Batch Transformation we need to first create a transformer objects from our trained estimator object."
   ]
  },
  {
   "cell_type": "code",
   "execution_count": 44,
   "metadata": {},
   "outputs": [],
   "source": [
    "from sagemaker.model import Model\n",
    "inference_container = image_uris.retrieve('xgboost', session.boto_region_name, 'latest')\n",
    "\n",
    "model_data = \"s3://edgarin-mlend-c2/all-together/train-output/xgboost-2021-12-10-23-49-26-681/output/model.tar.gz\"\n",
    "model = Model(image_uri=inference_container, model_data=model_data, role=role)\n",
    "\n",
    "model.endpoint_name"
   ]
  },
  {
   "cell_type": "code",
   "execution_count": 45,
   "metadata": {},
   "outputs": [],
   "source": [
    "# TODO: Create a transformer object from the trained model. \n",
    "# Using an instance count of 1 and an instance type of ml.m4.xlarge should be more than enough.\n",
    "xgb_transformer = model.transformer(\n",
    "    instance_count=2, \n",
    "    instance_type='ml.m4.xlarge', \n",
    "    output_path='s3://edgarin-mlend-c2/all-together/batch-inference-output/'    \n",
    ")"
   ]
  },
  {
   "cell_type": "markdown",
   "metadata": {},
   "source": [
    "Next we actually perform the transform job. When doing so we need to make sure to specify the type of data we are sending so that it is serialized correctly in the background. In our case we are providing our model with csv data so we specify `text/csv`. Also, if the test data that we have provided is too large to process all at once then we need to specify how the data file should be split up. Since each line is a single entry in our data set we tell SageMaker that it can split the input on each line."
   ]
  },
  {
   "cell_type": "code",
   "execution_count": 47,
   "metadata": {},
   "outputs": [
    {
     "name": "stdout",
     "output_type": "stream",
     "text": [
      ".................................\u001b[34mArguments: serve\u001b[0m\n",
      "\u001b[34m[2021-12-11 00:46:33 +0000] [1] [INFO] Starting gunicorn 19.9.0\u001b[0m\n",
      "\u001b[34m[2021-12-11 00:46:33 +0000] [1] [INFO] Listening at: http://0.0.0.0:8080 (1)\u001b[0m\n",
      "\u001b[34m[2021-12-11 00:46:33 +0000] [1] [INFO] Using worker: gevent\u001b[0m\n",
      "\u001b[34m[2021-12-11 00:46:33 +0000] [22] [INFO] Booting worker with pid: 22\u001b[0m\n",
      "\u001b[34m[2021-12-11 00:46:33 +0000] [23] [INFO] Booting worker with pid: 23\u001b[0m\n",
      "\u001b[34m/opt/amazon/lib/python3.7/site-packages/gunicorn/workers/ggevent.py:65: MonkeyPatchWarning: Monkey-patching ssl after ssl has already been imported may lead to errors, including RecursionError on Python 3.6. It may also silently lead to incorrect behaviour on Python 3.7. Please monkey-patch earlier. See https://github.com/gevent/gevent/issues/1016. Modules that had direct imports (NOT patched): ['urllib3.util (/opt/amazon/lib/python3.7/site-packages/urllib3/util/__init__.py)', 'urllib3.util.ssl_ (/opt/amazon/lib/python3.7/site-packages/urllib3/util/ssl_.py)']. \n",
      "  monkey.patch_all(subprocess=True)\u001b[0m\n",
      "\u001b[34m[2021-12-11:00:46:33:INFO] Model loaded successfully for worker : 22\u001b[0m\n",
      "\u001b[34m/opt/amazon/lib/python3.7/site-packages/gunicorn/workers/ggevent.py:65: MonkeyPatchWarning: Monkey-patching ssl after ssl has already been imported may lead to errors, including RecursionError on Python 3.6. It may also silently lead to incorrect behaviour on Python 3.7. Please monkey-patch earlier. See https://github.com/gevent/gevent/issues/1016. Modules that had direct imports (NOT patched): ['urllib3.util (/opt/amazon/lib/python3.7/site-packages/urllib3/util/__init__.py)', 'urllib3.util.ssl_ (/opt/amazon/lib/python3.7/site-packages/urllib3/util/ssl_.py)']. \n",
      "  monkey.patch_all(subprocess=True)\u001b[0m\n",
      "\u001b[34m[2021-12-11:00:46:33:INFO] Model loaded successfully for worker : 23\u001b[0m\n",
      "\u001b[34m[2021-12-11 00:46:33 +0000] [24] [INFO] Booting worker with pid: 24\u001b[0m\n",
      "\u001b[34m[2021-12-11 00:46:33 +0000] [25] [INFO] Booting worker with pid: 25\u001b[0m\n",
      "\u001b[34m/opt/amazon/lib/python3.7/site-packages/gunicorn/workers/ggevent.py:65: MonkeyPatchWarning: Monkey-patching ssl after ssl has already been imported may lead to errors, including RecursionError on Python 3.6. It may also silently lead to incorrect behaviour on Python 3.7. Please monkey-patch earlier. See https://github.com/gevent/gevent/issues/1016. Modules that had direct imports (NOT patched): ['urllib3.util (/opt/amazon/lib/python3.7/site-packages/urllib3/util/__init__.py)', 'urllib3.util.ssl_ (/opt/amazon/lib/python3.7/site-packages/urllib3/util/ssl_.py)']. \n",
      "  monkey.patch_all(subprocess=True)\u001b[0m\n",
      "\u001b[34m[2021-12-11:00:46:33:INFO] Model loaded successfully for worker : 24\u001b[0m\n",
      "\u001b[34m/opt/amazon/lib/python3.7/site-packages/gunicorn/workers/ggevent.py:65: MonkeyPatchWarning: Monkey-patching ssl after ssl has already been imported may lead to errors, including RecursionError on Python 3.6. It may also silently lead to incorrect behaviour on Python 3.7. Please monkey-patch earlier. See https://github.com/gevent/gevent/issues/1016. Modules that had direct imports (NOT patched): ['urllib3.util (/opt/amazon/lib/python3.7/site-packages/urllib3/util/__init__.py)', 'urllib3.util.ssl_ (/opt/amazon/lib/python3.7/site-packages/urllib3/util/ssl_.py)']. \n",
      "  monkey.patch_all(subprocess=True)\u001b[0m\n",
      "\u001b[34m[2021-12-11:00:46:33:INFO] Model loaded successfully for worker : 25\u001b[0m\n",
      "\u001b[35m2021-12-11T00:46:37.536:[sagemaker logs]: MaxConcurrentTransforms=4, MaxPayloadInMB=6, BatchStrategy=MULTI_RECORD\u001b[0m\n",
      "\u001b[34mArguments: serve\u001b[0m\n",
      "\u001b[34m[2021-12-11 00:46:37 +0000] [1] [INFO] Starting gunicorn 19.9.0\u001b[0m\n",
      "\u001b[34m[2021-12-11 00:46:37 +0000] [1] [INFO] Listening at: http://0.0.0.0:8080 (1)\u001b[0m\n",
      "\u001b[34m[2021-12-11 00:46:37 +0000] [1] [INFO] Using worker: gevent\u001b[0m\n",
      "\u001b[34m[2021-12-11 00:46:37 +0000] [21] [INFO] Booting worker with pid: 21\u001b[0m\n",
      "\u001b[34m[2021-12-11 00:46:38 +0000] [22] [INFO] Booting worker with pid: 22\u001b[0m\n",
      "\u001b[34m[2021-12-11 00:46:38 +0000] [23] [INFO] Booting worker with pid: 23\u001b[0m\n",
      "\u001b[34m/opt/amazon/lib/python3.7/site-packages/gunicorn/workers/ggevent.py:65: MonkeyPatchWarning: Monkey-patching ssl after ssl has already been imported may lead to errors, including RecursionError on Python 3.6. It may also silently lead to incorrect behaviour on Python 3.7. Please monkey-patch earlier. See https://github.com/gevent/gevent/issues/1016. Modules that had direct imports (NOT patched): ['urllib3.util (/opt/amazon/lib/python3.7/site-packages/urllib3/util/__init__.py)', 'urllib3.util.ssl_ (/opt/amazon/lib/python3.7/site-packages/urllib3/util/ssl_.py)']. \n",
      "  monkey.patch_all(subprocess=True)\u001b[0m\n",
      "\u001b[34m/opt/amazon/lib/python3.7/site-packages/gunicorn/workers/ggevent.py:65: MonkeyPatchWarning: Monkey-patching ssl after ssl has already been imported may lead to errors, including RecursionError on Python 3.6. It may also silently lead to incorrect behaviour on Python 3.7. Please monkey-patch earlier. See https://github.com/gevent/gevent/issues/1016. Modules that had direct imports (NOT patched): ['urllib3.util (/opt/amazon/lib/python3.7/site-packages/urllib3/util/__init__.py)', 'urllib3.util.ssl_ (/opt/amazon/lib/python3.7/site-packages/urllib3/util/ssl_.py)']. \n",
      "  monkey.patch_all(subprocess=True)\u001b[0m\n",
      "\u001b[32mArguments: serve\u001b[0m\n",
      "\u001b[32m[2021-12-11 00:46:37 +0000] [1] [INFO] Starting gunicorn 19.9.0\u001b[0m\n",
      "\u001b[32m[2021-12-11 00:46:37 +0000] [1] [INFO] Listening at: http://0.0.0.0:8080 (1)\u001b[0m\n",
      "\u001b[32m[2021-12-11 00:46:37 +0000] [1] [INFO] Using worker: gevent\u001b[0m\n",
      "\u001b[32m[2021-12-11 00:46:37 +0000] [21] [INFO] Booting worker with pid: 21\u001b[0m\n",
      "\u001b[32m[2021-12-11 00:46:38 +0000] [22] [INFO] Booting worker with pid: 22\u001b[0m\n",
      "\u001b[32m[2021-12-11 00:46:38 +0000] [23] [INFO] Booting worker with pid: 23\u001b[0m\n",
      "\u001b[32m/opt/amazon/lib/python3.7/site-packages/gunicorn/workers/ggevent.py:65: MonkeyPatchWarning: Monkey-patching ssl after ssl has already been imported may lead to errors, including RecursionError on Python 3.6. It may also silently lead to incorrect behaviour on Python 3.7. Please monkey-patch earlier. See https://github.com/gevent/gevent/issues/1016. Modules that had direct imports (NOT patched): ['urllib3.util (/opt/amazon/lib/python3.7/site-packages/urllib3/util/__init__.py)', 'urllib3.util.ssl_ (/opt/amazon/lib/python3.7/site-packages/urllib3/util/ssl_.py)']. \n",
      "  monkey.patch_all(subprocess=True)\u001b[0m\n",
      "\u001b[32m/opt/amazon/lib/python3.7/site-packages/gunicorn/workers/ggevent.py:65: MonkeyPatchWarning: Monkey-patching ssl after ssl has already been imported may lead to errors, including RecursionError on Python 3.6. It may also silently lead to incorrect behaviour on Python 3.7. Please monkey-patch earlier. See https://github.com/gevent/gevent/issues/1016. Modules that had direct imports (NOT patched): ['urllib3.util (/opt/amazon/lib/python3.7/site-packages/urllib3/util/__init__.py)', 'urllib3.util.ssl_ (/opt/amazon/lib/python3.7/site-packages/urllib3/util/ssl_.py)']. \n",
      "  monkey.patch_all(subprocess=True)\u001b[0m\n",
      "\u001b[34m/opt/amazon/lib/python3.7/site-packages/gunicorn/workers/ggevent.py:65: MonkeyPatchWarning: Monkey-patching ssl after ssl has already been imported may lead to errors, including RecursionError on Python 3.6. It may also silently lead to incorrect behaviour on Python 3.7. Please monkey-patch earlier. See https://github.com/gevent/gevent/issues/1016. Modules that had direct imports (NOT patched): ['urllib3.util (/opt/amazon/lib/python3.7/site-packages/urllib3/util/__init__.py)', 'urllib3.util.ssl_ (/opt/amazon/lib/python3.7/site-packages/urllib3/util/ssl_.py)']. \n",
      "  monkey.patch_all(subprocess=True)\u001b[0m\n",
      "\u001b[34m[2021-12-11:00:46:38:INFO] Model loaded successfully for worker : 22\u001b[0m\n",
      "\u001b[34m[2021-12-11:00:46:38:INFO] Model loaded successfully for worker : 21\u001b[0m\n",
      "\u001b[34m[2021-12-11:00:46:38:INFO] Model loaded successfully for worker : 23\u001b[0m\n",
      "\u001b[34m[2021-12-11 00:46:38 +0000] [24] [INFO] Booting worker with pid: 24\u001b[0m\n",
      "\u001b[34m/opt/amazon/lib/python3.7/site-packages/gunicorn/workers/ggevent.py:65: MonkeyPatchWarning: Monkey-patching ssl after ssl has already been imported may lead to errors, including RecursionError on Python 3.6. It may also silently lead to incorrect behaviour on Python 3.7. Please monkey-patch earlier. See https://github.com/gevent/gevent/issues/1016. Modules that had direct imports (NOT patched): ['urllib3.util (/opt/amazon/lib/python3.7/site-packages/urllib3/util/__init__.py)', 'urllib3.util.ssl_ (/opt/amazon/lib/python3.7/site-packages/urllib3/util/ssl_.py)']. \n",
      "  monkey.patch_all(subprocess=True)\u001b[0m\n",
      "\u001b[34m[2021-12-11:00:46:38:INFO] Model loaded successfully for worker : 24\u001b[0m\n",
      "\u001b[32m/opt/amazon/lib/python3.7/site-packages/gunicorn/workers/ggevent.py:65: MonkeyPatchWarning: Monkey-patching ssl after ssl has already been imported may lead to errors, including RecursionError on Python 3.6. It may also silently lead to incorrect behaviour on Python 3.7. Please monkey-patch earlier. See https://github.com/gevent/gevent/issues/1016. Modules that had direct imports (NOT patched): ['urllib3.util (/opt/amazon/lib/python3.7/site-packages/urllib3/util/__init__.py)', 'urllib3.util.ssl_ (/opt/amazon/lib/python3.7/site-packages/urllib3/util/ssl_.py)']. \n",
      "  monkey.patch_all(subprocess=True)\u001b[0m\n",
      "\u001b[32m[2021-12-11:00:46:38:INFO] Model loaded successfully for worker : 22\u001b[0m\n",
      "\u001b[32m[2021-12-11:00:46:38:INFO] Model loaded successfully for worker : 21\u001b[0m\n",
      "\u001b[32m[2021-12-11:00:46:38:INFO] Model loaded successfully for worker : 23\u001b[0m\n",
      "\u001b[32m[2021-12-11 00:46:38 +0000] [24] [INFO] Booting worker with pid: 24\u001b[0m\n",
      "\u001b[32m/opt/amazon/lib/python3.7/site-packages/gunicorn/workers/ggevent.py:65: MonkeyPatchWarning: Monkey-patching ssl after ssl has already been imported may lead to errors, including RecursionError on Python 3.6. It may also silently lead to incorrect behaviour on Python 3.7. Please monkey-patch earlier. See https://github.com/gevent/gevent/issues/1016. Modules that had direct imports (NOT patched): ['urllib3.util (/opt/amazon/lib/python3.7/site-packages/urllib3/util/__init__.py)', 'urllib3.util.ssl_ (/opt/amazon/lib/python3.7/site-packages/urllib3/util/ssl_.py)']. \n",
      "  monkey.patch_all(subprocess=True)\u001b[0m\n",
      "\u001b[32m[2021-12-11:00:46:38:INFO] Model loaded successfully for worker : 24\u001b[0m\n",
      "\u001b[33m[2021-12-11:00:46:39:INFO] Sniff delimiter as ','\u001b[0m\n",
      "\u001b[33m[2021-12-11:00:46:39:INFO] Determined delimiter of CSV input is ','\u001b[0m\n",
      "\u001b[33m[2021-12-11:00:46:40:INFO] Sniff delimiter as ','\u001b[0m\n",
      "\u001b[33m[2021-12-11:00:46:40:INFO] Determined delimiter of CSV input is ','\u001b[0m\n",
      "\u001b[33m[2021-12-11:00:46:40:INFO] Sniff delimiter as ','\u001b[0m\n",
      "\u001b[33m[2021-12-11:00:46:40:INFO] Determined delimiter of CSV input is ','\u001b[0m\n",
      "\u001b[33m[2021-12-11:00:46:40:INFO] Sniff delimiter as ','\u001b[0m\n",
      "\u001b[33m[2021-12-11:00:46:40:INFO] Determined delimiter of CSV input is ','\u001b[0m\n",
      "\u001b[33m[2021-12-11:00:46:44:INFO] Sniff delimiter as ','\u001b[0m\n",
      "\u001b[33m[2021-12-11:00:46:44:INFO] Determined delimiter of CSV input is ','\u001b[0m\n",
      "\u001b[35m2021-12-11T00:46:44.069:[sagemaker logs]: MaxConcurrentTransforms=4, MaxPayloadInMB=6, BatchStrategy=MULTI_RECORD\u001b[0m\n",
      "\u001b[36m2021-12-11T00:46:44.069:[sagemaker logs]: MaxConcurrentTransforms=4, MaxPayloadInMB=6, BatchStrategy=MULTI_RECORD\u001b[0m\n",
      "\u001b[33m[2021-12-11:00:46:44:INFO] Sniff delimiter as ','\u001b[0m\n",
      "\u001b[33m[2021-12-11:00:46:44:INFO] Determined delimiter of CSV input is ','\u001b[0m\n",
      "\u001b[33m[2021-12-11:00:46:44:INFO] Sniff delimiter as ','\u001b[0m\n",
      "\u001b[33m[2021-12-11:00:46:44:INFO] Determined delimiter of CSV input is ','\u001b[0m\n",
      "\u001b[33m[2021-12-11:00:46:44:INFO] Sniff delimiter as ','\u001b[0m\n",
      "\u001b[33m[2021-12-11:00:46:44:INFO] Determined delimiter of CSV input is ','\u001b[0m\n",
      "\u001b[33m[2021-12-11:00:46:47:INFO] Sniff delimiter as ','\u001b[0m\n",
      "\u001b[33m[2021-12-11:00:46:47:INFO] Determined delimiter of CSV input is ','\u001b[0m\n",
      "\u001b[33m[2021-12-11:00:46:47:INFO] Sniff delimiter as ','\u001b[0m\n",
      "\u001b[33m[2021-12-11:00:46:47:INFO] Determined delimiter of CSV input is ','\u001b[0m\n",
      "\u001b[33m[2021-12-11:00:46:48:INFO] Sniff delimiter as ','\u001b[0m\n",
      "\u001b[33m[2021-12-11:00:46:48:INFO] Determined delimiter of CSV input is ','\u001b[0m\n",
      "\u001b[33m[2021-12-11:00:46:48:INFO] Sniff delimiter as ','\u001b[0m\n",
      "\u001b[33m[2021-12-11:00:46:48:INFO] Determined delimiter of CSV input is ','\u001b[0m\n",
      "\u001b[33m[2021-12-11:00:46:51:INFO] Sniff delimiter as ','\u001b[0m\n",
      "\u001b[33m[2021-12-11:00:46:51:INFO] Determined delimiter of CSV input is ','\u001b[0m\n",
      "\u001b[33m[2021-12-11:00:46:51:INFO] Sniff delimiter as ','\u001b[0m\n",
      "\u001b[33m[2021-12-11:00:46:51:INFO] Determined delimiter of CSV input is ','\u001b[0m\n",
      "\u001b[33m[2021-12-11:00:46:52:INFO] Sniff delimiter as ','\u001b[0m\n",
      "\u001b[33m[2021-12-11:00:46:52:INFO] Determined delimiter of CSV input is ','\u001b[0m\n",
      "\u001b[33m[2021-12-11:00:46:52:INFO] Sniff delimiter as ','\u001b[0m\n",
      "\u001b[33m[2021-12-11:00:46:52:INFO] Determined delimiter of CSV input is ','\u001b[0m\n",
      "\u001b[33m[2021-12-11:00:46:55:INFO] Sniff delimiter as ','\u001b[0m\n",
      "\u001b[33m[2021-12-11:00:46:55:INFO] Determined delimiter of CSV input is ','\u001b[0m\n",
      "\u001b[33m[2021-12-11:00:46:55:INFO] Sniff delimiter as ','\u001b[0m\n",
      "\u001b[33m[2021-12-11:00:46:55:INFO] Determined delimiter of CSV input is ','\u001b[0m\n",
      "\u001b[33m[2021-12-11:00:46:55:INFO] Sniff delimiter as ','\u001b[0m\n",
      "\u001b[33m[2021-12-11:00:46:55:INFO] Determined delimiter of CSV input is ','\u001b[0m\n",
      "\u001b[33m[2021-12-11:00:46:56:INFO] Sniff delimiter as ','\u001b[0m\n",
      "\u001b[33m[2021-12-11:00:46:56:INFO] Determined delimiter of CSV input is ','\u001b[0m\n",
      "\u001b[33m[2021-12-11:00:46:59:INFO] Sniff delimiter as ','\u001b[0m\n",
      "\u001b[33m[2021-12-11:00:46:59:INFO] Determined delimiter of CSV input is ','\u001b[0m\n",
      "\u001b[33m[2021-12-11:00:46:59:INFO] Sniff delimiter as ','\u001b[0m\n",
      "\u001b[33m[2021-12-11:00:46:59:INFO] Determined delimiter of CSV input is ','\u001b[0m\n",
      "\u001b[33m[2021-12-11:00:46:59:INFO] Sniff delimiter as ','\u001b[0m\n",
      "\u001b[33m[2021-12-11:00:46:59:INFO] Determined delimiter of CSV input is ','\u001b[0m\n",
      "\u001b[33m[2021-12-11:00:46:59:INFO] Sniff delimiter as ','\u001b[0m\n",
      "\u001b[33m[2021-12-11:00:46:59:INFO] Determined delimiter of CSV input is ','\u001b[0m\n",
      "\u001b[33m[2021-12-11:00:47:02:INFO] Sniff delimiter as ','\u001b[0m\n",
      "\u001b[33m[2021-12-11:00:47:02:INFO] Determined delimiter of CSV input is ','\u001b[0m\n",
      "\u001b[33m[2021-12-11:00:47:03:INFO] Sniff delimiter as ','\u001b[0m\n",
      "\u001b[33m[2021-12-11:00:47:03:INFO] Determined delimiter of CSV input is ','\u001b[0m\n",
      "\u001b[33m[2021-12-11:00:47:03:INFO] Sniff delimiter as ','\u001b[0m\n",
      "\u001b[33m[2021-12-11:00:47:03:INFO] Determined delimiter of CSV input is ','\u001b[0m\n",
      "\u001b[33m[2021-12-11:00:47:03:INFO] Sniff delimiter as ','\u001b[0m\n",
      "\u001b[33m[2021-12-11:00:47:03:INFO] Determined delimiter of CSV input is ','\u001b[0m\n",
      "\u001b[33m[2021-12-11:00:47:06:INFO] Sniff delimiter as ','\u001b[0m\n",
      "\u001b[33m[2021-12-11:00:47:06:INFO] Determined delimiter of CSV input is ','\u001b[0m\n",
      "\u001b[33m[2021-12-11:00:47:06:INFO] Sniff delimiter as ','\u001b[0m\n",
      "\u001b[33m[2021-12-11:00:47:06:INFO] Determined delimiter of CSV input is ','\u001b[0m\n",
      "\u001b[33m[2021-12-11:00:47:07:INFO] Sniff delimiter as ','\u001b[0m\n",
      "\u001b[33m[2021-12-11:00:47:07:INFO] Determined delimiter of CSV input is ','\u001b[0m\n",
      "\u001b[33m[2021-12-11:00:47:07:INFO] Sniff delimiter as ','\u001b[0m\n",
      "\u001b[33m[2021-12-11:00:47:07:INFO] Determined delimiter of CSV input is ','\u001b[0m\n",
      "\u001b[33m[2021-12-11:00:47:10:INFO] Sniff delimiter as ','\u001b[0m\n",
      "\u001b[33m[2021-12-11:00:47:10:INFO] Determined delimiter of CSV input is ','\u001b[0m\n",
      "\u001b[33m[2021-12-11:00:47:10:INFO] Sniff delimiter as ','\u001b[0m\n",
      "\u001b[33m[2021-12-11:00:47:10:INFO] Determined delimiter of CSV input is ','\u001b[0m\n",
      "\u001b[33m[2021-12-11:00:47:11:INFO] Sniff delimiter as ','\u001b[0m\n",
      "\u001b[33m[2021-12-11:00:47:11:INFO] Determined delimiter of CSV input is ','\u001b[0m\n",
      "\u001b[33m[2021-12-11:00:47:11:INFO] Sniff delimiter as ','\u001b[0m\n",
      "\u001b[33m[2021-12-11:00:47:11:INFO] Determined delimiter of CSV input is ','\u001b[0m\n",
      "\u001b[33m[2021-12-11:00:47:14:INFO] Sniff delimiter as ','\u001b[0m\n",
      "\u001b[33m[2021-12-11:00:47:14:INFO] Determined delimiter of CSV input is ','\u001b[0m\n",
      "\u001b[33m[2021-12-11:00:47:14:INFO] Sniff delimiter as ','\u001b[0m\n",
      "\u001b[33m[2021-12-11:00:47:14:INFO] Determined delimiter of CSV input is ','\u001b[0m\n",
      "\u001b[33m[2021-12-11:00:47:14:INFO] Sniff delimiter as ','\u001b[0m\n",
      "\u001b[33m[2021-12-11:00:47:14:INFO] Determined delimiter of CSV input is ','\u001b[0m\n",
      "\u001b[33m[2021-12-11:00:47:15:INFO] Sniff delimiter as ','\u001b[0m\n",
      "\u001b[33m[2021-12-11:00:47:15:INFO] Determined delimiter of CSV input is ','\u001b[0m\n",
      "\n"
     ]
    }
   ],
   "source": [
    "# TODO: Start the transform job. Make sure to specify the content type and the split type of the test data.\n",
    "xgb_transformer.transform(\n",
    "    data='s3://edgarin-mlend-c2/all-together/processed-data/test.csv', \n",
    "    data_type='S3Prefix',\n",
    "    content_type='text/csv', \n",
    "    split_type='Line'\n",
    ")"
   ]
  },
  {
   "cell_type": "markdown",
   "metadata": {},
   "source": [
    "Currently the transform job is running but it is doing so in the background. Since we wish to wait until the transform job is done and we would like a bit of feedback we can run the `wait()` method."
   ]
  },
  {
   "cell_type": "code",
   "execution_count": 48,
   "metadata": {},
   "outputs": [
    {
     "name": "stdout",
     "output_type": "stream",
     "text": [
      "\u001b[33mArguments: serve\u001b[0m\n",
      "\u001b[33m[2021-12-11 00:46:33 +0000] [1] [INFO] Starting gunicorn 19.9.0\u001b[0m\n",
      "\u001b[33m[2021-12-11 00:46:33 +0000] [1] [INFO] Listening at: http://0.0.0.0:8080 (1)\u001b[0m\n",
      "\u001b[33m[2021-12-11 00:46:33 +0000] [1] [INFO] Using worker: gevent\u001b[0m\n",
      "\u001b[33m[2021-12-11 00:46:33 +0000] [22] [INFO] Booting worker with pid: 22\u001b[0m\n",
      "\u001b[33m[2021-12-11 00:46:33 +0000] [23] [INFO] Booting worker with pid: 23\u001b[0m\n",
      "\u001b[33m/opt/amazon/lib/python3.7/site-packages/gunicorn/workers/ggevent.py:65: MonkeyPatchWarning: Monkey-patching ssl after ssl has already been imported may lead to errors, including RecursionError on Python 3.6. It may also silently lead to incorrect behaviour on Python 3.7. Please monkey-patch earlier. See https://github.com/gevent/gevent/issues/1016. Modules that had direct imports (NOT patched): ['urllib3.util (/opt/amazon/lib/python3.7/site-packages/urllib3/util/__init__.py)', 'urllib3.util.ssl_ (/opt/amazon/lib/python3.7/site-packages/urllib3/util/ssl_.py)']. \n",
      "  monkey.patch_all(subprocess=True)\u001b[0m\n",
      "\u001b[33m[2021-12-11:00:46:33:INFO] Model loaded successfully for worker : 22\u001b[0m\n",
      "\u001b[33m/opt/amazon/lib/python3.7/site-packages/gunicorn/workers/ggevent.py:65: MonkeyPatchWarning: Monkey-patching ssl after ssl has already been imported may lead to errors, including RecursionError on Python 3.6. It may also silently lead to incorrect behaviour on Python 3.7. Please monkey-patch earlier. See https://github.com/gevent/gevent/issues/1016. Modules that had direct imports (NOT patched): ['urllib3.util (/opt/amazon/lib/python3.7/site-packages/urllib3/util/__init__.py)', 'urllib3.util.ssl_ (/opt/amazon/lib/python3.7/site-packages/urllib3/util/ssl_.py)']. \n",
      "  monkey.patch_all(subprocess=True)\u001b[0m\n",
      "\u001b[33m[2021-12-11:00:46:33:INFO] Model loaded successfully for worker : 23\u001b[0m\n",
      "\u001b[33m[2021-12-11 00:46:33 +0000] [24] [INFO] Booting worker with pid: 24\u001b[0m\n",
      "\u001b[33m[2021-12-11 00:46:33 +0000] [25] [INFO] Booting worker with pid: 25\u001b[0m\n",
      "\u001b[33m/opt/amazon/lib/python3.7/site-packages/gunicorn/workers/ggevent.py:65: MonkeyPatchWarning: Monkey-patching ssl after ssl has already been imported may lead to errors, including RecursionError on Python 3.6. It may also silently lead to incorrect behaviour on Python 3.7. Please monkey-patch earlier. See https://github.com/gevent/gevent/issues/1016. Modules that had direct imports (NOT patched): ['urllib3.util (/opt/amazon/lib/python3.7/site-packages/urllib3/util/__init__.py)', 'urllib3.util.ssl_ (/opt/amazon/lib/python3.7/site-packages/urllib3/util/ssl_.py)']. \n",
      "  monkey.patch_all(subprocess=True)\u001b[0m\n",
      "\u001b[33m[2021-12-11:00:46:33:INFO] Model loaded successfully for worker : 24\u001b[0m\n",
      "\u001b[33m/opt/amazon/lib/python3.7/site-packages/gunicorn/workers/ggevent.py:65: MonkeyPatchWarning: Monkey-patching ssl after ssl has already been imported may lead to errors, including RecursionError on Python 3.6. It may also silently lead to incorrect behaviour on Python 3.7. Please monkey-patch earlier. See https://github.com/gevent/gevent/issues/1016. Modules that had direct imports (NOT patched): ['urllib3.util (/opt/amazon/lib/python3.7/site-packages/urllib3/util/__init__.py)', 'urllib3.util.ssl_ (/opt/amazon/lib/python3.7/site-packages/urllib3/util/ssl_.py)']. \n",
      "  monkey.patch_all(subprocess=True)\u001b[0m\n",
      "\u001b[33m[2021-12-11:00:46:33:INFO] Model loaded successfully for worker : 25\u001b[0m\n",
      "\u001b[34m2021-12-11T00:46:37.536:[sagemaker logs]: MaxConcurrentTransforms=4, MaxPayloadInMB=6, BatchStrategy=MULTI_RECORD\u001b[0m\n",
      "\u001b[34mArguments: serve\u001b[0m\n",
      "\u001b[34m[2021-12-11 00:46:37 +0000] [1] [INFO] Starting gunicorn 19.9.0\u001b[0m\n",
      "\u001b[34m[2021-12-11 00:46:37 +0000] [1] [INFO] Listening at: http://0.0.0.0:8080 (1)\u001b[0m\n",
      "\u001b[34m[2021-12-11 00:46:37 +0000] [1] [INFO] Using worker: gevent\u001b[0m\n",
      "\u001b[34m[2021-12-11 00:46:37 +0000] [21] [INFO] Booting worker with pid: 21\u001b[0m\n",
      "\u001b[34m[2021-12-11 00:46:38 +0000] [22] [INFO] Booting worker with pid: 22\u001b[0m\n",
      "\u001b[34m[2021-12-11 00:46:38 +0000] [23] [INFO] Booting worker with pid: 23\u001b[0m\n",
      "\u001b[34m/opt/amazon/lib/python3.7/site-packages/gunicorn/workers/ggevent.py:65: MonkeyPatchWarning: Monkey-patching ssl after ssl has already been imported may lead to errors, including RecursionError on Python 3.6. It may also silently lead to incorrect behaviour on Python 3.7. Please monkey-patch earlier. See https://github.com/gevent/gevent/issues/1016. Modules that had direct imports (NOT patched): ['urllib3.util (/opt/amazon/lib/python3.7/site-packages/urllib3/util/__init__.py)', 'urllib3.util.ssl_ (/opt/amazon/lib/python3.7/site-packages/urllib3/util/ssl_.py)']. \n",
      "  monkey.patch_all(subprocess=True)\u001b[0m\n",
      "\u001b[34m/opt/amazon/lib/python3.7/site-packages/gunicorn/workers/ggevent.py:65: MonkeyPatchWarning: Monkey-patching ssl after ssl has already been imported may lead to errors, including RecursionError on Python 3.6. It may also silently lead to incorrect behaviour on Python 3.7. Please monkey-patch earlier. See https://github.com/gevent/gevent/issues/1016. Modules that had direct imports (NOT patched): ['urllib3.util (/opt/amazon/lib/python3.7/site-packages/urllib3/util/__init__.py)', 'urllib3.util.ssl_ (/opt/amazon/lib/python3.7/site-packages/urllib3/util/ssl_.py)']. \n",
      "  monkey.patch_all(subprocess=True)\u001b[0m\n",
      "\u001b[32mArguments: serve\u001b[0m\n",
      "\u001b[32m[2021-12-11 00:46:37 +0000] [1] [INFO] Starting gunicorn 19.9.0\u001b[0m\n",
      "\u001b[32m[2021-12-11 00:46:37 +0000] [1] [INFO] Listening at: http://0.0.0.0:8080 (1)\u001b[0m\n",
      "\u001b[32m[2021-12-11 00:46:37 +0000] [1] [INFO] Using worker: gevent\u001b[0m\n",
      "\u001b[32m[2021-12-11 00:46:37 +0000] [21] [INFO] Booting worker with pid: 21\u001b[0m\n",
      "\u001b[32m[2021-12-11 00:46:38 +0000] [22] [INFO] Booting worker with pid: 22\u001b[0m\n",
      "\u001b[32m[2021-12-11 00:46:38 +0000] [23] [INFO] Booting worker with pid: 23\u001b[0m\n",
      "\u001b[32m/opt/amazon/lib/python3.7/site-packages/gunicorn/workers/ggevent.py:65: MonkeyPatchWarning: Monkey-patching ssl after ssl has already been imported may lead to errors, including RecursionError on Python 3.6. It may also silently lead to incorrect behaviour on Python 3.7. Please monkey-patch earlier. See https://github.com/gevent/gevent/issues/1016. Modules that had direct imports (NOT patched): ['urllib3.util (/opt/amazon/lib/python3.7/site-packages/urllib3/util/__init__.py)', 'urllib3.util.ssl_ (/opt/amazon/lib/python3.7/site-packages/urllib3/util/ssl_.py)']. \n",
      "  monkey.patch_all(subprocess=True)\u001b[0m\n",
      "\u001b[32m/opt/amazon/lib/python3.7/site-packages/gunicorn/workers/ggevent.py:65: MonkeyPatchWarning: Monkey-patching ssl after ssl has already been imported may lead to errors, including RecursionError on Python 3.6. It may also silently lead to incorrect behaviour on Python 3.7. Please monkey-patch earlier. See https://github.com/gevent/gevent/issues/1016. Modules that had direct imports (NOT patched): ['urllib3.util (/opt/amazon/lib/python3.7/site-packages/urllib3/util/__init__.py)', 'urllib3.util.ssl_ (/opt/amazon/lib/python3.7/site-packages/urllib3/util/ssl_.py)']. \n",
      "  monkey.patch_all(subprocess=True)\u001b[0m\n",
      "\u001b[34m/opt/amazon/lib/python3.7/site-packages/gunicorn/workers/ggevent.py:65: MonkeyPatchWarning: Monkey-patching ssl after ssl has already been imported may lead to errors, including RecursionError on Python 3.6. It may also silently lead to incorrect behaviour on Python 3.7. Please monkey-patch earlier. See https://github.com/gevent/gevent/issues/1016. Modules that had direct imports (NOT patched): ['urllib3.util (/opt/amazon/lib/python3.7/site-packages/urllib3/util/__init__.py)', 'urllib3.util.ssl_ (/opt/amazon/lib/python3.7/site-packages/urllib3/util/ssl_.py)']. \n",
      "  monkey.patch_all(subprocess=True)\u001b[0m\n",
      "\u001b[34m[2021-12-11:00:46:38:INFO] Model loaded successfully for worker : 22\u001b[0m\n",
      "\u001b[34m[2021-12-11:00:46:38:INFO] Model loaded successfully for worker : 21\u001b[0m\n",
      "\u001b[34m[2021-12-11:00:46:38:INFO] Model loaded successfully for worker : 23\u001b[0m\n",
      "\u001b[34m[2021-12-11 00:46:38 +0000] [24] [INFO] Booting worker with pid: 24\u001b[0m\n",
      "\u001b[34m/opt/amazon/lib/python3.7/site-packages/gunicorn/workers/ggevent.py:65: MonkeyPatchWarning: Monkey-patching ssl after ssl has already been imported may lead to errors, including RecursionError on Python 3.6. It may also silently lead to incorrect behaviour on Python 3.7. Please monkey-patch earlier. See https://github.com/gevent/gevent/issues/1016. Modules that had direct imports (NOT patched): ['urllib3.util (/opt/amazon/lib/python3.7/site-packages/urllib3/util/__init__.py)', 'urllib3.util.ssl_ (/opt/amazon/lib/python3.7/site-packages/urllib3/util/ssl_.py)']. \n",
      "  monkey.patch_all(subprocess=True)\u001b[0m\n",
      "\u001b[34m[2021-12-11:00:46:38:INFO] Model loaded successfully for worker : 24\u001b[0m\n",
      "\u001b[32m/opt/amazon/lib/python3.7/site-packages/gunicorn/workers/ggevent.py:65: MonkeyPatchWarning: Monkey-patching ssl after ssl has already been imported may lead to errors, including RecursionError on Python 3.6. It may also silently lead to incorrect behaviour on Python 3.7. Please monkey-patch earlier. See https://github.com/gevent/gevent/issues/1016. Modules that had direct imports (NOT patched): ['urllib3.util (/opt/amazon/lib/python3.7/site-packages/urllib3/util/__init__.py)', 'urllib3.util.ssl_ (/opt/amazon/lib/python3.7/site-packages/urllib3/util/ssl_.py)']. \n",
      "  monkey.patch_all(subprocess=True)\u001b[0m\n",
      "\u001b[32m[2021-12-11:00:46:38:INFO] Model loaded successfully for worker : 22\u001b[0m\n",
      "\u001b[32m[2021-12-11:00:46:38:INFO] Model loaded successfully for worker : 21\u001b[0m\n",
      "\u001b[32m[2021-12-11:00:46:38:INFO] Model loaded successfully for worker : 23\u001b[0m\n",
      "\u001b[32m[2021-12-11 00:46:38 +0000] [24] [INFO] Booting worker with pid: 24\u001b[0m\n",
      "\u001b[32m/opt/amazon/lib/python3.7/site-packages/gunicorn/workers/ggevent.py:65: MonkeyPatchWarning: Monkey-patching ssl after ssl has already been imported may lead to errors, including RecursionError on Python 3.6. It may also silently lead to incorrect behaviour on Python 3.7. Please monkey-patch earlier. See https://github.com/gevent/gevent/issues/1016. Modules that had direct imports (NOT patched): ['urllib3.util (/opt/amazon/lib/python3.7/site-packages/urllib3/util/__init__.py)', 'urllib3.util.ssl_ (/opt/amazon/lib/python3.7/site-packages/urllib3/util/ssl_.py)']. \n",
      "  monkey.patch_all(subprocess=True)\u001b[0m\n",
      "\u001b[32m[2021-12-11:00:46:38:INFO] Model loaded successfully for worker : 24\u001b[0m\n",
      "\u001b[33m[2021-12-11:00:46:39:INFO] Sniff delimiter as ','\u001b[0m\n",
      "\u001b[33m[2021-12-11:00:46:39:INFO] Determined delimiter of CSV input is ','\u001b[0m\n",
      "\u001b[33m[2021-12-11:00:46:40:INFO] Sniff delimiter as ','\u001b[0m\n",
      "\u001b[33m[2021-12-11:00:46:40:INFO] Determined delimiter of CSV input is ','\u001b[0m\n",
      "\u001b[33m[2021-12-11:00:46:40:INFO] Sniff delimiter as ','\u001b[0m\n",
      "\u001b[33m[2021-12-11:00:46:40:INFO] Determined delimiter of CSV input is ','\u001b[0m\n",
      "\u001b[33m[2021-12-11:00:46:40:INFO] Sniff delimiter as ','\u001b[0m\n",
      "\u001b[33m[2021-12-11:00:46:40:INFO] Determined delimiter of CSV input is ','\u001b[0m\n",
      "\u001b[33m[2021-12-11:00:46:44:INFO] Sniff delimiter as ','\u001b[0m\n",
      "\u001b[33m[2021-12-11:00:46:44:INFO] Determined delimiter of CSV input is ','\u001b[0m\n",
      "\u001b[35m2021-12-11T00:46:44.069:[sagemaker logs]: MaxConcurrentTransforms=4, MaxPayloadInMB=6, BatchStrategy=MULTI_RECORD\u001b[0m\n",
      "\u001b[36m2021-12-11T00:46:44.069:[sagemaker logs]: MaxConcurrentTransforms=4, MaxPayloadInMB=6, BatchStrategy=MULTI_RECORD\u001b[0m\n",
      "\u001b[33m[2021-12-11:00:46:44:INFO] Sniff delimiter as ','\u001b[0m\n",
      "\u001b[33m[2021-12-11:00:46:44:INFO] Determined delimiter of CSV input is ','\u001b[0m\n",
      "\u001b[33m[2021-12-11:00:46:44:INFO] Sniff delimiter as ','\u001b[0m\n",
      "\u001b[33m[2021-12-11:00:46:44:INFO] Determined delimiter of CSV input is ','\u001b[0m\n",
      "\u001b[33m[2021-12-11:00:46:44:INFO] Sniff delimiter as ','\u001b[0m\n",
      "\u001b[33m[2021-12-11:00:46:44:INFO] Determined delimiter of CSV input is ','\u001b[0m\n",
      "\u001b[33m[2021-12-11:00:46:47:INFO] Sniff delimiter as ','\u001b[0m\n",
      "\u001b[33m[2021-12-11:00:46:47:INFO] Determined delimiter of CSV input is ','\u001b[0m\n",
      "\u001b[33m[2021-12-11:00:46:47:INFO] Sniff delimiter as ','\u001b[0m\n",
      "\u001b[33m[2021-12-11:00:46:47:INFO] Determined delimiter of CSV input is ','\u001b[0m\n",
      "\u001b[33m[2021-12-11:00:46:48:INFO] Sniff delimiter as ','\u001b[0m\n",
      "\u001b[33m[2021-12-11:00:46:48:INFO] Determined delimiter of CSV input is ','\u001b[0m\n",
      "\u001b[33m[2021-12-11:00:46:48:INFO] Sniff delimiter as ','\u001b[0m\n",
      "\u001b[33m[2021-12-11:00:46:48:INFO] Determined delimiter of CSV input is ','\u001b[0m\n",
      "\u001b[33m[2021-12-11:00:46:51:INFO] Sniff delimiter as ','\u001b[0m\n",
      "\u001b[33m[2021-12-11:00:46:51:INFO] Determined delimiter of CSV input is ','\u001b[0m\n",
      "\u001b[33m[2021-12-11:00:46:51:INFO] Sniff delimiter as ','\u001b[0m\n",
      "\u001b[33m[2021-12-11:00:46:51:INFO] Determined delimiter of CSV input is ','\u001b[0m\n",
      "\u001b[33m[2021-12-11:00:46:52:INFO] Sniff delimiter as ','\u001b[0m\n",
      "\u001b[33m[2021-12-11:00:46:52:INFO] Determined delimiter of CSV input is ','\u001b[0m\n",
      "\u001b[33m[2021-12-11:00:46:52:INFO] Sniff delimiter as ','\u001b[0m\n",
      "\u001b[33m[2021-12-11:00:46:52:INFO] Determined delimiter of CSV input is ','\u001b[0m\n",
      "\u001b[33m[2021-12-11:00:46:55:INFO] Sniff delimiter as ','\u001b[0m\n",
      "\u001b[33m[2021-12-11:00:46:55:INFO] Determined delimiter of CSV input is ','\u001b[0m\n",
      "\u001b[33m[2021-12-11:00:46:55:INFO] Sniff delimiter as ','\u001b[0m\n",
      "\u001b[33m[2021-12-11:00:46:55:INFO] Determined delimiter of CSV input is ','\u001b[0m\n",
      "\u001b[33m[2021-12-11:00:46:55:INFO] Sniff delimiter as ','\u001b[0m\n",
      "\u001b[33m[2021-12-11:00:46:55:INFO] Determined delimiter of CSV input is ','\u001b[0m\n",
      "\u001b[33m[2021-12-11:00:46:56:INFO] Sniff delimiter as ','\u001b[0m\n",
      "\u001b[33m[2021-12-11:00:46:56:INFO] Determined delimiter of CSV input is ','\u001b[0m\n",
      "\u001b[33m[2021-12-11:00:46:59:INFO] Sniff delimiter as ','\u001b[0m\n",
      "\u001b[33m[2021-12-11:00:46:59:INFO] Determined delimiter of CSV input is ','\u001b[0m\n",
      "\u001b[33m[2021-12-11:00:46:59:INFO] Sniff delimiter as ','\u001b[0m\n",
      "\u001b[33m[2021-12-11:00:46:59:INFO] Determined delimiter of CSV input is ','\u001b[0m\n",
      "\u001b[33m[2021-12-11:00:46:59:INFO] Sniff delimiter as ','\u001b[0m\n",
      "\u001b[33m[2021-12-11:00:46:59:INFO] Determined delimiter of CSV input is ','\u001b[0m\n",
      "\u001b[33m[2021-12-11:00:46:59:INFO] Sniff delimiter as ','\u001b[0m\n",
      "\u001b[33m[2021-12-11:00:46:59:INFO] Determined delimiter of CSV input is ','\u001b[0m\n",
      "\u001b[33m[2021-12-11:00:47:02:INFO] Sniff delimiter as ','\u001b[0m\n",
      "\u001b[33m[2021-12-11:00:47:02:INFO] Determined delimiter of CSV input is ','\u001b[0m\n",
      "\u001b[33m[2021-12-11:00:47:03:INFO] Sniff delimiter as ','\u001b[0m\n",
      "\u001b[33m[2021-12-11:00:47:03:INFO] Determined delimiter of CSV input is ','\u001b[0m\n",
      "\u001b[33m[2021-12-11:00:47:03:INFO] Sniff delimiter as ','\u001b[0m\n",
      "\u001b[33m[2021-12-11:00:47:03:INFO] Determined delimiter of CSV input is ','\u001b[0m\n",
      "\u001b[33m[2021-12-11:00:47:03:INFO] Sniff delimiter as ','\u001b[0m\n",
      "\u001b[33m[2021-12-11:00:47:03:INFO] Determined delimiter of CSV input is ','\u001b[0m\n",
      "\u001b[33m[2021-12-11:00:47:06:INFO] Sniff delimiter as ','\u001b[0m\n",
      "\u001b[33m[2021-12-11:00:47:06:INFO] Determined delimiter of CSV input is ','\u001b[0m\n",
      "\u001b[33m[2021-12-11:00:47:06:INFO] Sniff delimiter as ','\u001b[0m\n",
      "\u001b[33m[2021-12-11:00:47:06:INFO] Determined delimiter of CSV input is ','\u001b[0m\n",
      "\u001b[33m[2021-12-11:00:47:07:INFO] Sniff delimiter as ','\u001b[0m\n",
      "\u001b[33m[2021-12-11:00:47:07:INFO] Determined delimiter of CSV input is ','\u001b[0m\n",
      "\u001b[33m[2021-12-11:00:47:07:INFO] Sniff delimiter as ','\u001b[0m\n",
      "\u001b[33m[2021-12-11:00:47:07:INFO] Determined delimiter of CSV input is ','\u001b[0m\n",
      "\u001b[33m[2021-12-11:00:47:10:INFO] Sniff delimiter as ','\u001b[0m\n",
      "\u001b[33m[2021-12-11:00:47:10:INFO] Determined delimiter of CSV input is ','\u001b[0m\n",
      "\u001b[33m[2021-12-11:00:47:10:INFO] Sniff delimiter as ','\u001b[0m\n",
      "\u001b[33m[2021-12-11:00:47:10:INFO] Determined delimiter of CSV input is ','\u001b[0m\n",
      "\u001b[33m[2021-12-11:00:47:11:INFO] Sniff delimiter as ','\u001b[0m\n",
      "\u001b[33m[2021-12-11:00:47:11:INFO] Determined delimiter of CSV input is ','\u001b[0m\n",
      "\u001b[33m[2021-12-11:00:47:11:INFO] Sniff delimiter as ','\u001b[0m\n",
      "\u001b[33m[2021-12-11:00:47:11:INFO] Determined delimiter of CSV input is ','\u001b[0m\n",
      "\u001b[33m[2021-12-11:00:47:14:INFO] Sniff delimiter as ','\u001b[0m\n",
      "\u001b[33m[2021-12-11:00:47:14:INFO] Determined delimiter of CSV input is ','\u001b[0m\n",
      "\u001b[33m[2021-12-11:00:47:14:INFO] Sniff delimiter as ','\u001b[0m\n",
      "\u001b[33m[2021-12-11:00:47:14:INFO] Determined delimiter of CSV input is ','\u001b[0m\n",
      "\u001b[33m[2021-12-11:00:47:14:INFO] Sniff delimiter as ','\u001b[0m\n",
      "\u001b[33m[2021-12-11:00:47:14:INFO] Determined delimiter of CSV input is ','\u001b[0m\n",
      "\u001b[33m[2021-12-11:00:47:15:INFO] Sniff delimiter as ','\u001b[0m\n",
      "\u001b[33m[2021-12-11:00:47:15:INFO] Determined delimiter of CSV input is ','\u001b[0m\n"
     ]
    }
   ],
   "source": [
    "xgb_transformer.wait()"
   ]
  },
  {
   "cell_type": "markdown",
   "metadata": {},
   "source": [
    "Now the transform job has executed and the result, the estimated sentiment of each review, has been saved on S3. Since we would rather work on this file locally we can perform a bit of notebook magic to copy the file to the `data_dir`."
   ]
  },
  {
   "cell_type": "code",
   "execution_count": 49,
   "metadata": {},
   "outputs": [
    {
     "name": "stdout",
     "output_type": "stream",
     "text": [
      "download: s3://edgarin-mlend-c2/all-together/batch-inference-output/test.csv.out to data/xgboost/test.csv.out\n"
     ]
    }
   ],
   "source": [
    "!aws s3 cp --recursive $xgb_transformer.output_path $data_dir"
   ]
  },
  {
   "cell_type": "markdown",
   "metadata": {},
   "source": [
    "The last step is now to read in the output from our model, convert the output to something a little more usable, in this case we want the sentiment to be either `1` (positive) or `0` (negative), and then compare to the ground truth labels."
   ]
  },
  {
   "cell_type": "code",
   "execution_count": 50,
   "metadata": {},
   "outputs": [],
   "source": [
    "predictions = pd.read_csv(os.path.join(data_dir, 'test.csv.out'), header=None)\n",
    "predictions = [round(num) for num in predictions.squeeze().values]"
   ]
  },
  {
   "cell_type": "code",
   "execution_count": 54,
   "metadata": {},
   "outputs": [
    {
     "data": {
      "text/plain": [
       "0.86432"
      ]
     },
     "execution_count": 54,
     "metadata": {},
     "output_type": "execute_result"
    }
   ],
   "source": [
    "from sklearn.metrics import accuracy_score\n",
    "accuracy_score(test_y, predictions)"
   ]
  },
  {
   "cell_type": "markdown",
   "metadata": {},
   "source": [
    "## Optional: Clean up\n"
   ]
  },
  {
   "cell_type": "code",
   "execution_count": null,
   "metadata": {},
   "outputs": [],
   "source": [
    "# First we will remove all of the files contained in the data_dir directory\n",
    "!rm $data_dir/*\n",
    "\n",
    "# And then we delete the directory itself\n",
    "!rmdir $data_dir\n",
    "\n",
    "# Similarly we will remove the files in the cache_dir directory and the directory itself\n",
    "!rm $cache_dir/*\n",
    "!rmdir $cache_dir"
   ]
  }
 ],
 "metadata": {
  "kernelspec": {
   "display_name": "Python 3 (Data Science)",
   "language": "python",
   "name": "python3__SAGEMAKER_INTERNAL__arn:aws:sagemaker:us-east-1:081325390199:image/datascience-1.0"
  },
  "language_info": {
   "codemirror_mode": {
    "name": "ipython",
    "version": 3
   },
   "file_extension": ".py",
   "mimetype": "text/x-python",
   "name": "python",
   "nbconvert_exporter": "python",
   "pygments_lexer": "ipython3",
   "version": "3.7.10"
  }
 },
 "nbformat": 4,
 "nbformat_minor": 4
}
