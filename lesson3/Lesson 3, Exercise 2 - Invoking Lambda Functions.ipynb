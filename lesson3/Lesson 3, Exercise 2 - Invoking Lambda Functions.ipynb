{
 "cells": [
  {
   "cell_type": "markdown",
   "metadata": {},
   "source": [
    "# UDACITY : Designing Your First Workflow - Invoking Lambda Functions"
   ]
  },
  {
   "cell_type": "markdown",
   "metadata": {},
   "source": [
    "In the last exercise, you created your own Lambda function. Without realizing it, you've already practiced invoking as well! Launching a test event is an example of synchronous invocation. In this exercise, you will continue working on the lambda function 'PreprocessLambda' from the previous exercise. However, you'll practice a different way to launch asynchronous invocation, and also practice the setup of an asynchronous invocation.\n",
    "These are only two examples. Lambda is one of the most flexible offerings in AWS and can be utilized in a variety of applications. The same Lambda function can be (and often is) both invoked synchronously and asynchronously."
   ]
  },
  {
   "cell_type": "markdown",
   "metadata": {},
   "source": [
    "## Exercise: Synchronous invocation "
   ]
  },
  {
   "cell_type": "markdown",
   "metadata": {},
   "source": [
    "Synchronous invocations occur when a call is made to a Lambda function and a response is waited for. The example we're asking you to implement is a CLI invocation, but Lambda functions can also be placed behind Amazon's API Gateway for potential users to directly invoke a Lambda function. This, in turn, could be the interface that you expose to users to allow them to interact with other AWS resources. These types of invocations are great for \"get\" and \"set\" methods."
   ]
  },
  {
   "cell_type": "markdown",
   "metadata": {},
   "source": [
    "Your task is to synchronously invoke the Lambda function you implemented in the last exercise using the CLI. The following documentation may be useful to you: https://docs.aws.amazon.com/lambda/latest/dg/invocation-sync.html \n",
    "\n",
    "You will need to attach the LambdaFullAccess policy to the SageMaker execution role used for your notebook. Once done, it will take a few minutes for the policy to register.  "
   ]
  },
  {
   "cell_type": "code",
   "execution_count": 2,
   "metadata": {},
   "outputs": [
    {
     "data": {
      "text/plain": [
       "'arn:aws:iam::114256180253:role/service-role/AmazonSageMaker-ExecutionRole-20211127T235743'"
      ]
     },
     "execution_count": 2,
     "metadata": {},
     "output_type": "execute_result"
    }
   ],
   "source": [
    "from sagemaker import get_execution_role\n",
    "role = get_execution_role()\n",
    "role"
   ]
  },
  {
   "cell_type": "code",
   "execution_count": 13,
   "metadata": {},
   "outputs": [
    {
     "name": "stdout",
     "output_type": "stream",
     "text": [
      "{\n",
      "    \"StatusCode\": 200,\n",
      "    \"ExecutedVersion\": \"$LATEST\"\n",
      "}\n"
     ]
    }
   ],
   "source": [
    "%%bash\n",
    "aws lambda invoke --function-name hello-lambda --payload '{ \"key\": \"value\" }' response.json"
   ]
  },
  {
   "cell_type": "markdown",
   "metadata": {},
   "source": [
    "## Exercise: Asynchronous invocation "
   ]
  },
  {
   "cell_type": "markdown",
   "metadata": {},
   "source": [
    "Asynchronous invocations occur when a service invokes lambda but does not wait for a response. The two most popular services that utilize asynchronous invocations are S3 (the storage we've been using) and SNS (Simple Notification Service.) We'll be setting up asynchronous invocations on an S3 bucket for our preprocessing function."
   ]
  },
  {
   "cell_type": "markdown",
   "metadata": {},
   "source": [
    "Your task is to setup a trigger for the Lambda function we've been working  whenever a file is uploaded to a specific folder in S3. You will need to do the following:\n",
    "\n",
    "* Create a new s3 folder within an existing bucket. \n",
    "* Create a new lambda trigger for S3 by clicking '+Add trigger'. Specifying the bucket. Specify a prefix of the desired folder. Specify a suffix of \".zip\" to ensure that recursive calls don't occur. \n",
    "* Modify the lambda handler in the previous exercise using the starter code so that it properly parses the event that's sent to it. \n",
    "\n",
    "To test, upload reviews_Patio_Lawn_and_Garden_5.json.zip in this directory to your S3 bucket. \n",
    "To see if the lambda function is triggered, you can go to the Monitor tab. \n",
    "\n"
   ]
  },
  {
   "cell_type": "markdown",
   "metadata": {},
   "source": [
    "## Lambda Handler Starter Code: Parsing S3 Upload Event. "
   ]
  },
  {
   "cell_type": "code",
   "execution_count": null,
   "metadata": {},
   "outputs": [],
   "source": [
    "# Todo: write a lambda_handler function here.\n",
    "# The code to parse S3 event has provided to you, you only need to call the `preprocess` from the HelloBlazePreprocessLambda.py and return the status.\n",
    "import json\n",
    "import urllib\n",
    "\n",
    "'''\n",
    "{\n",
    "    \"Records\": [\n",
    "        {\n",
    "            \"eventVersion\": \"2.1\",\n",
    "            \"eventSource\": \"aws:s3\",\n",
    "            \"awsRegion\": \"us-east-1\",\n",
    "            \"eventTime\": \"2021-12-15T02:33:38.448Z\",\n",
    "            \"eventName\": \"ObjectCreated:Put\",\n",
    "            \"userIdentity\": {\n",
    "                \"principalId\": \"AWS:AROARVGRS6QOVSFEXGQFW:user1680226=11299473089\"\n",
    "            },\n",
    "            \"requestParameters\": {\n",
    "                \"sourceIPAddress\": \"181.188.160.149\"\n",
    "            },\n",
    "            \"responseElements\": {\n",
    "                \"x-amz-request-id\": \"7Q3BAY680CVSN9MH\",\n",
    "                \"x-amz-id-2\": \"gvhPcJBLXJ1okqpTZWvyxCJW4uQPabavjo4lK0fkKUJr8kzvRC+8HQ3d3nv5d2B33d0UtArY+Et6XmMe2QXpdjfeOLA7GgJs2dAJ15lGpn0=\"\n",
    "            },\n",
    "            \"s3\": {\n",
    "                \"s3SchemaVersion\": \"1.0\",\n",
    "                \"configurationId\": \"3961582c-de26-4fd8-a116-e3ac341bf357\",\n",
    "                \"bucket\": {\n",
    "                    \"name\": \"edgarin-mlend-c2\",\n",
    "                    \"ownerIdentity\": {\n",
    "                        \"principalId\": \"A1RJ3JL50VKM38\"\n",
    "                    },\n",
    "                    \"arn\": \"arn:aws:s3:::edgarin-mlend-c2\"\n",
    "                },\n",
    "                \"object\": {\n",
    "                    \"key\": \"s3-events/reviews_Patio_Lawn_and_Garden_5.json.zip\",\n",
    "                    \"size\": 4981803,\n",
    "                    \"eTag\": \"a9679b8a406b7f35cbe79e3fa5fa63eb\",\n",
    "                    \"sequencer\": \"0061B954025A1C81D6\"\n",
    "                }\n",
    "            }\n",
    "        }\n",
    "    ]\n",
    "}\n",
    "'''\n",
    "\n",
    "for r in event['Records']:\n",
    "        bucket = r['s3']['bucket']['name']\n",
    "        key = urllib.parse.unquote_plus(r['s3']['object']['key'], encoding='utf-8')\n",
    "        uri = \"/\".join([bucket, key])"
   ]
  }
 ],
 "metadata": {
  "instance_type": "ml.t3.medium",
  "kernelspec": {
   "display_name": "Python 3 (Data Science)",
   "language": "python",
   "name": "python3__SAGEMAKER_INTERNAL__arn:aws:sagemaker:us-east-1:081325390199:image/datascience-1.0"
  },
  "language_info": {
   "codemirror_mode": {
    "name": "ipython",
    "version": 3
   },
   "file_extension": ".py",
   "mimetype": "text/x-python",
   "name": "python",
   "nbconvert_exporter": "python",
   "pygments_lexer": "ipython3",
   "version": "3.7.10"
  }
 },
 "nbformat": 4,
 "nbformat_minor": 5
}
