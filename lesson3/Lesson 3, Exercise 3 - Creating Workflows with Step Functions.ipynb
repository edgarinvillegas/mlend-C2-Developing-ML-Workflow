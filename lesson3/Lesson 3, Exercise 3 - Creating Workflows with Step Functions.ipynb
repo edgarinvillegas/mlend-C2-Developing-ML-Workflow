{
 "cells": [
  {
   "cell_type": "markdown",
   "metadata": {},
   "source": [
    "# UDACITY Designing Your First Workflow - Step Functions"
   ]
  },
  {
   "cell_type": "markdown",
   "metadata": {},
   "source": [
    "## Step Functions & SageMaker"
   ]
  },
  {
   "cell_type": "markdown",
   "metadata": {},
   "source": [
    "In the prior exercises, we've been working with many small services. This can be overwhelming for a data scientist that wants to establish a consistent methodology for handling data. Step Functions is an orchestration service that can allow us to utilize SageMaker in a methodical and consistent way. Step Functions also integrates with Lambda, which can allow us to potentially automate our entire machine learning pipeline end-to-end. Let's get a handle on what a 'step' in a step function looks like.\n",
    "\n",
    "In this exercise, you will create a preprocessing step and a training step. Then you will create a step function to chain the two steps."
   ]
  },
  {
   "cell_type": "markdown",
   "metadata": {},
   "source": [
    "## Exercise: Grant Permissions and install packages."
   ]
  },
  {
   "cell_type": "markdown",
   "metadata": {},
   "source": [
    "Attach the IAMFullAccess and the StepFunctionsFullAccess polices to your SageMaker execution role."
   ]
  },
  {
   "cell_type": "code",
   "execution_count": 7,
   "metadata": {},
   "outputs": [
    {
     "name": "stdout",
     "output_type": "stream",
     "text": [
      "Requirement already satisfied: stepfunctions in /opt/conda/lib/python3.7/site-packages (2.2.0)\n",
      "Requirement already satisfied: sagemaker>=2.1.0 in /opt/conda/lib/python3.7/site-packages (from stepfunctions) (2.70.0)\n",
      "Requirement already satisfied: pyyaml in /opt/conda/lib/python3.7/site-packages (from stepfunctions) (6.0)\n",
      "Requirement already satisfied: boto3>=1.14.38 in /opt/conda/lib/python3.7/site-packages (from stepfunctions) (1.20.23)\n",
      "Requirement already satisfied: s3transfer<0.6.0,>=0.5.0 in /opt/conda/lib/python3.7/site-packages (from boto3>=1.14.38->stepfunctions) (0.5.0)\n",
      "Requirement already satisfied: botocore<1.24.0,>=1.23.23 in /opt/conda/lib/python3.7/site-packages (from boto3>=1.14.38->stepfunctions) (1.23.23)\n",
      "Requirement already satisfied: jmespath<1.0.0,>=0.7.1 in /opt/conda/lib/python3.7/site-packages (from boto3>=1.14.38->stepfunctions) (0.10.0)\n",
      "Requirement already satisfied: pandas in /opt/conda/lib/python3.7/site-packages (from sagemaker>=2.1.0->stepfunctions) (1.0.1)\n",
      "Requirement already satisfied: attrs in /opt/conda/lib/python3.7/site-packages (from sagemaker>=2.1.0->stepfunctions) (19.3.0)\n",
      "Requirement already satisfied: protobuf>=3.1 in /opt/conda/lib/python3.7/site-packages (from sagemaker>=2.1.0->stepfunctions) (3.19.1)\n",
      "Requirement already satisfied: numpy>=1.9.0 in /opt/conda/lib/python3.7/site-packages (from sagemaker>=2.1.0->stepfunctions) (1.20.3)\n",
      "Requirement already satisfied: smdebug-rulesconfig==1.0.1 in /opt/conda/lib/python3.7/site-packages (from sagemaker>=2.1.0->stepfunctions) (1.0.1)\n",
      "Requirement already satisfied: packaging>=20.0 in /opt/conda/lib/python3.7/site-packages (from sagemaker>=2.1.0->stepfunctions) (20.1)\n",
      "Requirement already satisfied: pathos in /opt/conda/lib/python3.7/site-packages (from sagemaker>=2.1.0->stepfunctions) (0.2.8)\n",
      "Requirement already satisfied: protobuf3-to-dict>=0.1.5 in /opt/conda/lib/python3.7/site-packages (from sagemaker>=2.1.0->stepfunctions) (0.1.5)\n",
      "Requirement already satisfied: importlib-metadata>=1.4.0 in /opt/conda/lib/python3.7/site-packages (from sagemaker>=2.1.0->stepfunctions) (1.5.0)\n",
      "Requirement already satisfied: google-pasta in /opt/conda/lib/python3.7/site-packages (from sagemaker>=2.1.0->stepfunctions) (0.2.0)\n",
      "Requirement already satisfied: urllib3<1.27,>=1.25.4 in /opt/conda/lib/python3.7/site-packages (from botocore<1.24.0,>=1.23.23->boto3>=1.14.38->stepfunctions) (1.26.7)\n",
      "Requirement already satisfied: python-dateutil<3.0.0,>=2.1 in /opt/conda/lib/python3.7/site-packages (from botocore<1.24.0,>=1.23.23->boto3>=1.14.38->stepfunctions) (2.8.1)\n",
      "Requirement already satisfied: zipp>=0.5 in /opt/conda/lib/python3.7/site-packages (from importlib-metadata>=1.4.0->sagemaker>=2.1.0->stepfunctions) (2.2.0)\n",
      "Requirement already satisfied: six in /opt/conda/lib/python3.7/site-packages (from packaging>=20.0->sagemaker>=2.1.0->stepfunctions) (1.14.0)\n",
      "Requirement already satisfied: pyparsing>=2.0.2 in /opt/conda/lib/python3.7/site-packages (from packaging>=20.0->sagemaker>=2.1.0->stepfunctions) (2.4.6)\n",
      "Requirement already satisfied: pytz>=2017.2 in /opt/conda/lib/python3.7/site-packages (from pandas->sagemaker>=2.1.0->stepfunctions) (2019.3)\n",
      "Requirement already satisfied: dill>=0.3.4 in /opt/conda/lib/python3.7/site-packages (from pathos->sagemaker>=2.1.0->stepfunctions) (0.3.4)\n",
      "Requirement already satisfied: multiprocess>=0.70.12 in /opt/conda/lib/python3.7/site-packages (from pathos->sagemaker>=2.1.0->stepfunctions) (0.70.12.2)\n",
      "Requirement already satisfied: ppft>=1.6.6.4 in /opt/conda/lib/python3.7/site-packages (from pathos->sagemaker>=2.1.0->stepfunctions) (1.6.6.4)\n",
      "Requirement already satisfied: pox>=0.3.0 in /opt/conda/lib/python3.7/site-packages (from pathos->sagemaker>=2.1.0->stepfunctions) (0.3.0)\n"
     ]
    },
    {
     "name": "stderr",
     "output_type": "stream",
     "text": [
      "/opt/conda/lib/python3.7/site-packages/secretstorage/dhcrypto.py:16: CryptographyDeprecationWarning: int_from_bytes is deprecated, use int.from_bytes instead\n",
      "  from cryptography.utils import int_from_bytes\n",
      "/opt/conda/lib/python3.7/site-packages/secretstorage/util.py:25: CryptographyDeprecationWarning: int_from_bytes is deprecated, use int.from_bytes instead\n",
      "  from cryptography.utils import int_from_bytes\n",
      "WARNING: Running pip as the 'root' user can result in broken permissions and conflicting behaviour with the system package manager. It is recommended to use a virtual environment instead: https://pip.pypa.io/warnings/venv\n"
     ]
    }
   ],
   "source": [
    "%%bash\n",
    "pip install stepfunctions"
   ]
  },
  {
   "cell_type": "markdown",
   "metadata": {},
   "source": [
    "## Exercise: Fill out preprocessing step."
   ]
  },
  {
   "cell_type": "markdown",
   "metadata": {},
   "source": [
    "The 'step' interface is designed to be quite similar to the Preprocessing Job in lesson 2. The main difference between these is the ability of a 'step' to interface with other steps. Given the successful outcome of a single step, the next step specified in a workflow will automatically continue. In our case, a training step will launch given the successful outcome of a preprocessing step. The preprocessing step has been encoded for you. Upload the preprocessing code 'HelloBlazePreprocess.py' and the zipped dataset 'reviews_Musical_Instruments_5.json.zip' to s3, and fill out the constants in the code below. "
   ]
  },
  {
   "cell_type": "markdown",
   "metadata": {},
   "source": [
    "Code below is the preprocessing step. Fill in the constants in the code."
   ]
  },
  {
   "cell_type": "code",
   "execution_count": 8,
   "metadata": {},
   "outputs": [
    {
     "data": {
      "text/plain": [
       "SageMaker pre-processing step 4 ProcessingStep(resource='arn:aws:states:::sagemaker:createProcessingJob.sync', parameters={'ProcessingJobName': 'stepf-instruments-process-job5', 'ProcessingInputs': [{'InputName': 'input-1', 'AppManaged': False, 'S3Input': {'S3Uri': 's3://edgarin-mlend-c2/toys/instruments/reviews_Musical_Instruments_5.json.zip', 'LocalPath': '/opt/ml/processing/input', 'S3DataType': 'S3Prefix', 'S3InputMode': 'File', 'S3DataDistributionType': 'FullyReplicated', 'S3CompressionType': 'None'}}, {'InputName': 'code', 'AppManaged': False, 'S3Input': {'S3Uri': 's3://edgarin-mlend-c2/toys/instruments/stepfunctions/HelloBlazePreprocess.py', 'LocalPath': '/opt/ml/processing/input/code', 'S3DataType': 'S3Prefix', 'S3InputMode': 'File', 'S3DataDistributionType': 'FullyReplicated', 'S3CompressionType': 'None'}}], 'ProcessingOutputConfig': {'Outputs': [{'OutputName': 'train_data', 'AppManaged': False, 'S3Output': {'S3Uri': 's3://edgarin-mlend-c2/toys/instruments/stepfunctions/input-procesado-con-job-4/blaze_train_scikit/', 'LocalPath': '/opt/ml/processing/output/train', 'S3UploadMode': 'EndOfJob'}}, {'OutputName': 'test_data', 'AppManaged': False, 'S3Output': {'S3Uri': 's3://edgarin-mlend-c2/toys/instruments/stepfunctions/input-procesado-con-job-4/blaze_test_scikit/', 'LocalPath': '/opt/ml/processing/output/test', 'S3UploadMode': 'EndOfJob'}}]}, 'AppSpecification': {'ImageUri': '683313688378.dkr.ecr.us-east-1.amazonaws.com/sagemaker-scikit-learn:0.20.0-cpu-py3', 'ContainerEntrypoint': ['python3', '/opt/ml/processing/input/code/HelloBlazePreprocess.py']}, 'RoleArn': 'arn:aws:iam::114256180253:role/service-role/AmazonSageMaker-ExecutionRole-20211127T235743', 'ProcessingResources': {'ClusterConfig': {'InstanceCount': 1, 'InstanceType': 'ml.m5.large', 'VolumeSizeInGB': 30}}}, type='Task')"
      ]
     },
     "execution_count": 8,
     "metadata": {},
     "output_type": "execute_result"
    }
   ],
   "source": [
    "from sagemaker import get_execution_role\n",
    "from sagemaker.sklearn.processing import SKLearnProcessor\n",
    "from sagemaker.processing import ProcessingInput, ProcessingOutput\n",
    "from stepfunctions.steps.sagemaker import ProcessingStep\n",
    "import sagemaker\n",
    "\n",
    "role = get_execution_role()\n",
    "\n",
    "#PREPROCESSING_JOB_NAME = \"sagemaker-scikit-learn-2021-12-07-15-18-27-558\"\n",
    "PREPROCESSING_JOB_NAME = \"stepf-instruments-process-job5\"\n",
    "input_data = 's3://edgarin-mlend-c2/toys/instruments/reviews_Musical_Instruments_5.json.zip'\n",
    "input_preprocessing_code = 's3://edgarin-mlend-c2/toys/instruments/stepfunctions/HelloBlazePreprocess.py'\n",
    "sess = sagemaker.Session()\n",
    "\n",
    "sklearn_processor = SKLearnProcessor(framework_version='0.20.0',\n",
    "                                     role=role,\n",
    "                                     instance_type='ml.m5.large',\n",
    "                                     instance_count=1)\n",
    "\n",
    "processed_data_train = \"s3://edgarin-mlend-c2/toys/instruments/stepfunctions/input-procesado-con-job-4/blaze_train_scikit/\"\n",
    "processed_data_test = \"s3://edgarin-mlend-c2/toys/instruments/stepfunctions/input-procesado-con-job-4/blaze_test_scikit/\"\n",
    "\n",
    "inputs=[ProcessingInput(source=input_data, destination='/opt/ml/processing/input', input_name = 'input-1'),  \n",
    "        ProcessingInput(source=input_preprocessing_code , destination='/opt/ml/processing/input/code', input_name = 'code')]\n",
    "\n",
    "outputs=[ProcessingOutput(source='/opt/ml/processing/output/train', destination=processed_data_train, output_name = 'train_data'), \n",
    "         ProcessingOutput(source='/opt/ml/processing/output/test', destination=processed_data_test, output_name = 'test_data')]\n",
    "\n",
    "processing_step = ProcessingStep(\n",
    "    \"SageMaker pre-processing step 4\",\n",
    "    processor=sklearn_processor,\n",
    "    job_name=PREPROCESSING_JOB_NAME,\n",
    "    inputs=inputs,\n",
    "    outputs=outputs,\n",
    "    container_entrypoint=[\"python3\", \"/opt/ml/processing/input/code/HelloBlazePreprocess.py\"],\n",
    ")\n",
    "processing_step\n"
   ]
  },
  {
   "cell_type": "markdown",
   "metadata": {},
   "source": [
    "## Exercise: Fill out Training Step"
   ]
  },
  {
   "cell_type": "markdown",
   "metadata": {},
   "source": [
    "Upon the success of the preprocessing step, we wish to execute a training step. A training step is defined below. Fill the constants in the code."
   ]
  },
  {
   "cell_type": "code",
   "execution_count": 9,
   "metadata": {},
   "outputs": [
    {
     "data": {
      "text/plain": [
       "SageMaker Training Step TrainingStep(resource='arn:aws:states:::sagemaker:createTrainingJob.sync', parameters={'AlgorithmSpecification': {'TrainingImage': '811284229777.dkr.ecr.us-east-1.amazonaws.com/blazingtext:1', 'TrainingInputMode': 'File'}, 'OutputDataConfig': {'S3OutputPath': 's3://edgarin-mlend-c2/toys/instruments/stepfunctions/model/'}, 'StoppingCondition': {'MaxRuntimeInSeconds': 360000}, 'ResourceConfig': {'InstanceCount': 1, 'InstanceType': 'ml.m5.large', 'VolumeSizeInGB': 30}, 'RoleArn': 'arn:aws:iam::114256180253:role/service-role/AmazonSageMaker-ExecutionRole-20211127T235743', 'InputDataConfig': [{'DataSource': {'S3DataSource': {'S3DataType': 'S3Prefix', 'S3Uri': 's3://edgarin-mlend-c2/toys/instruments/stepfunctions/input-procesado-con-job-4/blaze_train_scikit/', 'S3DataDistributionType': 'FullyReplicated'}}, 'ContentType': 'text/plain', 'ChannelName': 'train'}, {'DataSource': {'S3DataSource': {'S3DataType': 'S3Prefix', 'S3Uri': 's3://edgarin-mlend-c2/toys/instruments/stepfunctions/input-procesado-con-job-4/blaze_test_scikit/', 'S3DataDistributionType': 'FullyReplicated'}}, 'ContentType': 'text/plain', 'ChannelName': 'validation'}], 'HyperParameters': {'mode': 'supervised'}, 'TrainingJobName': 'stepf-instruments-training-job5'}, type='Task')"
      ]
     },
     "execution_count": 9,
     "metadata": {},
     "output_type": "execute_result"
    }
   ],
   "source": [
    "from stepfunctions.steps.sagemaker import TrainingStep\n",
    "import boto3\n",
    "\n",
    "WORKFLOW_OUTPUT = \"s3://edgarin-mlend-c2/toys/instruments/stepfunctions/model/\"\n",
    "TRAINING_JOB_NAME = \"stepf-instruments-training-job5\"\n",
    "\n",
    "region_name = boto3.Session().region_name\n",
    "container = sagemaker.image_uris.retrieve(\n",
    "    region=region_name, framework=\"blazingtext\", version=\"latest\"\n",
    ")\n",
    "\n",
    "helloBlazeEstimator = sagemaker.estimator.Estimator(\n",
    "    container,\n",
    "    role=role,\n",
    "    instance_count=1,\n",
    "    instance_type='ml.m5.large',\n",
    "    volume_size=30,\n",
    "    max_run=360000,\n",
    "    input_mode=\"File\",\n",
    "    output_path=WORKFLOW_OUTPUT,\n",
    "    sagemaker_session=sess,\n",
    ")\n",
    "\n",
    "helloBlazeEstimator.set_hyperparameters(mode='supervised')\n",
    "\n",
    "training_step = TrainingStep(\n",
    "    \"SageMaker Training Step\",\n",
    "    estimator=helloBlazeEstimator,\n",
    "    data={\n",
    "        \"train\": sagemaker.TrainingInput(processed_data_train, content_type=\"text/plain\"), \n",
    "        \"validation\": sagemaker.TrainingInput(processed_data_test, content_type=\"text/plain\")},\n",
    "    job_name=TRAINING_JOB_NAME,\n",
    "    wait_for_completion=True,\n",
    ")\n",
    "training_step"
   ]
  },
  {
   "cell_type": "markdown",
   "metadata": {},
   "source": [
    "## Exercise: Create Workflow & Execute It. "
   ]
  },
  {
   "cell_type": "markdown",
   "metadata": {},
   "source": [
    "To link the steps, you'll need to create a role that is capable of doing so. Go to IAM and create a Step Functions role, and attach the CloudWatchEventsFullAccess and SageMakerFullAccess policies. Once done, make use of the above steps to create a workflow. Quick debugging tip: jobs must have a unique name; you'll need to rename job names when debugging. Consider creating a method that will dynamically create unique job names! "
   ]
  },
  {
   "cell_type": "code",
   "execution_count": 10,
   "metadata": {},
   "outputs": [
    {
     "data": {
      "text/plain": [
       "{'TrainingJobName': 'stepf-instruments-training-job5',\n",
       " 'TrainingJobArn': 'arn:aws:sagemaker:us-east-1:114256180253:training-job/stepf-instruments-training-job5',\n",
       " 'ModelArtifacts': {'S3ModelArtifacts': 's3://edgarin-mlend-c2/toys/instruments/stepfunctions/model/stepf-instruments-training-job5/output/model.tar.gz'},\n",
       " 'TrainingJobStatus': 'Completed',\n",
       " 'SecondaryStatus': 'Completed',\n",
       " 'HyperParameters': {'mode': 'supervised'},\n",
       " 'AlgorithmSpecification': {'TrainingImage': '811284229777.dkr.ecr.us-east-1.amazonaws.com/blazingtext:1',\n",
       "  'TrainingInputMode': 'FILE'},\n",
       " 'RoleArn': 'arn:aws:iam::114256180253:role/service-role/AmazonSageMaker-ExecutionRole-20211127T235743',\n",
       " 'InputDataConfig': [{'ChannelName': 'train',\n",
       "   'DataSource': {'S3DataSource': {'S3DataType': 'S3_PREFIX',\n",
       "     'S3Uri': 's3://edgarin-mlend-c2/toys/instruments/stepfunctions/input-procesado-con-job-4/blaze_train_scikit/',\n",
       "     'S3DataDistributionType': 'FULLY_REPLICATED'}},\n",
       "   'ContentType': 'text/plain',\n",
       "   'CompressionType': 'NONE',\n",
       "   'RecordWrapperType': 'NONE'},\n",
       "  {'ChannelName': 'validation',\n",
       "   'DataSource': {'S3DataSource': {'S3DataType': 'S3_PREFIX',\n",
       "     'S3Uri': 's3://edgarin-mlend-c2/toys/instruments/stepfunctions/input-procesado-con-job-4/blaze_test_scikit/',\n",
       "     'S3DataDistributionType': 'FULLY_REPLICATED'}},\n",
       "   'ContentType': 'text/plain',\n",
       "   'CompressionType': 'NONE',\n",
       "   'RecordWrapperType': 'NONE'}],\n",
       " 'OutputDataConfig': {'S3OutputPath': 's3://edgarin-mlend-c2/toys/instruments/stepfunctions/model/'},\n",
       " 'ResourceConfig': {'InstanceType': 'ml.m5.large',\n",
       "  'InstanceCount': 1.0,\n",
       "  'VolumeSizeInGB': 30.0},\n",
       " 'StoppingCondition': {'MaxRuntimeInSeconds': 360000.0},\n",
       " 'CreationTime': 1640017016388.0,\n",
       " 'TrainingStartTime': 1640017160618.0,\n",
       " 'TrainingEndTime': 1640017320898.0,\n",
       " 'LastModifiedTime': 1640017320898.0,\n",
       " 'SecondaryStatusTransitions': [{'Status': 'Starting',\n",
       "   'StartTime': 1640017016388.0,\n",
       "   'EndTime': 1640017160618.0,\n",
       "   'StatusMessage': 'Preparing the instances for training'},\n",
       "  {'Status': 'Downloading',\n",
       "   'StartTime': 1640017160618.0,\n",
       "   'EndTime': 1640017188345.0,\n",
       "   'StatusMessage': 'Downloading input data'},\n",
       "  {'Status': 'Training',\n",
       "   'StartTime': 1640017188345.0,\n",
       "   'EndTime': 1640017213356.0,\n",
       "   'StatusMessage': 'Training image download completed. Training in progress.'},\n",
       "  {'Status': 'Uploading',\n",
       "   'StartTime': 1640017213356.0,\n",
       "   'EndTime': 1640017320898.0,\n",
       "   'StatusMessage': 'Uploading generated training model'},\n",
       "  {'Status': 'Completed',\n",
       "   'StartTime': 1640017320898.0,\n",
       "   'EndTime': 1640017320898.0,\n",
       "   'StatusMessage': 'Training job completed'}],\n",
       " 'Tags': {'AWS_STEP_FUNCTIONS_EXECUTION_ARN': 'arn:aws:states:us-east-1:114256180253:execution:InstrumentsProcessTrainWorkflow5-txtoutput:1290db03-562b-4092-8b19-cf2e4f2f9c04',\n",
       "  'MANAGED_BY_AWS': 'STARTED_BY_STEP_FUNCTIONS'}}"
      ]
     },
     "execution_count": 10,
     "metadata": {},
     "output_type": "execute_result"
    }
   ],
   "source": [
    "from stepfunctions.steps import Chain\n",
    "from stepfunctions.workflow import Workflow\n",
    "\n",
    "workflow_role = \"arn:aws:iam::114256180253:role/mi-stepfunctions-ml-role\"\n",
    "\n",
    "workflow_graph = Chain([processing_step, training_step])\n",
    "workflow = Workflow(\n",
    "    name=\"InstrumentsProcessTrainWorkflow5-txtoutput\",\n",
    "    definition=workflow_graph,\n",
    "    role=workflow_role,\n",
    ")\n",
    "\n",
    "workflow.create()\n",
    "\n",
    "execution = workflow.execute(\n",
    "    # Comentado pq me di cuenta q no se necesita\n",
    "    #inputs={\n",
    "    #    \"PreprocessingJobName\": PREPROCESSING_JOB_NAME,  # Must be unique\n",
    "    #    \"TrainingJobName\": TRAINING_JOB_NAME  # Must be unique       \n",
    "    #}\n",
    "    inputs={\n",
    "        \"foo\": \"Bar\"\n",
    "    }\n",
    ")\n",
    "\n",
    "execution_output = execution.get_output(wait=True)\n",
    "execution_output"
   ]
  },
  {
   "cell_type": "markdown",
   "metadata": {},
   "source": [
    "You can track the outcome of this workflow through a custom UI that gets generated! Check it out!"
   ]
  },
  {
   "cell_type": "code",
   "execution_count": 11,
   "metadata": {},
   "outputs": [
    {
     "data": {
      "text/html": [
       "\n",
       "<link rel=\"stylesheet\" type=\"text/css\" href=\"https://do0of8uwbahzz.cloudfront.net/graph.css\">\n",
       "<div id=\"graph-358\" class=\"workflowgraph\">\n",
       "    \n",
       "    <style>\n",
       "        .graph-legend ul {\n",
       "            list-style-type: none;\n",
       "            padding: 10px;\n",
       "            padding-left: 0;\n",
       "            margin: 0;\n",
       "            position: absolute;\n",
       "            top: 0;\n",
       "            background: transparent;\n",
       "        }\n",
       "\n",
       "        .graph-legend li {\n",
       "            margin-left: 10px;\n",
       "            display: inline-block;\n",
       "        }\n",
       "\n",
       "        .graph-legend li > div {\n",
       "            width: 10px;\n",
       "            height: 10px;\n",
       "            display: inline-block;\n",
       "        }\n",
       "\n",
       "        .graph-legend .success { background-color: #2BD62E }\n",
       "        .graph-legend .failed { background-color: #DE322F }\n",
       "        .graph-legend .cancelled { background-color: #DDDDDD }\n",
       "        .graph-legend .in-progress { background-color: #53C9ED }\n",
       "        .graph-legend .caught-error { background-color: #FFA500 }\n",
       "    </style>\n",
       "    <div class=\"graph-legend\">\n",
       "        <ul>\n",
       "            <li>\n",
       "                <div class=\"success\"></div>\n",
       "                <span>Success</span>\n",
       "            </li>\n",
       "            <li>\n",
       "                <div class=\"failed\"></div>\n",
       "                <span>Failed</span>\n",
       "            </li>\n",
       "            <li>\n",
       "                <div class=\"cancelled\"></div>\n",
       "                <span>Cancelled</span>\n",
       "            </li>\n",
       "            <li>\n",
       "                <div class=\"in-progress\"></div>\n",
       "                <span>In Progress</span>\n",
       "            </li>\n",
       "            <li>\n",
       "                <div class=\"caught-error\"></div>\n",
       "                <span>Caught Error</span>\n",
       "            </li>\n",
       "        </ul>\n",
       "    </div>\n",
       "\n",
       "    <svg></svg>\n",
       "    <a href=\"https://console.aws.amazon.com/states/home?region=us-east-1#/executions/details/arn:aws:states:us-east-1:114256180253:execution:InstrumentsProcessTrainWorkflow5-txtoutput:1290db03-562b-4092-8b19-cf2e4f2f9c04\" target=\"_blank\"> Inspect in AWS Step Functions </a>\n",
       "</div>\n",
       "\n",
       "<script type=\"text/javascript\">\n",
       "\n",
       "require.config({\n",
       "    paths: {\n",
       "        sfn: \"https://do0of8uwbahzz.cloudfront.net/sfn\",\n",
       "    }\n",
       "});\n",
       "\n",
       "require(['sfn'], function(sfn) {\n",
       "    var element = document.getElementById('graph-358')\n",
       "\n",
       "    var options = {\n",
       "        width: parseFloat(getComputedStyle(element, null).width.replace(\"px\", \"\")),\n",
       "        height: 1000,\n",
       "        layout: 'LR',\n",
       "        resizeHeight: true\n",
       "    };\n",
       "\n",
       "    var definition = {\"StartAt\": \"SageMaker pre-processing step 4\", \"States\": {\"SageMaker pre-processing step 4\": {\"Resource\": \"arn:aws:states:::sagemaker:createProcessingJob.sync\", \"Parameters\": {\"ProcessingJobName\": \"stepf-instruments-process-job5\", \"ProcessingInputs\": [{\"InputName\": \"input-1\", \"AppManaged\": false, \"S3Input\": {\"S3Uri\": \"s3://edgarin-mlend-c2/toys/instruments/reviews_Musical_Instruments_5.json.zip\", \"LocalPath\": \"/opt/ml/processing/input\", \"S3DataType\": \"S3Prefix\", \"S3InputMode\": \"File\", \"S3DataDistributionType\": \"FullyReplicated\", \"S3CompressionType\": \"None\"}}, {\"InputName\": \"code\", \"AppManaged\": false, \"S3Input\": {\"S3Uri\": \"s3://edgarin-mlend-c2/toys/instruments/stepfunctions/HelloBlazePreprocess.py\", \"LocalPath\": \"/opt/ml/processing/input/code\", \"S3DataType\": \"S3Prefix\", \"S3InputMode\": \"File\", \"S3DataDistributionType\": \"FullyReplicated\", \"S3CompressionType\": \"None\"}}], \"ProcessingOutputConfig\": {\"Outputs\": [{\"OutputName\": \"train_data\", \"AppManaged\": false, \"S3Output\": {\"S3Uri\": \"s3://edgarin-mlend-c2/toys/instruments/stepfunctions/input-procesado-con-job-4/blaze_train_scikit/\", \"LocalPath\": \"/opt/ml/processing/output/train\", \"S3UploadMode\": \"EndOfJob\"}}, {\"OutputName\": \"test_data\", \"AppManaged\": false, \"S3Output\": {\"S3Uri\": \"s3://edgarin-mlend-c2/toys/instruments/stepfunctions/input-procesado-con-job-4/blaze_test_scikit/\", \"LocalPath\": \"/opt/ml/processing/output/test\", \"S3UploadMode\": \"EndOfJob\"}}]}, \"AppSpecification\": {\"ImageUri\": \"683313688378.dkr.ecr.us-east-1.amazonaws.com/sagemaker-scikit-learn:0.20.0-cpu-py3\", \"ContainerEntrypoint\": [\"python3\", \"/opt/ml/processing/input/code/HelloBlazePreprocess.py\"]}, \"RoleArn\": \"arn:aws:iam::114256180253:role/service-role/AmazonSageMaker-ExecutionRole-20211127T235743\", \"ProcessingResources\": {\"ClusterConfig\": {\"InstanceCount\": 1, \"InstanceType\": \"ml.m5.large\", \"VolumeSizeInGB\": 30}}}, \"Type\": \"Task\", \"Next\": \"SageMaker Training Step\"}, \"SageMaker Training Step\": {\"Resource\": \"arn:aws:states:::sagemaker:createTrainingJob.sync\", \"Parameters\": {\"AlgorithmSpecification\": {\"TrainingImage\": \"811284229777.dkr.ecr.us-east-1.amazonaws.com/blazingtext:1\", \"TrainingInputMode\": \"File\"}, \"OutputDataConfig\": {\"S3OutputPath\": \"s3://edgarin-mlend-c2/toys/instruments/stepfunctions/model/\"}, \"StoppingCondition\": {\"MaxRuntimeInSeconds\": 360000}, \"ResourceConfig\": {\"InstanceCount\": 1, \"InstanceType\": \"ml.m5.large\", \"VolumeSizeInGB\": 30}, \"RoleArn\": \"arn:aws:iam::114256180253:role/service-role/AmazonSageMaker-ExecutionRole-20211127T235743\", \"InputDataConfig\": [{\"DataSource\": {\"S3DataSource\": {\"S3DataType\": \"S3Prefix\", \"S3Uri\": \"s3://edgarin-mlend-c2/toys/instruments/stepfunctions/input-procesado-con-job-4/blaze_train_scikit/\", \"S3DataDistributionType\": \"FullyReplicated\"}}, \"ContentType\": \"text/plain\", \"ChannelName\": \"train\"}, {\"DataSource\": {\"S3DataSource\": {\"S3DataType\": \"S3Prefix\", \"S3Uri\": \"s3://edgarin-mlend-c2/toys/instruments/stepfunctions/input-procesado-con-job-4/blaze_test_scikit/\", \"S3DataDistributionType\": \"FullyReplicated\"}}, \"ContentType\": \"text/plain\", \"ChannelName\": \"validation\"}], \"HyperParameters\": {\"mode\": \"supervised\"}, \"TrainingJobName\": \"stepf-instruments-training-job5\"}, \"Type\": \"Task\", \"End\": true}}};\n",
       "    var elementId = '#graph-358';\n",
       "    var events = { 'events': [{\"timestamp\": 1640016724.887, \"type\": \"ExecutionStarted\", \"id\": 1, \"previousEventId\": 0, \"executionStartedEventDetails\": {\"input\": \"{\\n    \\\"foo\\\": \\\"Bar\\\"\\n}\", \"inputDetails\": {\"truncated\": false}, \"roleArn\": \"arn:aws:iam::114256180253:role/mi-stepfunctions-ml-role\"}}, {\"timestamp\": 1640016724.934, \"type\": \"TaskStateEntered\", \"id\": 2, \"previousEventId\": 0, \"stateEnteredEventDetails\": {\"name\": \"SageMaker pre-processing step 4\", \"input\": \"{\\n    \\\"foo\\\": \\\"Bar\\\"\\n}\", \"inputDetails\": {\"truncated\": false}}}, {\"timestamp\": 1640016724.934, \"type\": \"TaskScheduled\", \"id\": 3, \"previousEventId\": 2, \"taskScheduledEventDetails\": {\"resourceType\": \"sagemaker\", \"resource\": \"createProcessingJob.sync\", \"region\": \"us-east-1\", \"parameters\": \"{\\\"ProcessingJobName\\\":\\\"stepf-instruments-process-job5\\\",\\\"ProcessingInputs\\\":[{\\\"InputName\\\":\\\"input-1\\\",\\\"AppManaged\\\":false,\\\"S3Input\\\":{\\\"S3Uri\\\":\\\"s3://edgarin-mlend-c2/toys/instruments/reviews_Musical_Instruments_5.json.zip\\\",\\\"LocalPath\\\":\\\"/opt/ml/processing/input\\\",\\\"S3DataType\\\":\\\"S3Prefix\\\",\\\"S3InputMode\\\":\\\"File\\\",\\\"S3DataDistributionType\\\":\\\"FullyReplicated\\\",\\\"S3CompressionType\\\":\\\"None\\\"}},{\\\"InputName\\\":\\\"code\\\",\\\"AppManaged\\\":false,\\\"S3Input\\\":{\\\"S3Uri\\\":\\\"s3://edgarin-mlend-c2/toys/instruments/stepfunctions/HelloBlazePreprocess.py\\\",\\\"LocalPath\\\":\\\"/opt/ml/processing/input/code\\\",\\\"S3DataType\\\":\\\"S3Prefix\\\",\\\"S3InputMode\\\":\\\"File\\\",\\\"S3DataDistributionType\\\":\\\"FullyReplicated\\\",\\\"S3CompressionType\\\":\\\"None\\\"}}],\\\"ProcessingOutputConfig\\\":{\\\"Outputs\\\":[{\\\"OutputName\\\":\\\"train_data\\\",\\\"AppManaged\\\":false,\\\"S3Output\\\":{\\\"S3Uri\\\":\\\"s3://edgarin-mlend-c2/toys/instruments/stepfunctions/input-procesado-con-job-4/blaze_train_scikit/\\\",\\\"LocalPath\\\":\\\"/opt/ml/processing/output/train\\\",\\\"S3UploadMode\\\":\\\"EndOfJob\\\"}},{\\\"OutputName\\\":\\\"test_data\\\",\\\"AppManaged\\\":false,\\\"S3Output\\\":{\\\"S3Uri\\\":\\\"s3://edgarin-mlend-c2/toys/instruments/stepfunctions/input-procesado-con-job-4/blaze_test_scikit/\\\",\\\"LocalPath\\\":\\\"/opt/ml/processing/output/test\\\",\\\"S3UploadMode\\\":\\\"EndOfJob\\\"}}]},\\\"AppSpecification\\\":{\\\"ImageUri\\\":\\\"683313688378.dkr.ecr.us-east-1.amazonaws.com/sagemaker-scikit-learn:0.20.0-cpu-py3\\\",\\\"ContainerEntrypoint\\\":[\\\"python3\\\",\\\"/opt/ml/processing/input/code/HelloBlazePreprocess.py\\\"]},\\\"RoleArn\\\":\\\"arn:aws:iam::114256180253:role/service-role/AmazonSageMaker-ExecutionRole-20211127T235743\\\",\\\"ProcessingResources\\\":{\\\"ClusterConfig\\\":{\\\"InstanceCount\\\":1,\\\"InstanceType\\\":\\\"ml.m5.large\\\",\\\"VolumeSizeInGB\\\":30}},\\\"Tags\\\":[{\\\"Key\\\":\\\"MANAGED_BY_AWS\\\",\\\"Value\\\":\\\"STARTED_BY_STEP_FUNCTIONS\\\"}]}\"}}, {\"timestamp\": 1640016724.973, \"type\": \"TaskStarted\", \"id\": 4, \"previousEventId\": 3, \"taskStartedEventDetails\": {\"resourceType\": \"sagemaker\", \"resource\": \"createProcessingJob.sync\"}}, {\"timestamp\": 1640016725.231, \"type\": \"TaskSubmitted\", \"id\": 5, \"previousEventId\": 4, \"taskSubmittedEventDetails\": {\"resourceType\": \"sagemaker\", \"resource\": \"createProcessingJob.sync\", \"output\": \"{\\\"ProcessingJobArn\\\":\\\"arn:aws:sagemaker:us-east-1:114256180253:processing-job/stepf-instruments-process-job5\\\",\\\"SdkHttpMetadata\\\":{\\\"AllHttpHeaders\\\":{\\\"Keep-Alive\\\":[\\\"timeout=70\\\"],\\\"Connection\\\":[\\\"keep-alive\\\"],\\\"x-amzn-RequestId\\\":[\\\"f7909d41-3e7d-4f25-8f82-2c43c1655b77\\\"],\\\"Content-Length\\\":[\\\"109\\\"],\\\"Date\\\":[\\\"Mon, 20 Dec 2021 16:12:05 GMT\\\"],\\\"Content-Type\\\":[\\\"application/x-amz-json-1.1\\\"]},\\\"HttpHeaders\\\":{\\\"Connection\\\":\\\"keep-alive\\\",\\\"Content-Length\\\":\\\"109\\\",\\\"Content-Type\\\":\\\"application/x-amz-json-1.1\\\",\\\"Date\\\":\\\"Mon, 20 Dec 2021 16:12:05 GMT\\\",\\\"Keep-Alive\\\":\\\"timeout=70\\\",\\\"x-amzn-RequestId\\\":\\\"f7909d41-3e7d-4f25-8f82-2c43c1655b77\\\"},\\\"HttpStatusCode\\\":200},\\\"SdkResponseMetadata\\\":{\\\"RequestId\\\":\\\"f7909d41-3e7d-4f25-8f82-2c43c1655b77\\\"}}\", \"outputDetails\": {\"truncated\": false}}}, {\"timestamp\": 1640017016.164, \"type\": \"TaskSucceeded\", \"id\": 6, \"previousEventId\": 5, \"taskSucceededEventDetails\": {\"resourceType\": \"sagemaker\", \"resource\": \"createProcessingJob.sync\", \"output\": \"{\\\"ProcessingInputs\\\":[{\\\"InputName\\\":\\\"input-1\\\",\\\"AppManaged\\\":false,\\\"S3Input\\\":{\\\"S3Uri\\\":\\\"s3://edgarin-mlend-c2/toys/instruments/reviews_Musical_Instruments_5.json.zip\\\",\\\"LocalPath\\\":\\\"/opt/ml/processing/input\\\",\\\"S3DataType\\\":\\\"S3_PREFIX\\\",\\\"S3InputMode\\\":\\\"FILE\\\",\\\"S3DataDistributionType\\\":\\\"FULLYREPLICATED\\\"}},{\\\"InputName\\\":\\\"code\\\",\\\"AppManaged\\\":false,\\\"S3Input\\\":{\\\"S3Uri\\\":\\\"s3://edgarin-mlend-c2/toys/instruments/stepfunctions/HelloBlazePreprocess.py\\\",\\\"LocalPath\\\":\\\"/opt/ml/processing/input/code\\\",\\\"S3DataType\\\":\\\"S3_PREFIX\\\",\\\"S3InputMode\\\":\\\"FILE\\\",\\\"S3DataDistributionType\\\":\\\"FULLYREPLICATED\\\"}}],\\\"ProcessingOutputConfig\\\":{\\\"Outputs\\\":[{\\\"OutputName\\\":\\\"train_data\\\",\\\"S3Output\\\":{\\\"S3Uri\\\":\\\"s3://edgarin-mlend-c2/toys/instruments/stepfunctions/input-procesado-con-job-4/blaze_train_scikit/\\\",\\\"LocalPath\\\":\\\"/opt/ml/processing/output/train\\\",\\\"S3UploadMode\\\":\\\"END_OF_JOB\\\"},\\\"AppManaged\\\":false},{\\\"OutputName\\\":\\\"test_data\\\",\\\"S3Output\\\":{\\\"S3Uri\\\":\\\"s3://edgarin-mlend-c2/toys/instruments/stepfunctions/input-procesado-con-job-4/blaze_test_scikit/\\\",\\\"LocalPath\\\":\\\"/opt/ml/processing/output/test\\\",\\\"S3UploadMode\\\":\\\"END_OF_JOB\\\"},\\\"AppManaged\\\":false}]},\\\"ProcessingJobName\\\":\\\"stepf-instruments-process-job5\\\",\\\"ProcessingResources\\\":{\\\"ClusterConfig\\\":{\\\"InstanceCount\\\":1.0,\\\"InstanceType\\\":\\\"ml.m5.large\\\",\\\"VolumeSizeInGB\\\":30.0}},\\\"StoppingCondition\\\":{\\\"MaxRuntimeInSeconds\\\":86400.0},\\\"AppSpecification\\\":{\\\"ImageUri\\\":\\\"683313688378.dkr.ecr.us-east-1.amazonaws.com/sagemaker-scikit-learn:0.20.0-cpu-py3\\\",\\\"ContainerEntrypoint\\\":[\\\"python3\\\",\\\"/opt/ml/processing/input/code/HelloBlazePreprocess.py\\\"]},\\\"RoleArn\\\":\\\"arn:aws:iam::114256180253:role/service-role/AmazonSageMaker-ExecutionRole-20211127T235743\\\",\\\"ExperimentConfig\\\":{},\\\"ProcessingJobArn\\\":\\\"arn:aws:sagemaker:us-east-1:114256180253:processing-job/stepf-instruments-process-job5\\\",\\\"ProcessingJobStatus\\\":\\\"Completed\\\",\\\"ProcessingEndTime\\\":1.640017011E12,\\\"ProcessingStartTime\\\":1.640016992E12,\\\"LastModifiedTime\\\":1.640017011E12,\\\"CreationTime\\\":1.640016725E12,\\\"Tags\\\":{\\\"AWS_STEP_FUNCTIONS_EXECUTION_ARN\\\":\\\"arn:aws:states:us-east-1:114256180253:execution:InstrumentsProcessTrainWorkflow5-txtoutput:1290db03-562b-4092-8b19-cf2e4f2f9c04\\\",\\\"MANAGED_BY_AWS\\\":\\\"STARTED_BY_STEP_FUNCTIONS\\\"}}\", \"outputDetails\": {\"truncated\": false}}}, {\"timestamp\": 1640017016.164, \"type\": \"TaskStateExited\", \"id\": 7, \"previousEventId\": 6, \"stateExitedEventDetails\": {\"name\": \"SageMaker pre-processing step 4\", \"output\": \"{\\\"ProcessingInputs\\\":[{\\\"InputName\\\":\\\"input-1\\\",\\\"AppManaged\\\":false,\\\"S3Input\\\":{\\\"S3Uri\\\":\\\"s3://edgarin-mlend-c2/toys/instruments/reviews_Musical_Instruments_5.json.zip\\\",\\\"LocalPath\\\":\\\"/opt/ml/processing/input\\\",\\\"S3DataType\\\":\\\"S3_PREFIX\\\",\\\"S3InputMode\\\":\\\"FILE\\\",\\\"S3DataDistributionType\\\":\\\"FULLYREPLICATED\\\"}},{\\\"InputName\\\":\\\"code\\\",\\\"AppManaged\\\":false,\\\"S3Input\\\":{\\\"S3Uri\\\":\\\"s3://edgarin-mlend-c2/toys/instruments/stepfunctions/HelloBlazePreprocess.py\\\",\\\"LocalPath\\\":\\\"/opt/ml/processing/input/code\\\",\\\"S3DataType\\\":\\\"S3_PREFIX\\\",\\\"S3InputMode\\\":\\\"FILE\\\",\\\"S3DataDistributionType\\\":\\\"FULLYREPLICATED\\\"}}],\\\"ProcessingOutputConfig\\\":{\\\"Outputs\\\":[{\\\"OutputName\\\":\\\"train_data\\\",\\\"S3Output\\\":{\\\"S3Uri\\\":\\\"s3://edgarin-mlend-c2/toys/instruments/stepfunctions/input-procesado-con-job-4/blaze_train_scikit/\\\",\\\"LocalPath\\\":\\\"/opt/ml/processing/output/train\\\",\\\"S3UploadMode\\\":\\\"END_OF_JOB\\\"},\\\"AppManaged\\\":false},{\\\"OutputName\\\":\\\"test_data\\\",\\\"S3Output\\\":{\\\"S3Uri\\\":\\\"s3://edgarin-mlend-c2/toys/instruments/stepfunctions/input-procesado-con-job-4/blaze_test_scikit/\\\",\\\"LocalPath\\\":\\\"/opt/ml/processing/output/test\\\",\\\"S3UploadMode\\\":\\\"END_OF_JOB\\\"},\\\"AppManaged\\\":false}]},\\\"ProcessingJobName\\\":\\\"stepf-instruments-process-job5\\\",\\\"ProcessingResources\\\":{\\\"ClusterConfig\\\":{\\\"InstanceCount\\\":1.0,\\\"InstanceType\\\":\\\"ml.m5.large\\\",\\\"VolumeSizeInGB\\\":30.0}},\\\"StoppingCondition\\\":{\\\"MaxRuntimeInSeconds\\\":86400.0},\\\"AppSpecification\\\":{\\\"ImageUri\\\":\\\"683313688378.dkr.ecr.us-east-1.amazonaws.com/sagemaker-scikit-learn:0.20.0-cpu-py3\\\",\\\"ContainerEntrypoint\\\":[\\\"python3\\\",\\\"/opt/ml/processing/input/code/HelloBlazePreprocess.py\\\"]},\\\"RoleArn\\\":\\\"arn:aws:iam::114256180253:role/service-role/AmazonSageMaker-ExecutionRole-20211127T235743\\\",\\\"ExperimentConfig\\\":{},\\\"ProcessingJobArn\\\":\\\"arn:aws:sagemaker:us-east-1:114256180253:processing-job/stepf-instruments-process-job5\\\",\\\"ProcessingJobStatus\\\":\\\"Completed\\\",\\\"ProcessingEndTime\\\":1.640017011E12,\\\"ProcessingStartTime\\\":1.640016992E12,\\\"LastModifiedTime\\\":1.640017011E12,\\\"CreationTime\\\":1.640016725E12,\\\"Tags\\\":{\\\"AWS_STEP_FUNCTIONS_EXECUTION_ARN\\\":\\\"arn:aws:states:us-east-1:114256180253:execution:InstrumentsProcessTrainWorkflow5-txtoutput:1290db03-562b-4092-8b19-cf2e4f2f9c04\\\",\\\"MANAGED_BY_AWS\\\":\\\"STARTED_BY_STEP_FUNCTIONS\\\"}}\", \"outputDetails\": {\"truncated\": false}}}, {\"timestamp\": 1640017016.173, \"type\": \"TaskStateEntered\", \"id\": 8, \"previousEventId\": 7, \"stateEnteredEventDetails\": {\"name\": \"SageMaker Training Step\", \"input\": \"{\\\"ProcessingInputs\\\":[{\\\"InputName\\\":\\\"input-1\\\",\\\"AppManaged\\\":false,\\\"S3Input\\\":{\\\"S3Uri\\\":\\\"s3://edgarin-mlend-c2/toys/instruments/reviews_Musical_Instruments_5.json.zip\\\",\\\"LocalPath\\\":\\\"/opt/ml/processing/input\\\",\\\"S3DataType\\\":\\\"S3_PREFIX\\\",\\\"S3InputMode\\\":\\\"FILE\\\",\\\"S3DataDistributionType\\\":\\\"FULLYREPLICATED\\\"}},{\\\"InputName\\\":\\\"code\\\",\\\"AppManaged\\\":false,\\\"S3Input\\\":{\\\"S3Uri\\\":\\\"s3://edgarin-mlend-c2/toys/instruments/stepfunctions/HelloBlazePreprocess.py\\\",\\\"LocalPath\\\":\\\"/opt/ml/processing/input/code\\\",\\\"S3DataType\\\":\\\"S3_PREFIX\\\",\\\"S3InputMode\\\":\\\"FILE\\\",\\\"S3DataDistributionType\\\":\\\"FULLYREPLICATED\\\"}}],\\\"ProcessingOutputConfig\\\":{\\\"Outputs\\\":[{\\\"OutputName\\\":\\\"train_data\\\",\\\"S3Output\\\":{\\\"S3Uri\\\":\\\"s3://edgarin-mlend-c2/toys/instruments/stepfunctions/input-procesado-con-job-4/blaze_train_scikit/\\\",\\\"LocalPath\\\":\\\"/opt/ml/processing/output/train\\\",\\\"S3UploadMode\\\":\\\"END_OF_JOB\\\"},\\\"AppManaged\\\":false},{\\\"OutputName\\\":\\\"test_data\\\",\\\"S3Output\\\":{\\\"S3Uri\\\":\\\"s3://edgarin-mlend-c2/toys/instruments/stepfunctions/input-procesado-con-job-4/blaze_test_scikit/\\\",\\\"LocalPath\\\":\\\"/opt/ml/processing/output/test\\\",\\\"S3UploadMode\\\":\\\"END_OF_JOB\\\"},\\\"AppManaged\\\":false}]},\\\"ProcessingJobName\\\":\\\"stepf-instruments-process-job5\\\",\\\"ProcessingResources\\\":{\\\"ClusterConfig\\\":{\\\"InstanceCount\\\":1.0,\\\"InstanceType\\\":\\\"ml.m5.large\\\",\\\"VolumeSizeInGB\\\":30.0}},\\\"StoppingCondition\\\":{\\\"MaxRuntimeInSeconds\\\":86400.0},\\\"AppSpecification\\\":{\\\"ImageUri\\\":\\\"683313688378.dkr.ecr.us-east-1.amazonaws.com/sagemaker-scikit-learn:0.20.0-cpu-py3\\\",\\\"ContainerEntrypoint\\\":[\\\"python3\\\",\\\"/opt/ml/processing/input/code/HelloBlazePreprocess.py\\\"]},\\\"RoleArn\\\":\\\"arn:aws:iam::114256180253:role/service-role/AmazonSageMaker-ExecutionRole-20211127T235743\\\",\\\"ExperimentConfig\\\":{},\\\"ProcessingJobArn\\\":\\\"arn:aws:sagemaker:us-east-1:114256180253:processing-job/stepf-instruments-process-job5\\\",\\\"ProcessingJobStatus\\\":\\\"Completed\\\",\\\"ProcessingEndTime\\\":1.640017011E12,\\\"ProcessingStartTime\\\":1.640016992E12,\\\"LastModifiedTime\\\":1.640017011E12,\\\"CreationTime\\\":1.640016725E12,\\\"Tags\\\":{\\\"AWS_STEP_FUNCTIONS_EXECUTION_ARN\\\":\\\"arn:aws:states:us-east-1:114256180253:execution:InstrumentsProcessTrainWorkflow5-txtoutput:1290db03-562b-4092-8b19-cf2e4f2f9c04\\\",\\\"MANAGED_BY_AWS\\\":\\\"STARTED_BY_STEP_FUNCTIONS\\\"}}\", \"inputDetails\": {\"truncated\": false}}}, {\"timestamp\": 1640017016.173, \"type\": \"TaskScheduled\", \"id\": 9, \"previousEventId\": 8, \"taskScheduledEventDetails\": {\"resourceType\": \"sagemaker\", \"resource\": \"createTrainingJob.sync\", \"region\": \"us-east-1\", \"parameters\": \"{\\\"AlgorithmSpecification\\\":{\\\"TrainingImage\\\":\\\"811284229777.dkr.ecr.us-east-1.amazonaws.com/blazingtext:1\\\",\\\"TrainingInputMode\\\":\\\"File\\\"},\\\"OutputDataConfig\\\":{\\\"S3OutputPath\\\":\\\"s3://edgarin-mlend-c2/toys/instruments/stepfunctions/model/\\\"},\\\"StoppingCondition\\\":{\\\"MaxRuntimeInSeconds\\\":360000},\\\"ResourceConfig\\\":{\\\"InstanceCount\\\":1,\\\"InstanceType\\\":\\\"ml.m5.large\\\",\\\"VolumeSizeInGB\\\":30},\\\"RoleArn\\\":\\\"arn:aws:iam::114256180253:role/service-role/AmazonSageMaker-ExecutionRole-20211127T235743\\\",\\\"InputDataConfig\\\":[{\\\"DataSource\\\":{\\\"S3DataSource\\\":{\\\"S3DataType\\\":\\\"S3Prefix\\\",\\\"S3Uri\\\":\\\"s3://edgarin-mlend-c2/toys/instruments/stepfunctions/input-procesado-con-job-4/blaze_train_scikit/\\\",\\\"S3DataDistributionType\\\":\\\"FullyReplicated\\\"}},\\\"ContentType\\\":\\\"text/plain\\\",\\\"ChannelName\\\":\\\"train\\\"},{\\\"DataSource\\\":{\\\"S3DataSource\\\":{\\\"S3DataType\\\":\\\"S3Prefix\\\",\\\"S3Uri\\\":\\\"s3://edgarin-mlend-c2/toys/instruments/stepfunctions/input-procesado-con-job-4/blaze_test_scikit/\\\",\\\"S3DataDistributionType\\\":\\\"FullyReplicated\\\"}},\\\"ContentType\\\":\\\"text/plain\\\",\\\"ChannelName\\\":\\\"validation\\\"}],\\\"HyperParameters\\\":{\\\"mode\\\":\\\"supervised\\\"},\\\"TrainingJobName\\\":\\\"stepf-instruments-training-job5\\\",\\\"Tags\\\":[{\\\"Key\\\":\\\"MANAGED_BY_AWS\\\",\\\"Value\\\":\\\"STARTED_BY_STEP_FUNCTIONS\\\"}]}\"}}, {\"timestamp\": 1640017016.183, \"type\": \"TaskStarted\", \"id\": 10, \"previousEventId\": 9, \"taskStartedEventDetails\": {\"resourceType\": \"sagemaker\", \"resource\": \"createTrainingJob.sync\"}}, {\"timestamp\": 1640017016.414, \"type\": \"TaskSubmitted\", \"id\": 11, \"previousEventId\": 10, \"taskSubmittedEventDetails\": {\"resourceType\": \"sagemaker\", \"resource\": \"createTrainingJob.sync\", \"output\": \"{\\\"SdkHttpMetadata\\\":{\\\"AllHttpHeaders\\\":{\\\"Keep-Alive\\\":[\\\"timeout=70\\\"],\\\"Connection\\\":[\\\"keep-alive\\\"],\\\"x-amzn-RequestId\\\":[\\\"3214e7cf-e713-4a7d-afd5-3eecde65cca2\\\"],\\\"Content-Length\\\":[\\\"106\\\"],\\\"Date\\\":[\\\"Mon, 20 Dec 2021 16:16:56 GMT\\\"],\\\"Content-Type\\\":[\\\"application/x-amz-json-1.1\\\"]},\\\"HttpHeaders\\\":{\\\"Connection\\\":\\\"keep-alive\\\",\\\"Content-Length\\\":\\\"106\\\",\\\"Content-Type\\\":\\\"application/x-amz-json-1.1\\\",\\\"Date\\\":\\\"Mon, 20 Dec 2021 16:16:56 GMT\\\",\\\"Keep-Alive\\\":\\\"timeout=70\\\",\\\"x-amzn-RequestId\\\":\\\"3214e7cf-e713-4a7d-afd5-3eecde65cca2\\\"},\\\"HttpStatusCode\\\":200},\\\"SdkResponseMetadata\\\":{\\\"RequestId\\\":\\\"3214e7cf-e713-4a7d-afd5-3eecde65cca2\\\"},\\\"TrainingJobArn\\\":\\\"arn:aws:sagemaker:us-east-1:114256180253:training-job/stepf-instruments-training-job5\\\"}\", \"outputDetails\": {\"truncated\": false}}}, {\"timestamp\": 1640017325.335, \"type\": \"TaskSucceeded\", \"id\": 12, \"previousEventId\": 11, \"taskSucceededEventDetails\": {\"resourceType\": \"sagemaker\", \"resource\": \"createTrainingJob.sync\", \"output\": \"{\\\"TrainingJobName\\\":\\\"stepf-instruments-training-job5\\\",\\\"TrainingJobArn\\\":\\\"arn:aws:sagemaker:us-east-1:114256180253:training-job/stepf-instruments-training-job5\\\",\\\"ModelArtifacts\\\":{\\\"S3ModelArtifacts\\\":\\\"s3://edgarin-mlend-c2/toys/instruments/stepfunctions/model/stepf-instruments-training-job5/output/model.tar.gz\\\"},\\\"TrainingJobStatus\\\":\\\"Completed\\\",\\\"SecondaryStatus\\\":\\\"Completed\\\",\\\"HyperParameters\\\":{\\\"mode\\\":\\\"supervised\\\"},\\\"AlgorithmSpecification\\\":{\\\"TrainingImage\\\":\\\"811284229777.dkr.ecr.us-east-1.amazonaws.com/blazingtext:1\\\",\\\"TrainingInputMode\\\":\\\"FILE\\\"},\\\"RoleArn\\\":\\\"arn:aws:iam::114256180253:role/service-role/AmazonSageMaker-ExecutionRole-20211127T235743\\\",\\\"InputDataConfig\\\":[{\\\"ChannelName\\\":\\\"train\\\",\\\"DataSource\\\":{\\\"S3DataSource\\\":{\\\"S3DataType\\\":\\\"S3_PREFIX\\\",\\\"S3Uri\\\":\\\"s3://edgarin-mlend-c2/toys/instruments/stepfunctions/input-procesado-con-job-4/blaze_train_scikit/\\\",\\\"S3DataDistributionType\\\":\\\"FULLY_REPLICATED\\\"}},\\\"ContentType\\\":\\\"text/plain\\\",\\\"CompressionType\\\":\\\"NONE\\\",\\\"RecordWrapperType\\\":\\\"NONE\\\"},{\\\"ChannelName\\\":\\\"validation\\\",\\\"DataSource\\\":{\\\"S3DataSource\\\":{\\\"S3DataType\\\":\\\"S3_PREFIX\\\",\\\"S3Uri\\\":\\\"s3://edgarin-mlend-c2/toys/instruments/stepfunctions/input-procesado-con-job-4/blaze_test_scikit/\\\",\\\"S3DataDistributionType\\\":\\\"FULLY_REPLICATED\\\"}},\\\"ContentType\\\":\\\"text/plain\\\",\\\"CompressionType\\\":\\\"NONE\\\",\\\"RecordWrapperType\\\":\\\"NONE\\\"}],\\\"OutputDataConfig\\\":{\\\"S3OutputPath\\\":\\\"s3://edgarin-mlend-c2/toys/instruments/stepfunctions/model/\\\"},\\\"ResourceConfig\\\":{\\\"InstanceType\\\":\\\"ml.m5.large\\\",\\\"InstanceCount\\\":1.0,\\\"VolumeSizeInGB\\\":30.0},\\\"StoppingCondition\\\":{\\\"MaxRuntimeInSeconds\\\":360000.0},\\\"CreationTime\\\":1.640017016388E12,\\\"TrainingStartTime\\\":1.640017160618E12,\\\"TrainingEndTime\\\":1.640017320898E12,\\\"LastModifiedTime\\\":1.640017320898E12,\\\"SecondaryStatusTransitions\\\":[{\\\"Status\\\":\\\"Starting\\\",\\\"StartTime\\\":1.640017016388E12,\\\"EndTime\\\":1.640017160618E12,\\\"StatusMessage\\\":\\\"Preparing the instances for training\\\"},{\\\"Status\\\":\\\"Downloading\\\",\\\"StartTime\\\":1.640017160618E12,\\\"EndTime\\\":1.640017188345E12,\\\"StatusMessage\\\":\\\"Downloading input data\\\"},{\\\"Status\\\":\\\"Training\\\",\\\"StartTime\\\":1.640017188345E12,\\\"EndTime\\\":1.640017213356E12,\\\"StatusMessage\\\":\\\"Training image download completed. Training in progress.\\\"},{\\\"Status\\\":\\\"Uploading\\\",\\\"StartTime\\\":1.640017213356E12,\\\"EndTime\\\":1.640017320898E12,\\\"StatusMessage\\\":\\\"Uploading generated training model\\\"},{\\\"Status\\\":\\\"Completed\\\",\\\"StartTime\\\":1.640017320898E12,\\\"EndTime\\\":1.640017320898E12,\\\"StatusMessage\\\":\\\"Training job completed\\\"}],\\\"Tags\\\":{\\\"AWS_STEP_FUNCTIONS_EXECUTION_ARN\\\":\\\"arn:aws:states:us-east-1:114256180253:execution:InstrumentsProcessTrainWorkflow5-txtoutput:1290db03-562b-4092-8b19-cf2e4f2f9c04\\\",\\\"MANAGED_BY_AWS\\\":\\\"STARTED_BY_STEP_FUNCTIONS\\\"}}\", \"outputDetails\": {\"truncated\": false}}}, {\"timestamp\": 1640017325.335, \"type\": \"TaskStateExited\", \"id\": 13, \"previousEventId\": 12, \"stateExitedEventDetails\": {\"name\": \"SageMaker Training Step\", \"output\": \"{\\\"TrainingJobName\\\":\\\"stepf-instruments-training-job5\\\",\\\"TrainingJobArn\\\":\\\"arn:aws:sagemaker:us-east-1:114256180253:training-job/stepf-instruments-training-job5\\\",\\\"ModelArtifacts\\\":{\\\"S3ModelArtifacts\\\":\\\"s3://edgarin-mlend-c2/toys/instruments/stepfunctions/model/stepf-instruments-training-job5/output/model.tar.gz\\\"},\\\"TrainingJobStatus\\\":\\\"Completed\\\",\\\"SecondaryStatus\\\":\\\"Completed\\\",\\\"HyperParameters\\\":{\\\"mode\\\":\\\"supervised\\\"},\\\"AlgorithmSpecification\\\":{\\\"TrainingImage\\\":\\\"811284229777.dkr.ecr.us-east-1.amazonaws.com/blazingtext:1\\\",\\\"TrainingInputMode\\\":\\\"FILE\\\"},\\\"RoleArn\\\":\\\"arn:aws:iam::114256180253:role/service-role/AmazonSageMaker-ExecutionRole-20211127T235743\\\",\\\"InputDataConfig\\\":[{\\\"ChannelName\\\":\\\"train\\\",\\\"DataSource\\\":{\\\"S3DataSource\\\":{\\\"S3DataType\\\":\\\"S3_PREFIX\\\",\\\"S3Uri\\\":\\\"s3://edgarin-mlend-c2/toys/instruments/stepfunctions/input-procesado-con-job-4/blaze_train_scikit/\\\",\\\"S3DataDistributionType\\\":\\\"FULLY_REPLICATED\\\"}},\\\"ContentType\\\":\\\"text/plain\\\",\\\"CompressionType\\\":\\\"NONE\\\",\\\"RecordWrapperType\\\":\\\"NONE\\\"},{\\\"ChannelName\\\":\\\"validation\\\",\\\"DataSource\\\":{\\\"S3DataSource\\\":{\\\"S3DataType\\\":\\\"S3_PREFIX\\\",\\\"S3Uri\\\":\\\"s3://edgarin-mlend-c2/toys/instruments/stepfunctions/input-procesado-con-job-4/blaze_test_scikit/\\\",\\\"S3DataDistributionType\\\":\\\"FULLY_REPLICATED\\\"}},\\\"ContentType\\\":\\\"text/plain\\\",\\\"CompressionType\\\":\\\"NONE\\\",\\\"RecordWrapperType\\\":\\\"NONE\\\"}],\\\"OutputDataConfig\\\":{\\\"S3OutputPath\\\":\\\"s3://edgarin-mlend-c2/toys/instruments/stepfunctions/model/\\\"},\\\"ResourceConfig\\\":{\\\"InstanceType\\\":\\\"ml.m5.large\\\",\\\"InstanceCount\\\":1.0,\\\"VolumeSizeInGB\\\":30.0},\\\"StoppingCondition\\\":{\\\"MaxRuntimeInSeconds\\\":360000.0},\\\"CreationTime\\\":1.640017016388E12,\\\"TrainingStartTime\\\":1.640017160618E12,\\\"TrainingEndTime\\\":1.640017320898E12,\\\"LastModifiedTime\\\":1.640017320898E12,\\\"SecondaryStatusTransitions\\\":[{\\\"Status\\\":\\\"Starting\\\",\\\"StartTime\\\":1.640017016388E12,\\\"EndTime\\\":1.640017160618E12,\\\"StatusMessage\\\":\\\"Preparing the instances for training\\\"},{\\\"Status\\\":\\\"Downloading\\\",\\\"StartTime\\\":1.640017160618E12,\\\"EndTime\\\":1.640017188345E12,\\\"StatusMessage\\\":\\\"Downloading input data\\\"},{\\\"Status\\\":\\\"Training\\\",\\\"StartTime\\\":1.640017188345E12,\\\"EndTime\\\":1.640017213356E12,\\\"StatusMessage\\\":\\\"Training image download completed. Training in progress.\\\"},{\\\"Status\\\":\\\"Uploading\\\",\\\"StartTime\\\":1.640017213356E12,\\\"EndTime\\\":1.640017320898E12,\\\"StatusMessage\\\":\\\"Uploading generated training model\\\"},{\\\"Status\\\":\\\"Completed\\\",\\\"StartTime\\\":1.640017320898E12,\\\"EndTime\\\":1.640017320898E12,\\\"StatusMessage\\\":\\\"Training job completed\\\"}],\\\"Tags\\\":{\\\"AWS_STEP_FUNCTIONS_EXECUTION_ARN\\\":\\\"arn:aws:states:us-east-1:114256180253:execution:InstrumentsProcessTrainWorkflow5-txtoutput:1290db03-562b-4092-8b19-cf2e4f2f9c04\\\",\\\"MANAGED_BY_AWS\\\":\\\"STARTED_BY_STEP_FUNCTIONS\\\"}}\", \"outputDetails\": {\"truncated\": false}}}, {\"timestamp\": 1640017325.335, \"type\": \"ExecutionSucceeded\", \"id\": 14, \"previousEventId\": 13, \"executionSucceededEventDetails\": {\"output\": \"{\\\"TrainingJobName\\\":\\\"stepf-instruments-training-job5\\\",\\\"TrainingJobArn\\\":\\\"arn:aws:sagemaker:us-east-1:114256180253:training-job/stepf-instruments-training-job5\\\",\\\"ModelArtifacts\\\":{\\\"S3ModelArtifacts\\\":\\\"s3://edgarin-mlend-c2/toys/instruments/stepfunctions/model/stepf-instruments-training-job5/output/model.tar.gz\\\"},\\\"TrainingJobStatus\\\":\\\"Completed\\\",\\\"SecondaryStatus\\\":\\\"Completed\\\",\\\"HyperParameters\\\":{\\\"mode\\\":\\\"supervised\\\"},\\\"AlgorithmSpecification\\\":{\\\"TrainingImage\\\":\\\"811284229777.dkr.ecr.us-east-1.amazonaws.com/blazingtext:1\\\",\\\"TrainingInputMode\\\":\\\"FILE\\\"},\\\"RoleArn\\\":\\\"arn:aws:iam::114256180253:role/service-role/AmazonSageMaker-ExecutionRole-20211127T235743\\\",\\\"InputDataConfig\\\":[{\\\"ChannelName\\\":\\\"train\\\",\\\"DataSource\\\":{\\\"S3DataSource\\\":{\\\"S3DataType\\\":\\\"S3_PREFIX\\\",\\\"S3Uri\\\":\\\"s3://edgarin-mlend-c2/toys/instruments/stepfunctions/input-procesado-con-job-4/blaze_train_scikit/\\\",\\\"S3DataDistributionType\\\":\\\"FULLY_REPLICATED\\\"}},\\\"ContentType\\\":\\\"text/plain\\\",\\\"CompressionType\\\":\\\"NONE\\\",\\\"RecordWrapperType\\\":\\\"NONE\\\"},{\\\"ChannelName\\\":\\\"validation\\\",\\\"DataSource\\\":{\\\"S3DataSource\\\":{\\\"S3DataType\\\":\\\"S3_PREFIX\\\",\\\"S3Uri\\\":\\\"s3://edgarin-mlend-c2/toys/instruments/stepfunctions/input-procesado-con-job-4/blaze_test_scikit/\\\",\\\"S3DataDistributionType\\\":\\\"FULLY_REPLICATED\\\"}},\\\"ContentType\\\":\\\"text/plain\\\",\\\"CompressionType\\\":\\\"NONE\\\",\\\"RecordWrapperType\\\":\\\"NONE\\\"}],\\\"OutputDataConfig\\\":{\\\"S3OutputPath\\\":\\\"s3://edgarin-mlend-c2/toys/instruments/stepfunctions/model/\\\"},\\\"ResourceConfig\\\":{\\\"InstanceType\\\":\\\"ml.m5.large\\\",\\\"InstanceCount\\\":1.0,\\\"VolumeSizeInGB\\\":30.0},\\\"StoppingCondition\\\":{\\\"MaxRuntimeInSeconds\\\":360000.0},\\\"CreationTime\\\":1.640017016388E12,\\\"TrainingStartTime\\\":1.640017160618E12,\\\"TrainingEndTime\\\":1.640017320898E12,\\\"LastModifiedTime\\\":1.640017320898E12,\\\"SecondaryStatusTransitions\\\":[{\\\"Status\\\":\\\"Starting\\\",\\\"StartTime\\\":1.640017016388E12,\\\"EndTime\\\":1.640017160618E12,\\\"StatusMessage\\\":\\\"Preparing the instances for training\\\"},{\\\"Status\\\":\\\"Downloading\\\",\\\"StartTime\\\":1.640017160618E12,\\\"EndTime\\\":1.640017188345E12,\\\"StatusMessage\\\":\\\"Downloading input data\\\"},{\\\"Status\\\":\\\"Training\\\",\\\"StartTime\\\":1.640017188345E12,\\\"EndTime\\\":1.640017213356E12,\\\"StatusMessage\\\":\\\"Training image download completed. Training in progress.\\\"},{\\\"Status\\\":\\\"Uploading\\\",\\\"StartTime\\\":1.640017213356E12,\\\"EndTime\\\":1.640017320898E12,\\\"StatusMessage\\\":\\\"Uploading generated training model\\\"},{\\\"Status\\\":\\\"Completed\\\",\\\"StartTime\\\":1.640017320898E12,\\\"EndTime\\\":1.640017320898E12,\\\"StatusMessage\\\":\\\"Training job completed\\\"}],\\\"Tags\\\":{\\\"AWS_STEP_FUNCTIONS_EXECUTION_ARN\\\":\\\"arn:aws:states:us-east-1:114256180253:execution:InstrumentsProcessTrainWorkflow5-txtoutput:1290db03-562b-4092-8b19-cf2e4f2f9c04\\\",\\\"MANAGED_BY_AWS\\\":\\\"STARTED_BY_STEP_FUNCTIONS\\\"}}\", \"outputDetails\": {\"truncated\": false}}}] };\n",
       "\n",
       "    var graph = new sfn.StateMachineExecutionGraph(definition, events, elementId, options);\n",
       "    graph.render();\n",
       "});\n",
       "\n",
       "</script>\n"
      ],
      "text/plain": [
       "<IPython.core.display.HTML object>"
      ]
     },
     "execution_count": 11,
     "metadata": {},
     "output_type": "execute_result"
    }
   ],
   "source": [
    "execution.render_progress()"
   ]
  },
  {
   "cell_type": "code",
   "execution_count": null,
   "metadata": {},
   "outputs": [],
   "source": []
  }
 ],
 "metadata": {
  "instance_type": "ml.t3.medium",
  "kernelspec": {
   "display_name": "Python 3 (Data Science)",
   "language": "python",
   "name": "python3__SAGEMAKER_INTERNAL__arn:aws:sagemaker:us-east-1:081325390199:image/datascience-1.0"
  },
  "language_info": {
   "codemirror_mode": {
    "name": "ipython",
    "version": 3
   },
   "file_extension": ".py",
   "mimetype": "text/x-python",
   "name": "python",
   "nbconvert_exporter": "python",
   "pygments_lexer": "ipython3",
   "version": "3.7.10"
  }
 },
 "nbformat": 4,
 "nbformat_minor": 5
}
