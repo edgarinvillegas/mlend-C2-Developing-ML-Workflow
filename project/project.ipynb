{
 "cells": [
  {
   "cell_type": "markdown",
   "metadata": {},
   "source": [
    "# Deploy and monitor a machine learning workflow for Image Classification"
   ]
  },
  {
   "cell_type": "markdown",
   "metadata": {},
   "source": [
    "## Setting up this notebook\n",
    "\n",
    "Notes about the instance size and kernel setup: this notebook has been tested on\n",
    "\n",
    "1. The `Python 3 (Data Science)` kernel\n",
    "2. The `ml.t3.medium` instance\n",
    "\n",
    "## Data Staging\n",
    "\n",
    "We'll use a sample dataset called CIFAR to simulate the challenges Scones Unlimited are facing in Image Classification. In order to start working with CIFAR we'll need to:\n",
    "\n",
    "1. Extract the data from a hosting service\n",
    "2. Transform it into a usable shape and format\n",
    "3. Load it into a production system\n",
    "\n",
    "In other words, we're going to do some simple ETL!\n",
    "\n",
    "### 1. Extract the data from the hosting service\n",
    "\n",
    "In the cell below, define a function `extract_cifar_data` that extracts python version of the CIFAR-100 dataset. The CIFAR dataaset is open source and generously hosted by the University of Toronto at: https://www.cs.toronto.edu/~kriz/cifar-100-python.tar.gz "
   ]
  },
  {
   "cell_type": "code",
   "execution_count": 59,
   "metadata": {},
   "outputs": [],
   "source": [
    "import requests\n",
    "\n",
    "def extract_cifar_data(url, filename=\"cifar.tar.gz\"):\n",
    "    \"\"\"A function for extracting the CIFAR-100 dataset and storing it as a gzipped file\n",
    "    \n",
    "    Arguments:\n",
    "    url      -- the URL where the dataset is hosted\n",
    "    filename -- the full path where the dataset will be written\n",
    "    \n",
    "    \"\"\"\n",
    "    \n",
    "    # Todo: request the data from the data url\n",
    "    # Hint: use `requests.get` method\n",
    "    r = requests.get(url)\n",
    "    with open(filename, \"wb\") as file_context:\n",
    "        file_context.write(r.content)\n",
    "    return"
   ]
  },
  {
   "cell_type": "markdown",
   "metadata": {},
   "source": [
    "img_classifier_models test it out! Run the following cell and check whether a new file `cifar.tar.gz` is created in the file explorer."
   ]
  },
  {
   "cell_type": "code",
   "execution_count": 9,
   "metadata": {},
   "outputs": [],
   "source": [
    "extract_cifar_data(\"https://www.cs.toronto.edu/~kriz/cifar-100-python.tar.gz\")     "
   ]
  },
  {
   "cell_type": "markdown",
   "metadata": {},
   "source": [
    "### 2. Transform the data into a usable shape and format\n",
    "\n",
    "Clearly, distributing the data as a gzipped archive makes sense for the hosting service! It saves on bandwidth, storage, and it's a widely-used archive format. In fact, it's so widely used that the Python community ships a utility for working with them, `tarfile`, as part of its Standard Library. Execute the following cell to decompress your extracted dataset:"
   ]
  },
  {
   "cell_type": "code",
   "execution_count": 10,
   "metadata": {},
   "outputs": [],
   "source": [
    "import tarfile\n",
    "\n",
    "with tarfile.open(\"cifar.tar.gz\", \"r:gz\") as tar:\n",
    "    tar.extractall()"
   ]
  },
  {
   "cell_type": "markdown",
   "metadata": {},
   "source": [
    "A new folder `cifar-100-python` should be created, containing `meta`, `test`, and `train` files. These files are `pickles` and the [CIFAR homepage](https://www.cs.toronto.edu/~kriz/cifar.html) provides a simple script that can be used to load them. We've adapted the script below for you to run:"
   ]
  },
  {
   "cell_type": "code",
   "execution_count": 2,
   "metadata": {},
   "outputs": [],
   "source": [
    "import pickle\n",
    "\n",
    "with open(\"./cifar-100-python/meta\", \"rb\") as f:\n",
    "    dataset_meta = pickle.load(f, encoding='bytes')\n",
    "\n",
    "with open(\"./cifar-100-python/test\", \"rb\") as f:\n",
    "    dataset_test = pickle.load(f, encoding='bytes')\n",
    "\n",
    "with open(\"./cifar-100-python/train\", \"rb\") as f:\n",
    "    dataset_train = pickle.load(f, encoding='bytes')"
   ]
  },
  {
   "cell_type": "code",
   "execution_count": 77,
   "metadata": {},
   "outputs": [
    {
     "data": {
      "text/plain": [
       "dict_keys([b'filenames', b'batch_label', b'fine_labels', b'coarse_labels', b'data'])"
      ]
     },
     "execution_count": 77,
     "metadata": {},
     "output_type": "execute_result"
    }
   ],
   "source": [
    "# Feel free to explore the datasets\n",
    "\n",
    "dataset_train.keys()"
   ]
  },
  {
   "cell_type": "code",
   "execution_count": 31,
   "metadata": {},
   "outputs": [
    {
     "data": {
      "text/plain": [
       "(50000, 21, 50000, 50000, (50000, 3072))"
      ]
     },
     "execution_count": 31,
     "metadata": {},
     "output_type": "execute_result"
    }
   ],
   "source": [
    "len(dataset_train[b'filenames']), len(dataset_train[b'batch_label']), len(dataset_train[b'fine_labels']), len(dataset_train[b'coarse_labels']), dataset_train[b'data'].shape"
   ]
  },
  {
   "cell_type": "code",
   "execution_count": 34,
   "metadata": {},
   "outputs": [
    {
     "data": {
      "text/plain": [
       "b'training batch 1 of 1'"
      ]
     },
     "execution_count": 34,
     "metadata": {},
     "output_type": "execute_result"
    }
   ],
   "source": [
    "dataset_train[b'batch_label']"
   ]
  },
  {
   "cell_type": "markdown",
   "metadata": {},
   "source": [
    "As documented on the homepage, `b'data'` contains rows of 3072 unsigned integers, representing three channels (red, green, and blue) for one 32x32 pixel image per row."
   ]
  },
  {
   "cell_type": "code",
   "execution_count": 35,
   "metadata": {},
   "outputs": [
    {
     "data": {
      "text/plain": [
       "3072"
      ]
     },
     "execution_count": 35,
     "metadata": {},
     "output_type": "execute_result"
    }
   ],
   "source": [
    "32*32*3"
   ]
  },
  {
   "cell_type": "markdown",
   "metadata": {},
   "source": [
    "For a simple gut-check, let's transform one of our images. Each 1024 items in a row is a channel (red, green, then blue). Each 32 items in the channel are a row in the 32x32 image. Using python, we can stack these channels into a 32x32x3 array, and save it as a PNG file:"
   ]
  },
  {
   "cell_type": "code",
   "execution_count": 31,
   "metadata": {},
   "outputs": [],
   "source": [
    "import numpy as np\n",
    "\n",
    "# Each 1024 in a row is a channel (red, green, then blue)\n",
    "row = dataset_train[b'data'][0]\n",
    "red, green, blue = row[0:1024], row[1024:2048], row[2048:]\n",
    "\n",
    "# Each 32 items in the channel are a row in the 32x32 image\n",
    "red = red.reshape(32,32)\n",
    "green = green.reshape(32,32)\n",
    "blue = blue.reshape(32,32)\n",
    "\n",
    "# Combine the channels into a 32x32x3 image!\n",
    "combined = np.dstack((red,green,blue))"
   ]
  },
  {
   "cell_type": "markdown",
   "metadata": {},
   "source": [
    "For a more concise version, consider the following:"
   ]
  },
  {
   "cell_type": "code",
   "execution_count": 32,
   "metadata": {},
   "outputs": [],
   "source": [
    "# All in one:\n",
    "test_image = np.dstack((\n",
    "    row[0:1024].reshape(32,32),\n",
    "    row[1024:2048].reshape(32,32),\n",
    "    row[2048:].reshape(32,32)\n",
    "))"
   ]
  },
  {
   "cell_type": "code",
   "execution_count": 33,
   "metadata": {},
   "outputs": [
    {
     "data": {
      "image/png": "[encoded data removed]",
      "text/plain": [
       "<Figure size 432x288 with 1 Axes>"
      ]
     },
     "metadata": {
      "needs_background": "light"
     },
     "output_type": "display_data"
    }
   ],
   "source": [
    "import matplotlib.pyplot as plt\n",
    "plt.imshow(test_image);"
   ]
  },
  {
   "cell_type": "code",
   "execution_count": 34,
   "metadata": {},
   "outputs": [
    {
     "data": {
      "image/png": "[encoded data removed]",
      "text/plain": [
       "<Figure size 432x288 with 1 Axes>"
      ]
     },
     "metadata": {
      "needs_background": "light"
     },
     "output_type": "display_data"
    }
   ],
   "source": [
    "def show_image(raw_data):\n",
    "    row = raw_data\n",
    "    image = np.dstack((\n",
    "        row[0:1024].reshape(32,32),\n",
    "        row[1024:2048].reshape(32,32),\n",
    "        row[2048:].reshape(32,32)\n",
    "    ))\n",
    "    plt.imshow(image);\n",
    "    \n",
    "show_image(dataset_train[b'data'][0])"
   ]
  },
  {
   "cell_type": "markdown",
   "metadata": {},
   "source": [
    "Looks like a cow! Let's check the label. `dataset_meta` contains label names in order, and `dataset_train` has a list of labels for each row."
   ]
  },
  {
   "cell_type": "code",
   "execution_count": 39,
   "metadata": {},
   "outputs": [
    {
     "data": {
      "text/plain": [
       "19"
      ]
     },
     "execution_count": 39,
     "metadata": {},
     "output_type": "execute_result"
    }
   ],
   "source": [
    "dataset_train[b'fine_labels'][0]"
   ]
  },
  {
   "cell_type": "markdown",
   "metadata": {},
   "source": [
    "Our image has a label of `19`, so let's see what the 19th item is in the list of label names."
   ]
  },
  {
   "cell_type": "code",
   "execution_count": 40,
   "metadata": {},
   "outputs": [
    {
     "name": "stdout",
     "output_type": "stream",
     "text": [
      "b'cattle'\n"
     ]
    }
   ],
   "source": [
    "print(dataset_meta[b'fine_label_names'][19])"
   ]
  },
  {
   "cell_type": "markdown",
   "metadata": {},
   "source": [
    "Ok! 'cattle' sounds about right. By the way, using the previous two lines we can do:"
   ]
  },
  {
   "cell_type": "code",
   "execution_count": 41,
   "metadata": {},
   "outputs": [
    {
     "name": "stdout",
     "output_type": "stream",
     "text": [
      "b'cattle'\n"
     ]
    }
   ],
   "source": [
    "n = 0\n",
    "print(dataset_meta[b'fine_label_names'][dataset_train[b'fine_labels'][n]])"
   ]
  },
  {
   "cell_type": "markdown",
   "metadata": {},
   "source": [
    "Now we know how to check labels, is there a way that we can also check file names? `dataset_train` also contains a `b'filenames'` key. Let's see what we have here:"
   ]
  },
  {
   "cell_type": "code",
   "execution_count": 42,
   "metadata": {},
   "outputs": [
    {
     "name": "stdout",
     "output_type": "stream",
     "text": [
      "b'bos_taurus_s_000507.png'\n"
     ]
    }
   ],
   "source": [
    "print(dataset_train[b'filenames'][0])"
   ]
  },
  {
   "cell_type": "markdown",
   "metadata": {},
   "source": [
    "\"Taurus\" is the name of a subspecies of cattle, so this looks like a pretty reasonable filename. To save an image we can also do:"
   ]
  },
  {
   "cell_type": "code",
   "execution_count": 43,
   "metadata": {},
   "outputs": [],
   "source": [
    "plt.imsave(\"file.png\", test_image)"
   ]
  },
  {
   "cell_type": "markdown",
   "metadata": {},
   "source": [
    "Your new PNG file should now appear in the file explorer -- go ahead and pop it open to see!\n",
    "\n",
    "Now that you know how to reshape the images, save them as files, and capture their filenames and labels, let's just capture all the bicycles and motorcycles and save them. Scones Unlimited can use a model that tells these apart to route delivery drivers automatically.\n",
    "\n",
    "In the following cell, identify the label numbers for Bicycles and Motorcycles:"
   ]
  },
  {
   "cell_type": "code",
   "execution_count": null,
   "metadata": {},
   "outputs": [],
   "source": [
    "import pandas as pd\n",
    "\n",
    "# Todo: Filter the dataset_train and dataset_meta objects to find the label numbers for Bicycle and Motorcycles\n",
    "BIKE_I = dataset_meta[b'fine_label_names'].index(b'bicycle')\n",
    "MOTO_I = dataset_meta[b'fine_label_names'].index(b'motorcycle')\n",
    "\n",
    "#bicycle_index, moto_index\n",
    "BIKE_I, MOTO_I"
   ]
  },
  {
   "cell_type": "markdown",
   "metadata": {},
   "source": [
    "Good job! We only need objects with label 8 and 48 -- this drastically simplifies our handling of the data! Below we construct a dataframe for you, and you can safely drop the rows that don't contain observations about bicycles and motorcycles. Fill in the missing lines below to drop all other rows:"
   ]
  },
  {
   "cell_type": "code",
   "execution_count": 7,
   "metadata": {},
   "outputs": [],
   "source": [
    "#Construct the dataframe\n",
    "df_train = pd.DataFrame({\n",
    "    \"filenames\": dataset_train[b'filenames'],\n",
    "    \"labels\": dataset_train[b'fine_labels'],\n",
    "    \"row\": range(len(dataset_train[b'filenames']))\n",
    "})\n",
    "\n",
    "# Drop all rows from df_train where label is not 8 or 48\n",
    "df_train = df_train.query('labels==8 or labels==48')\n",
    "\n",
    "# Decode df_train.filenames so they are regular strings\n",
    "df_train[\"filenames\"] = df_train[\"filenames\"].apply(\n",
    "    lambda x: x.decode(\"utf-8\")\n",
    ")\n",
    "\n",
    "\n",
    "df_test = pd.DataFrame({\n",
    "    \"filenames\": dataset_test[b'filenames'],\n",
    "    \"labels\": dataset_test[b'fine_labels'],\n",
    "    \"row\": range(len(dataset_test[b'filenames']))\n",
    "})\n",
    "\n",
    "# Drop all rows from df_test where label is not 8 or 48\n",
    "df_test = df_test.query('labels==8 or labels==48')\n",
    "\n",
    "# Decode df_test.filenames so they are regular strings\n",
    "df_test[\"filenames\"] = df_test[\"filenames\"].apply(\n",
    "    lambda x: x.decode(\"utf-8\")\n",
    ")"
   ]
  },
  {
   "cell_type": "code",
   "execution_count": 51,
   "metadata": {},
   "outputs": [
    {
     "data": {
      "text/html": [
       "<div>\n",
       "<style scoped>\n",
       "    .dataframe tbody tr th:only-of-type {\n",
       "        vertical-align: middle;\n",
       "    }\n",
       "\n",
       "    .dataframe tbody tr th {\n",
       "        vertical-align: top;\n",
       "    }\n",
       "\n",
       "    .dataframe thead th {\n",
       "        text-align: right;\n",
       "    }\n",
       "</style>\n",
       "<table border=\"1\" class=\"dataframe\">\n",
       "  <thead>\n",
       "    <tr style=\"text-align: right;\">\n",
       "      <th></th>\n",
       "      <th>filenames</th>\n",
       "      <th>labels</th>\n",
       "      <th>row</th>\n",
       "    </tr>\n",
       "  </thead>\n",
       "  <tbody>\n",
       "    <tr>\n",
       "      <th>16</th>\n",
       "      <td>bike_s_000682.png</td>\n",
       "      <td>8</td>\n",
       "      <td>16</td>\n",
       "    </tr>\n",
       "    <tr>\n",
       "      <th>30</th>\n",
       "      <td>bike_s_000127.png</td>\n",
       "      <td>8</td>\n",
       "      <td>30</td>\n",
       "    </tr>\n",
       "    <tr>\n",
       "      <th>130</th>\n",
       "      <td>cycle_s_002598.png</td>\n",
       "      <td>8</td>\n",
       "      <td>130</td>\n",
       "    </tr>\n",
       "    <tr>\n",
       "      <th>152</th>\n",
       "      <td>minibike_s_000824.png</td>\n",
       "      <td>48</td>\n",
       "      <td>152</td>\n",
       "    </tr>\n",
       "    <tr>\n",
       "      <th>195</th>\n",
       "      <td>motorcycle_s_001856.png</td>\n",
       "      <td>48</td>\n",
       "      <td>195</td>\n",
       "    </tr>\n",
       "    <tr>\n",
       "      <th>...</th>\n",
       "      <td>...</td>\n",
       "      <td>...</td>\n",
       "      <td>...</td>\n",
       "    </tr>\n",
       "    <tr>\n",
       "      <th>49578</th>\n",
       "      <td>velocipede_s_000010.png</td>\n",
       "      <td>8</td>\n",
       "      <td>49578</td>\n",
       "    </tr>\n",
       "    <tr>\n",
       "      <th>49588</th>\n",
       "      <td>motorcycle_s_001247.png</td>\n",
       "      <td>48</td>\n",
       "      <td>49588</td>\n",
       "    </tr>\n",
       "    <tr>\n",
       "      <th>49882</th>\n",
       "      <td>motorcycle_s_000724.png</td>\n",
       "      <td>48</td>\n",
       "      <td>49882</td>\n",
       "    </tr>\n",
       "    <tr>\n",
       "      <th>49962</th>\n",
       "      <td>velocipede_s_001637.png</td>\n",
       "      <td>8</td>\n",
       "      <td>49962</td>\n",
       "    </tr>\n",
       "    <tr>\n",
       "      <th>49985</th>\n",
       "      <td>motorcycle_s_000291.png</td>\n",
       "      <td>48</td>\n",
       "      <td>49985</td>\n",
       "    </tr>\n",
       "  </tbody>\n",
       "</table>\n",
       "<p>1000 rows × 3 columns</p>\n",
       "</div>"
      ],
      "text/plain": [
       "                     filenames  labels    row\n",
       "16           bike_s_000682.png       8     16\n",
       "30           bike_s_000127.png       8     30\n",
       "130         cycle_s_002598.png       8    130\n",
       "152      minibike_s_000824.png      48    152\n",
       "195    motorcycle_s_001856.png      48    195\n",
       "...                        ...     ...    ...\n",
       "49578  velocipede_s_000010.png       8  49578\n",
       "49588  motorcycle_s_001247.png      48  49588\n",
       "49882  motorcycle_s_000724.png      48  49882\n",
       "49962  velocipede_s_001637.png       8  49962\n",
       "49985  motorcycle_s_000291.png      48  49985\n",
       "\n",
       "[1000 rows x 3 columns]"
      ]
     },
     "execution_count": 51,
     "metadata": {},
     "output_type": "execute_result"
    }
   ],
   "source": [
    "df_train"
   ]
  },
  {
   "cell_type": "markdown",
   "metadata": {},
   "source": [
    "Now that the data is filtered for just our classes, we can save all our images."
   ]
  },
  {
   "cell_type": "code",
   "execution_count": 23,
   "metadata": {},
   "outputs": [],
   "source": [
    "!mkdir ./train\n",
    "!mkdir ./test"
   ]
  },
  {
   "cell_type": "markdown",
   "metadata": {},
   "source": [
    "In the previous sections we introduced you to several key snippets of code:\n",
    "\n",
    "1. Grabbing the image data:\n",
    "\n",
    "```python\n",
    "dataset_train[b'data'][0]\n",
    "```\n",
    "\n",
    "2. A simple idiom for stacking the image data into the right shape\n",
    "\n",
    "```python\n",
    "import numpy as np\n",
    "np.dstack((\n",
    "    row[0:1024].reshape(32,32),\n",
    "    row[1024:2048].reshape(32,32),\n",
    "    row[2048:].reshape(32,32)\n",
    "))\n",
    "```\n",
    "\n",
    "3. A simple `matplotlib` utility for saving images\n",
    "\n",
    "```python\n",
    "plt.imsave(path+row['filenames'], target)\n",
    "```\n",
    "\n",
    "Compose these together into a function that saves all the images into the `./test` and `./train` directories. Use the comments in the body of the `save_images` function below to guide your construction of the function:\n"
   ]
  },
  {
   "cell_type": "code",
   "execution_count": 35,
   "metadata": {},
   "outputs": [
    {
     "data": {
      "text/plain": [
       "True"
      ]
     },
     "execution_count": 35,
     "metadata": {},
     "output_type": "execute_result"
    }
   ],
   "source": [
    "def save_image(path, dataset, n):    \n",
    "    #Grab the image data in row-major form\n",
    "    row = dataset[b'data'][n]    \n",
    "    # Consolidated stacking/reshaping from earlier\n",
    "    img = np.dstack((\n",
    "        row[0:1024].reshape(32,32),\n",
    "        row[1024:2048].reshape(32,32),\n",
    "        row[2048:].reshape(32,32)\n",
    "    ))\n",
    "    # Save the image\n",
    "    filename = dataset[b'filenames'][n].decode('utf-8')\n",
    "    plt.imsave(path+filename, img)\n",
    "    return True\n",
    "\n",
    "   \n",
    "def save_images():\n",
    "    for _, record in df_test.iterrows():\n",
    "        save_image('./test/', dataset_test, record['row'])\n",
    "        \n",
    "    for _, record in df_train.iterrows():\n",
    "        save_image('./train/', dataset_train, record['row'])\n",
    "       \n",
    "    # Return any signal data you want for debugging\n",
    "    return True\n",
    "\n",
    "## TODO: save ALL images using the save_images function\n",
    "save_images()\n"
   ]
  },
  {
   "cell_type": "markdown",
   "metadata": {},
   "source": [
    "### 3. Load the data\n",
    "\n",
    "Now we can load the data into S3.\n",
    "\n",
    "Using the sagemaker SDK grab the current region, execution role, and bucket."
   ]
  },
  {
   "cell_type": "code",
   "execution_count": 30,
   "metadata": {},
   "outputs": [
    {
     "name": "stdout",
     "output_type": "stream",
     "text": [
      "Default Bucket: project2-scones\n",
      "AWS Region: us-east-1\n",
      "RoleArn: arn:aws:iam::114256180253:role/service-role/AmazonSageMaker-ExecutionRole-20211127T235743\n",
      "Sm Session: <sagemaker.session.Session object at 0x7f53ed150690>\n"
     ]
    }
   ],
   "source": [
    "import sagemaker\n",
    "import boto3\n",
    "#s3://edgarin-mlend-c2/project/\n",
    "#s3://project2-scones\n",
    "\n",
    "bucket = 'project2-scones' ## TODO: fill in\n",
    "print(\"Default Bucket: {}\".format(bucket))\n",
    "\n",
    "region = boto3.session.Session().region_name\n",
    "print(\"AWS Region: {}\".format(region))\n",
    "\n",
    "role = sagemaker.session.get_execution_role()\n",
    "print(\"RoleArn: {}\".format(role))\n",
    "\n",
    "session = sagemaker.session.Session()\n",
    "print(f\"Sm Session: {session}\")"
   ]
  },
  {
   "cell_type": "markdown",
   "metadata": {},
   "source": [
    "With this data we can easily sync your data up into S3!"
   ]
  },
  {
   "cell_type": "code",
   "execution_count": 31,
   "metadata": {},
   "outputs": [],
   "source": [
    "import os\n",
    "\n",
    "os.environ[\"DEFAULT_S3_BUCKET\"] = bucket\n",
    "\n",
    "# Commented because I don't want to reexecute it accidentally\n",
    "# !aws s3 sync ./train s3://${DEFAULT_S3_BUCKET}/train/\n",
    "# !aws s3 sync ./test s3://${DEFAULT_S3_BUCKET}/test/"
   ]
  },
  {
   "cell_type": "markdown",
   "metadata": {},
   "source": [
    "And that's it! You can check the bucket and verify that the items were uploaded.\n",
    "\n",
    "## Model Training\n",
    "\n",
    "For Image Classification, Sagemaker [also expects metadata](https://docs.aws.amazon.com/sagemaker/latest/dg/image-classification.html) e.g. in the form of TSV files with labels and filepaths. We can generate these using our Pandas DataFrames from earlier:"
   ]
  },
  {
   "cell_type": "code",
   "execution_count": 11,
   "metadata": {},
   "outputs": [],
   "source": [
    "def to_metadata_file(df, prefix):\n",
    "    df[\"s3_path\"] = df[\"filenames\"]\n",
    "    df[\"labels\"] = df[\"labels\"].apply(lambda x: 0 if x==8 else 1)\n",
    "    return df[[\"row\", \"labels\", \"s3_path\"]].to_csv(\n",
    "        f\"{prefix}.lst\", sep=\"\\t\", index=False, header=False\n",
    "    )\n",
    "    \n",
    "to_metadata_file(df_train.copy(), \"train\")\n",
    "to_metadata_file(df_test.copy(), \"test\")"
   ]
  },
  {
   "cell_type": "markdown",
   "metadata": {},
   "source": [
    "We can also upload our manifest files:"
   ]
  },
  {
   "cell_type": "code",
   "execution_count": 9,
   "metadata": {},
   "outputs": [],
   "source": [
    "import boto3\n",
    "\n",
    "# Upload files\n",
    "boto3.Session().resource('s3').Bucket(\n",
    "    bucket).Object('train.lst').upload_file('./train.lst')\n",
    "boto3.Session().resource('s3').Bucket(\n",
    "    bucket).Object('test.lst').upload_file('./test.lst')"
   ]
  },
  {
   "cell_type": "markdown",
   "metadata": {},
   "source": [
    "Using the `bucket` and `region` info we can get the latest prebuilt container to run our training job, and define an output location on our s3 bucket for the model. Use the `image_uris` function from the SageMaker SDK to retrieve the latest `image-classification` image below:"
   ]
  },
  {
   "cell_type": "code",
   "execution_count": 32,
   "metadata": {},
   "outputs": [
    {
     "name": "stderr",
     "output_type": "stream",
     "text": [
      "Defaulting to the only supported framework/algorithm version: 1. Ignoring framework/algorithm version: latest.\n"
     ]
    }
   ],
   "source": [
    "from sagemaker import image_uris\n",
    "# Use the image_uris function to retrieve the latest 'image-classification' image \n",
    "algo_image = image_uris.retrieve('image-classification', region, version='latest')\n",
    "s3_output_location = f\"s3://{bucket}/models/image_model\""
   ]
  },
  {
   "cell_type": "markdown",
   "metadata": {},
   "source": [
    "We're ready to create an estimator! Create an estimator `img_classifier_model` that uses one instance of `ml.p2.xlarge`. Ensure that y ou use the output location we defined above - we'll be referring to that later!"
   ]
  },
  {
   "cell_type": "code",
   "execution_count": 44,
   "metadata": {},
   "outputs": [],
   "source": [
    "img_classifier_model=sagemaker.estimator.Estimator(\n",
    "    ## TODO: define your estimator options    \n",
    "    algo_image,\n",
    "    role=role,\n",
    "    instance_count=1,\n",
    "    instance_type='ml.p2.xlarge',\n",
    "    output_path=s3_output_location,\n",
    "    sagemaker_session=session\n",
    ")"
   ]
  },
  {
   "cell_type": "code",
   "execution_count": 45,
   "metadata": {},
   "outputs": [
    {
     "data": {
      "text/plain": [
       "1000"
      ]
     },
     "execution_count": 45,
     "metadata": {},
     "output_type": "execute_result"
    }
   ],
   "source": [
    "df_train.shape[0]"
   ]
  },
  {
   "cell_type": "markdown",
   "metadata": {},
   "source": [
    "We can also set a few key hyperparameters and define the inputs for our model:"
   ]
  },
  {
   "cell_type": "code",
   "execution_count": 52,
   "metadata": {},
   "outputs": [],
   "source": [
    "img_classifier_model.set_hyperparameters(\n",
    "    image_shape='3,32,32', # TODO: Fill in\n",
    "    num_classes=2, # TODO: Fill in\n",
    "    num_training_samples= df_train.shape[0] # TODO: fill in\n",
    ")"
   ]
  },
  {
   "cell_type": "markdown",
   "metadata": {},
   "source": [
    "The `image-classification` image uses four input channels with very specific input parameters. For convenience, we've provided them below:"
   ]
  },
  {
   "cell_type": "code",
   "execution_count": 53,
   "metadata": {},
   "outputs": [],
   "source": [
    "from sagemaker.debugger import Rule, rule_configs\n",
    "from sagemaker.session import TrainingInput\n",
    "model_inputs = {\n",
    "        \"train\": sagemaker.inputs.TrainingInput(\n",
    "            s3_data=f\"s3://{bucket}/train/\",\n",
    "            content_type=\"application/x-image\"\n",
    "        ),\n",
    "        \"validation\": sagemaker.inputs.TrainingInput(\n",
    "            s3_data=f\"s3://{bucket}/test/\",\n",
    "            content_type=\"application/x-image\"\n",
    "        ),\n",
    "        \"train_lst\": sagemaker.inputs.TrainingInput(\n",
    "            s3_data=f\"s3://{bucket}/train.lst\",\n",
    "            content_type=\"application/x-image\"\n",
    "        ),\n",
    "        \"validation_lst\": sagemaker.inputs.TrainingInput(\n",
    "            s3_data=f\"s3://{bucket}/test.lst\",\n",
    "            content_type=\"application/x-image\"\n",
    "        )\n",
    "}"
   ]
  },
  {
   "cell_type": "markdown",
   "metadata": {},
   "source": [
    "Great, now we can train the model using the model_inputs. In the cell below, call the `fit` method on our model,:"
   ]
  },
  {
   "cell_type": "code",
   "execution_count": 54,
   "metadata": {},
   "outputs": [
    {
     "name": "stdout",
     "output_type": "stream",
     "text": [
      "2021-12-28 20:11:26 Starting - Starting the training job...\n",
      "2021-12-28 20:11:50 Starting - Launching requested ML instancesProfilerReport-1640722286: InProgress\n",
      "......\n",
      "2021-12-28 20:12:52 Starting - Preparing the instances for training............\n",
      "2021-12-28 20:14:51 Downloading - Downloading input data...\n",
      "2021-12-28 20:15:11 Training - Downloading the training image......\n",
      "2021-12-28 20:16:24 Training - Training image download completed. Training in progress..\u001b[34mDocker entrypoint called with argument(s): train\u001b[0m\n",
      "\u001b[34m[12/28/2021 20:16:28 INFO 140145065281344] Reading default configuration from /opt/amazon/lib/python3.7/site-packages/image_classification/default-input.json: {'use_pretrained_model': 0, 'num_layers': 152, 'epochs': 30, 'learning_rate': 0.1, 'lr_scheduler_factor': 0.1, 'optimizer': 'sgd', 'momentum': 0, 'weight_decay': 0.0001, 'beta_1': 0.9, 'beta_2': 0.999, 'eps': 1e-08, 'gamma': 0.9, 'mini_batch_size': 32, 'image_shape': '3,224,224', 'precision_dtype': 'float32'}\u001b[0m\n",
      "\u001b[34m[12/28/2021 20:16:28 INFO 140145065281344] Merging with provided configuration from /opt/ml/input/config/hyperparameters.json: {'num_classes': '2', 'num_training_samples': '1000', 'image_shape': '3,32,32'}\u001b[0m\n",
      "\u001b[34m[12/28/2021 20:16:28 INFO 140145065281344] Final configuration: {'use_pretrained_model': 0, 'num_layers': 152, 'epochs': 30, 'learning_rate': 0.1, 'lr_scheduler_factor': 0.1, 'optimizer': 'sgd', 'momentum': 0, 'weight_decay': 0.0001, 'beta_1': 0.9, 'beta_2': 0.999, 'eps': 1e-08, 'gamma': 0.9, 'mini_batch_size': 32, 'image_shape': '3,32,32', 'precision_dtype': 'float32', 'num_classes': '2', 'num_training_samples': '1000'}\u001b[0m\n",
      "\u001b[34m[12/28/2021 20:16:28 INFO 140145065281344] Searching for .lst files in /opt/ml/input/data/train_lst.\u001b[0m\n",
      "\u001b[34m[12/28/2021 20:16:28 INFO 140145065281344] Creating record files for train.lst\u001b[0m\n",
      "\u001b[34m[12/28/2021 20:16:28 INFO 140145065281344] Done creating record files...\u001b[0m\n",
      "\u001b[34m[12/28/2021 20:16:28 INFO 140145065281344] Searching for .lst files in /opt/ml/input/data/validation_lst.\u001b[0m\n",
      "\u001b[34m[12/28/2021 20:16:28 INFO 140145065281344] Creating record files for test.lst\u001b[0m\n",
      "\u001b[34m[12/28/2021 20:16:28 INFO 140145065281344] Done creating record files...\u001b[0m\n",
      "\u001b[34m[12/28/2021 20:16:28 INFO 140145065281344] use_pretrained_model: 0\u001b[0m\n",
      "\u001b[34m[12/28/2021 20:16:28 INFO 140145065281344] multi_label: 0\u001b[0m\n",
      "\u001b[34m[12/28/2021 20:16:28 INFO 140145065281344] Performing random weight initialization\u001b[0m\n",
      "\u001b[34m[12/28/2021 20:16:28 INFO 140145065281344] ---- Parameters ----\u001b[0m\n",
      "\u001b[34m[12/28/2021 20:16:28 INFO 140145065281344] num_layers: 152\u001b[0m\n",
      "\u001b[34m[12/28/2021 20:16:28 INFO 140145065281344] data type: <class 'numpy.float32'>\u001b[0m\n",
      "\u001b[34m[12/28/2021 20:16:28 INFO 140145065281344] epochs: 30\u001b[0m\n",
      "\u001b[34m[12/28/2021 20:16:28 INFO 140145065281344] optimizer: sgd\u001b[0m\n",
      "\u001b[34m[12/28/2021 20:16:28 INFO 140145065281344] momentum: 0.9\u001b[0m\n",
      "\u001b[34m[12/28/2021 20:16:28 INFO 140145065281344] weight_decay: 0.0001\u001b[0m\n",
      "\u001b[34m[12/28/2021 20:16:28 INFO 140145065281344] learning_rate: 0.1\u001b[0m\n",
      "\u001b[34m[12/28/2021 20:16:28 INFO 140145065281344] num_training_samples: 1000\u001b[0m\n",
      "\u001b[34m[12/28/2021 20:16:28 INFO 140145065281344] mini_batch_size: 32\u001b[0m\n",
      "\u001b[34m[12/28/2021 20:16:28 INFO 140145065281344] image_shape: 3,32,32\u001b[0m\n",
      "\u001b[34m[12/28/2021 20:16:28 INFO 140145065281344] num_classes: 2\u001b[0m\n",
      "\u001b[34m[12/28/2021 20:16:28 INFO 140145065281344] augmentation_type: None\u001b[0m\n",
      "\u001b[34m[12/28/2021 20:16:28 INFO 140145065281344] kv_store: device\u001b[0m\n",
      "\u001b[34m[12/28/2021 20:16:28 INFO 140145065281344] checkpoint_frequency not set, will store the best model\u001b[0m\n",
      "\u001b[34m[12/28/2021 20:16:28 INFO 140145065281344] --------------------\u001b[0m\n",
      "\u001b[34m[12/28/2021 20:16:29 INFO 140145065281344] Setting number of threads: 3\u001b[0m\n",
      "\u001b[34m[20:16:40] /opt/brazil-pkg-cache/packages/AIAlgorithmsMXNet/AIAlgorithmsMXNet-1.3.x_ecl_Cuda_10.1.x.10042.0/AL2_x86_64/generic-flavor/src/src/operator/nn/./cudnn/./cudnn_algoreg-inl.h:97: Running performance tests to find the best convolution algorithm, this can take a while... (setting env variable MXNET_CUDNN_AUTOTUNE_DEFAULT to 0 to disable)\u001b[0m\n",
      "\u001b[34m[12/28/2021 20:16:58 INFO 140145065281344] Epoch[0] Batch [20]#011Speed: 34.769 samples/sec#011accuracy=0.604167\u001b[0m\n",
      "\u001b[34m[12/28/2021 20:17:04 INFO 140145065281344] Epoch[0] Train-accuracy=0.649194\u001b[0m\n",
      "\u001b[34m[12/28/2021 20:17:04 INFO 140145065281344] Epoch[0] Time cost=23.930\u001b[0m\n",
      "\u001b[34m[12/28/2021 20:17:05 INFO 140145065281344] Epoch[0] Validation-accuracy=0.494792\u001b[0m\n",
      "\u001b[34m[12/28/2021 20:17:06 INFO 140145065281344] Storing the best model with validation accuracy: 0.494792\u001b[0m\n",
      "\u001b[34m[12/28/2021 20:17:06 INFO 140145065281344] Saved checkpoint to \"/opt/ml/model/image-classification-0001.params\"\u001b[0m\n",
      "\u001b[34m[12/28/2021 20:17:17 INFO 140145065281344] Epoch[1] Batch [20]#011Speed: 57.237 samples/sec#011accuracy=0.717262\u001b[0m\n",
      "\u001b[34m[12/28/2021 20:17:23 INFO 140145065281344] Epoch[1] Train-accuracy=0.728831\u001b[0m\n",
      "\u001b[34m[12/28/2021 20:17:23 INFO 140145065281344] Epoch[1] Time cost=16.665\u001b[0m\n",
      "\u001b[34m[12/28/2021 20:17:24 INFO 140145065281344] Epoch[1] Validation-accuracy=0.708333\u001b[0m\n",
      "\u001b[34m[12/28/2021 20:17:25 INFO 140145065281344] Storing the best model with validation accuracy: 0.708333\u001b[0m\n",
      "\u001b[34m[12/28/2021 20:17:25 INFO 140145065281344] Saved checkpoint to \"/opt/ml/model/image-classification-0002.params\"\u001b[0m\n",
      "\u001b[34m[12/28/2021 20:17:36 INFO 140145065281344] Epoch[2] Batch [20]#011Speed: 57.308 samples/sec#011accuracy=0.745536\u001b[0m\n",
      "\u001b[34m[12/28/2021 20:17:42 INFO 140145065281344] Epoch[2] Train-accuracy=0.743952\u001b[0m\n",
      "\u001b[34m[12/28/2021 20:17:42 INFO 140145065281344] Epoch[2] Time cost=16.676\u001b[0m\n",
      "\u001b[34m[12/28/2021 20:17:43 INFO 140145065281344] Epoch[2] Validation-accuracy=0.791667\u001b[0m\n",
      "\u001b[34m[12/28/2021 20:17:44 INFO 140145065281344] Storing the best model with validation accuracy: 0.791667\u001b[0m\n",
      "\u001b[34m[12/28/2021 20:17:44 INFO 140145065281344] Saved checkpoint to \"/opt/ml/model/image-classification-0003.params\"\u001b[0m\n",
      "\u001b[34m[12/28/2021 20:17:55 INFO 140145065281344] Epoch[3] Batch [20]#011Speed: 57.029 samples/sec#011accuracy=0.752976\u001b[0m\n",
      "\u001b[34m[12/28/2021 20:18:01 INFO 140145065281344] Epoch[3] Train-accuracy=0.773185\u001b[0m\n",
      "\u001b[34m[12/28/2021 20:18:01 INFO 140145065281344] Epoch[3] Time cost=16.782\u001b[0m\n",
      "\u001b[34m[12/28/2021 20:18:03 INFO 140145065281344] Epoch[3] Validation-accuracy=0.848214\u001b[0m\n",
      "\u001b[34m[12/28/2021 20:18:03 INFO 140145065281344] Storing the best model with validation accuracy: 0.848214\u001b[0m\n",
      "\u001b[34m[12/28/2021 20:18:03 INFO 140145065281344] Saved checkpoint to \"/opt/ml/model/image-classification-0004.params\"\u001b[0m\n",
      "\u001b[34m[12/28/2021 20:18:15 INFO 140145065281344] Epoch[4] Batch [20]#011Speed: 56.137 samples/sec#011accuracy=0.811012\u001b[0m\n",
      "\u001b[34m[12/28/2021 20:18:20 INFO 140145065281344] Epoch[4] Train-accuracy=0.806452\u001b[0m\n",
      "\u001b[34m[12/28/2021 20:18:20 INFO 140145065281344] Epoch[4] Time cost=16.945\u001b[0m\n",
      "\u001b[34m[12/28/2021 20:18:22 INFO 140145065281344] Epoch[4] Validation-accuracy=0.822917\u001b[0m\n",
      "\u001b[34m[12/28/2021 20:18:34 INFO 140145065281344] Epoch[5] Batch [20]#011Speed: 56.749 samples/sec#011accuracy=0.831845\u001b[0m\n",
      "\u001b[34m[12/28/2021 20:18:39 INFO 140145065281344] Epoch[5] Train-accuracy=0.818548\u001b[0m\n",
      "\u001b[34m[12/28/2021 20:18:39 INFO 140145065281344] Epoch[5] Time cost=16.918\u001b[0m\n",
      "\u001b[34m[12/28/2021 20:18:41 INFO 140145065281344] Epoch[5] Validation-accuracy=0.848958\u001b[0m\n",
      "\u001b[34m[12/28/2021 20:18:41 INFO 140145065281344] Storing the best model with validation accuracy: 0.848958\u001b[0m\n",
      "\u001b[34m[12/28/2021 20:18:42 INFO 140145065281344] Saved checkpoint to \"/opt/ml/model/image-classification-0006.params\"\u001b[0m\n",
      "\u001b[34m[12/28/2021 20:18:53 INFO 140145065281344] Epoch[6] Batch [20]#011Speed: 56.785 samples/sec#011accuracy=0.864583\u001b[0m\n",
      "\u001b[34m[12/28/2021 20:18:58 INFO 140145065281344] Epoch[6] Train-accuracy=0.847782\u001b[0m\n",
      "\u001b[34m[12/28/2021 20:18:58 INFO 140145065281344] Epoch[6] Time cost=16.842\u001b[0m\n",
      "\u001b[34m[12/28/2021 20:19:00 INFO 140145065281344] Epoch[6] Validation-accuracy=0.796875\u001b[0m\n",
      "\u001b[34m[12/28/2021 20:19:12 INFO 140145065281344] Epoch[7] Batch [20]#011Speed: 56.074 samples/sec#011accuracy=0.842262\u001b[0m\n",
      "\u001b[34m[12/28/2021 20:19:18 INFO 140145065281344] Epoch[7] Train-accuracy=0.836694\u001b[0m\n",
      "\u001b[34m[12/28/2021 20:19:18 INFO 140145065281344] Epoch[7] Time cost=17.035\u001b[0m\n",
      "\u001b[34m[12/28/2021 20:19:19 INFO 140145065281344] Epoch[7] Validation-accuracy=0.816964\u001b[0m\n",
      "\u001b[34m[12/28/2021 20:19:31 INFO 140145065281344] Epoch[8] Batch [20]#011Speed: 56.185 samples/sec#011accuracy=0.877976\u001b[0m\n",
      "\u001b[34m[12/28/2021 20:19:37 INFO 140145065281344] Epoch[8] Train-accuracy=0.870968\u001b[0m\n",
      "\u001b[34m[12/28/2021 20:19:37 INFO 140145065281344] Epoch[8] Time cost=16.973\u001b[0m\n",
      "\u001b[34m[12/28/2021 20:19:38 INFO 140145065281344] Epoch[8] Validation-accuracy=0.864583\u001b[0m\n",
      "\u001b[34m[12/28/2021 20:19:39 INFO 140145065281344] Storing the best model with validation accuracy: 0.864583\u001b[0m\n",
      "\u001b[34m[12/28/2021 20:19:39 INFO 140145065281344] Saved checkpoint to \"/opt/ml/model/image-classification-0009.params\"\u001b[0m\n",
      "\u001b[34m[12/28/2021 20:19:50 INFO 140145065281344] Epoch[9] Batch [20]#011Speed: 56.545 samples/sec#011accuracy=0.873512\u001b[0m\n",
      "\u001b[34m[12/28/2021 20:19:56 INFO 140145065281344] Epoch[9] Train-accuracy=0.886089\u001b[0m\n",
      "\u001b[34m[12/28/2021 20:19:56 INFO 140145065281344] Epoch[9] Time cost=16.915\u001b[0m\n",
      "\u001b[34m[12/28/2021 20:19:57 INFO 140145065281344] Epoch[9] Validation-accuracy=0.822917\u001b[0m\n",
      "\u001b[34m[12/28/2021 20:20:09 INFO 140145065281344] Epoch[10] Batch [20]#011Speed: 56.129 samples/sec#011accuracy=0.904762\u001b[0m\n",
      "\u001b[34m[12/28/2021 20:20:15 INFO 140145065281344] Epoch[10] Train-accuracy=0.889113\u001b[0m\n",
      "\u001b[34m[12/28/2021 20:20:15 INFO 140145065281344] Epoch[10] Time cost=17.043\u001b[0m\n",
      "\u001b[34m[12/28/2021 20:20:16 INFO 140145065281344] Epoch[10] Validation-accuracy=0.791667\u001b[0m\n",
      "\u001b[34m[12/28/2021 20:20:28 INFO 140145065281344] Epoch[11] Batch [20]#011Speed: 56.421 samples/sec#011accuracy=0.883929\u001b[0m\n",
      "\u001b[34m[12/28/2021 20:20:34 INFO 140145065281344] Epoch[11] Train-accuracy=0.890121\u001b[0m\n",
      "\u001b[34m[12/28/2021 20:20:34 INFO 140145065281344] Epoch[11] Time cost=16.926\u001b[0m\n",
      "\u001b[34m[12/28/2021 20:20:36 INFO 140145065281344] Epoch[11] Validation-accuracy=0.852679\u001b[0m\n",
      "\u001b[34m[12/28/2021 20:20:47 INFO 140145065281344] Epoch[12] Batch [20]#011Speed: 56.267 samples/sec#011accuracy=0.921131\u001b[0m\n",
      "\u001b[34m[12/28/2021 20:20:53 INFO 140145065281344] Epoch[12] Train-accuracy=0.912298\u001b[0m\n",
      "\u001b[34m[12/28/2021 20:20:53 INFO 140145065281344] Epoch[12] Time cost=16.950\u001b[0m\n",
      "\u001b[34m[12/28/2021 20:20:55 INFO 140145065281344] Epoch[12] Validation-accuracy=0.828125\u001b[0m\n",
      "\u001b[34m[12/28/2021 20:21:06 INFO 140145065281344] Epoch[13] Batch [20]#011Speed: 55.980 samples/sec#011accuracy=0.916667\u001b[0m\n",
      "\u001b[34m[12/28/2021 20:21:12 INFO 140145065281344] Epoch[13] Train-accuracy=0.916331\u001b[0m\n",
      "\u001b[34m[12/28/2021 20:21:12 INFO 140145065281344] Epoch[13] Time cost=17.028\u001b[0m\n",
      "\u001b[34m[12/28/2021 20:21:14 INFO 140145065281344] Epoch[13] Validation-accuracy=0.859375\u001b[0m\n",
      "\u001b[34m[12/28/2021 20:21:25 INFO 140145065281344] Epoch[14] Batch [20]#011Speed: 56.358 samples/sec#011accuracy=0.950893\u001b[0m\n",
      "\u001b[34m[12/28/2021 20:21:31 INFO 140145065281344] Epoch[14] Train-accuracy=0.942540\u001b[0m\n",
      "\u001b[34m[12/28/2021 20:21:31 INFO 140145065281344] Epoch[14] Time cost=16.987\u001b[0m\n",
      "\u001b[34m[12/28/2021 20:21:33 INFO 140145065281344] Epoch[14] Validation-accuracy=0.843750\u001b[0m\n",
      "\u001b[34m[12/28/2021 20:21:45 INFO 140145065281344] Epoch[15] Batch [20]#011Speed: 56.259 samples/sec#011accuracy=0.919643\u001b[0m\n",
      "\u001b[34m[12/28/2021 20:21:50 INFO 140145065281344] Epoch[15] Train-accuracy=0.917339\u001b[0m\n",
      "\u001b[34m[12/28/2021 20:21:50 INFO 140145065281344] Epoch[15] Time cost=16.986\u001b[0m\n",
      "\u001b[34m[12/28/2021 20:21:52 INFO 140145065281344] Epoch[15] Validation-accuracy=0.848214\u001b[0m\n",
      "\u001b[34m[12/28/2021 20:22:04 INFO 140145065281344] Epoch[16] Batch [20]#011Speed: 55.746 samples/sec#011accuracy=0.962798\u001b[0m\n",
      "\u001b[34m[12/28/2021 20:22:10 INFO 140145065281344] Epoch[16] Train-accuracy=0.947581\u001b[0m\n",
      "\u001b[34m[12/28/2021 20:22:10 INFO 140145065281344] Epoch[16] Time cost=17.135\u001b[0m\n",
      "\u001b[34m[12/28/2021 20:22:11 INFO 140145065281344] Epoch[16] Validation-accuracy=0.791667\u001b[0m\n",
      "\u001b[34m[12/28/2021 20:22:23 INFO 140145065281344] Epoch[17] Batch [20]#011Speed: 56.185 samples/sec#011accuracy=0.949405\u001b[0m\n",
      "\u001b[34m[12/28/2021 20:22:29 INFO 140145065281344] Epoch[17] Train-accuracy=0.952621\u001b[0m\n",
      "\u001b[34m[12/28/2021 20:22:29 INFO 140145065281344] Epoch[17] Time cost=17.013\u001b[0m\n",
      "\u001b[34m[12/28/2021 20:22:30 INFO 140145065281344] Epoch[17] Validation-accuracy=0.854167\u001b[0m\n",
      "\u001b[34m[12/28/2021 20:22:42 INFO 140145065281344] Epoch[18] Batch [20]#011Speed: 56.244 samples/sec#011accuracy=0.900298\u001b[0m\n",
      "\u001b[34m[12/28/2021 20:22:48 INFO 140145065281344] Epoch[18] Train-accuracy=0.912298\u001b[0m\n",
      "\u001b[34m[12/28/2021 20:22:48 INFO 140145065281344] Epoch[18] Time cost=16.994\u001b[0m\n",
      "\u001b[34m[12/28/2021 20:22:49 INFO 140145065281344] Epoch[18] Validation-accuracy=0.838542\u001b[0m\n",
      "\u001b[34m[12/28/2021 20:23:01 INFO 140145065281344] Epoch[19] Batch [20]#011Speed: 56.082 samples/sec#011accuracy=0.955357\u001b[0m\n",
      "\u001b[34m[12/28/2021 20:23:07 INFO 140145065281344] Epoch[19] Train-accuracy=0.955645\u001b[0m\n",
      "\u001b[34m[12/28/2021 20:23:07 INFO 140145065281344] Epoch[19] Time cost=17.096\u001b[0m\n",
      "\u001b[34m[12/28/2021 20:23:08 INFO 140145065281344] Epoch[19] Validation-accuracy=0.857143\u001b[0m\n",
      "\u001b[34m[12/28/2021 20:23:20 INFO 140145065281344] Epoch[20] Batch [20]#011Speed: 55.983 samples/sec#011accuracy=0.968750\u001b[0m\n",
      "\u001b[34m[12/28/2021 20:23:26 INFO 140145065281344] Epoch[20] Train-accuracy=0.967742\u001b[0m\n",
      "\u001b[34m[12/28/2021 20:23:26 INFO 140145065281344] Epoch[20] Time cost=17.032\u001b[0m\n",
      "\u001b[34m[12/28/2021 20:23:27 INFO 140145065281344] Epoch[20] Validation-accuracy=0.875000\u001b[0m\n",
      "\u001b[34m[12/28/2021 20:23:28 INFO 140145065281344] Storing the best model with validation accuracy: 0.875000\u001b[0m\n",
      "\u001b[34m[12/28/2021 20:23:28 INFO 140145065281344] Saved checkpoint to \"/opt/ml/model/image-classification-0021.params\"\u001b[0m\n",
      "\u001b[34m[12/28/2021 20:23:40 INFO 140145065281344] Epoch[21] Batch [20]#011Speed: 56.199 samples/sec#011accuracy=0.970238\u001b[0m\n",
      "\u001b[34m[12/28/2021 20:23:45 INFO 140145065281344] Epoch[21] Train-accuracy=0.971774\u001b[0m\n",
      "\u001b[34m[12/28/2021 20:23:45 INFO 140145065281344] Epoch[21] Time cost=16.998\u001b[0m\n",
      "\u001b[34m[12/28/2021 20:23:47 INFO 140145065281344] Epoch[21] Validation-accuracy=0.864583\u001b[0m\n",
      "\u001b[34m[12/28/2021 20:23:59 INFO 140145065281344] Epoch[22] Batch [20]#011Speed: 55.966 samples/sec#011accuracy=0.965774\u001b[0m\n",
      "\u001b[34m[12/28/2021 20:24:04 INFO 140145065281344] Epoch[22] Train-accuracy=0.954637\u001b[0m\n",
      "\u001b[34m[12/28/2021 20:24:04 INFO 140145065281344] Epoch[22] Time cost=17.160\u001b[0m\n",
      "\u001b[34m[12/28/2021 20:24:06 INFO 140145065281344] Epoch[22] Validation-accuracy=0.843750\u001b[0m\n",
      "\u001b[34m[12/28/2021 20:24:18 INFO 140145065281344] Epoch[23] Batch [20]#011Speed: 56.287 samples/sec#011accuracy=0.955357\u001b[0m\n",
      "\u001b[34m[12/28/2021 20:24:23 INFO 140145065281344] Epoch[23] Train-accuracy=0.950605\u001b[0m\n",
      "\u001b[34m[12/28/2021 20:24:23 INFO 140145065281344] Epoch[23] Time cost=16.974\u001b[0m\n",
      "\u001b[34m[12/28/2021 20:24:25 INFO 140145065281344] Epoch[23] Validation-accuracy=0.803571\u001b[0m\n",
      "\u001b[34m[12/28/2021 20:24:37 INFO 140145065281344] Epoch[24] Batch [20]#011Speed: 56.055 samples/sec#011accuracy=0.968750\u001b[0m\n",
      "\u001b[34m[12/28/2021 20:24:43 INFO 140145065281344] Epoch[24] Train-accuracy=0.972782\u001b[0m\n",
      "\u001b[34m[12/28/2021 20:24:43 INFO 140145065281344] Epoch[24] Time cost=17.000\u001b[0m\n",
      "\u001b[34m[12/28/2021 20:24:44 INFO 140145065281344] Epoch[24] Validation-accuracy=0.848958\u001b[0m\n",
      "\u001b[34m[12/28/2021 20:24:56 INFO 140145065281344] Epoch[25] Batch [20]#011Speed: 56.240 samples/sec#011accuracy=0.976190\u001b[0m\n",
      "\u001b[34m[12/28/2021 20:25:02 INFO 140145065281344] Epoch[25] Train-accuracy=0.976815\u001b[0m\n",
      "\u001b[34m[12/28/2021 20:25:02 INFO 140145065281344] Epoch[25] Time cost=17.018\u001b[0m\n",
      "\u001b[34m[12/28/2021 20:25:03 INFO 140145065281344] Epoch[25] Validation-accuracy=0.828125\u001b[0m\n",
      "\u001b[34m[12/28/2021 20:25:15 INFO 140145065281344] Epoch[26] Batch [20]#011Speed: 56.018 samples/sec#011accuracy=0.971726\u001b[0m\n",
      "\u001b[34m[12/28/2021 20:25:21 INFO 140145065281344] Epoch[26] Train-accuracy=0.976815\u001b[0m\n",
      "\u001b[34m[12/28/2021 20:25:21 INFO 140145065281344] Epoch[26] Time cost=17.032\u001b[0m\n",
      "\u001b[34m[12/28/2021 20:25:22 INFO 140145065281344] Epoch[26] Validation-accuracy=0.859375\u001b[0m\n",
      "\u001b[34m[12/28/2021 20:25:34 INFO 140145065281344] Epoch[27] Batch [20]#011Speed: 56.321 samples/sec#011accuracy=0.994048\u001b[0m\n",
      "\u001b[34m[12/28/2021 20:25:40 INFO 140145065281344] Epoch[27] Train-accuracy=0.985887\u001b[0m\n",
      "\u001b[34m[12/28/2021 20:25:40 INFO 140145065281344] Epoch[27] Time cost=16.956\u001b[0m\n",
      "\u001b[34m[12/28/2021 20:25:42 INFO 140145065281344] Epoch[27] Validation-accuracy=0.875000\u001b[0m\n",
      "\u001b[34m[12/28/2021 20:25:54 INFO 140145065281344] Epoch[28] Batch [20]#011Speed: 56.136 samples/sec#011accuracy=0.982143\u001b[0m\n",
      "\u001b[34m[12/28/2021 20:25:59 INFO 140145065281344] Epoch[28] Train-accuracy=0.976815\u001b[0m\n",
      "\u001b[34m[12/28/2021 20:25:59 INFO 140145065281344] Epoch[28] Time cost=16.993\u001b[0m\n",
      "\u001b[34m[12/28/2021 20:26:01 INFO 140145065281344] Epoch[28] Validation-accuracy=0.812500\u001b[0m\n",
      "\u001b[34m[12/28/2021 20:26:13 INFO 140145065281344] Epoch[29] Batch [20]#011Speed: 55.958 samples/sec#011accuracy=0.986607\u001b[0m\n",
      "\u001b[34m[12/28/2021 20:26:18 INFO 140145065281344] Epoch[29] Train-accuracy=0.983871\u001b[0m\n",
      "\u001b[34m[12/28/2021 20:26:18 INFO 140145065281344] Epoch[29] Time cost=17.043\u001b[0m\n",
      "\u001b[34m[12/28/2021 20:26:20 INFO 140145065281344] Epoch[29] Validation-accuracy=0.833333\u001b[0m\n",
      "\n",
      "2021-12-28 20:26:35 Uploading - Uploading generated training model\n",
      "2021-12-28 20:27:15 Completed - Training job completed\n",
      "ProfilerReport-1640722286: IssuesFound\n",
      "Training seconds: 738\n",
      "Billable seconds: 738\n"
     ]
    }
   ],
   "source": [
    "## TODO: train your model\n",
    "img_classifier_model.fit(\n",
    "    model_inputs    \n",
    ")"
   ]
  },
  {
   "cell_type": "markdown",
   "metadata": {},
   "source": [
    "If all goes well, you'll end up with a model topping out above `.8` validation accuracy. With only 1000 training samples in the CIFAR dataset, that's pretty good. We could definitely pursue data augmentation & gathering more samples to help us improve further, but for now let's proceed to deploy our model.\n",
    "\n",
    "### Getting ready to deploy\n",
    "\n",
    "To begin with, let's configure Model Monitor to track our deployment. We'll define a `DataCaptureConfig` below:"
   ]
  },
  {
   "cell_type": "code",
   "execution_count": 33,
   "metadata": {},
   "outputs": [],
   "source": [
    "from sagemaker.model_monitor import DataCaptureConfig\n",
    "\n",
    "data_capture_config = DataCaptureConfig(\n",
    "    enable_capture=True,\n",
    "    sampling_percentage=50,        \n",
    "    destination_s3_uri=f\"s3://{bucket}/data_capture\",\n",
    "    sagemaker_session=session\n",
    ")"
   ]
  },
  {
   "cell_type": "code",
   "execution_count": 34,
   "metadata": {},
   "outputs": [
    {
     "data": {
      "text/plain": [
       "<sagemaker.model.Model at 0x7f53ef8d2390>"
      ]
     },
     "execution_count": 34,
     "metadata": {},
     "output_type": "execute_result"
    }
   ],
   "source": [
    "img_classifier_model"
   ]
  },
  {
   "cell_type": "markdown",
   "metadata": {},
   "source": [
    "Note the `destination_s3_uri` parameter: At the end of the project, we can explore the `data_capture` directory in S3 to find crucial data about the inputs and outputs Model Monitor has observed on our model endpoint over time.\n",
    "\n",
    "With that done, deploy your model on a single `ml.m5.xlarge` instance with the data capture config attached:"
   ]
  },
  {
   "cell_type": "code",
   "execution_count": 35,
   "metadata": {},
   "outputs": [],
   "source": [
    "#if not img_classsifier_model:\n",
    "from sagemaker.model import Model\n",
    "from sagemaker.predictor import Predictor\n",
    "\n",
    "img_classifier_model = Model(\n",
    "    image_uri=algo_image, \n",
    "    model_data='s3://project2-scones/models/image_model/image-classification-2021-12-28-20-11-26-332/output/model.tar.gz', \n",
    "    role=role\n",
    ")\n",
    "img_classifier_model.predictor_cls = Predictor"
   ]
  },
  {
   "cell_type": "code",
   "execution_count": 36,
   "metadata": {},
   "outputs": [
    {
     "name": "stdout",
     "output_type": "stream",
     "text": [
      "---------------!image-classification-2021-12-30-00-55-46-527\n"
     ]
    }
   ],
   "source": [
    "# image-classification-2021-12-29-01-44-15-302\n",
    "deployment = img_classifier_model.deploy(    \n",
    "    ## TODO: fill in deployment options\n",
    "    initial_instance_count=1,\n",
    "    instance_type='ml.m5.xlarge',\n",
    "    data_capture_config=data_capture_config\n",
    "    )\n",
    "\n",
    "#endpoint = deployment.endpoint_name  # Only works with just trained model or if model.predictor_cls has been set\n",
    "endpoint = img_classifier_model.endpoint_name # Works Always\n",
    "print(endpoint)"
   ]
  },
  {
   "cell_type": "code",
   "execution_count": 37,
   "metadata": {},
   "outputs": [
    {
     "name": "stdout",
     "output_type": "stream",
     "text": [
      "<sagemaker.predictor.Predictor object at 0x7f53ecb297d0>\n"
     ]
    }
   ],
   "source": [
    "print(deployment)"
   ]
  },
  {
   "cell_type": "markdown",
   "metadata": {},
   "source": [
    "Note the endpoint name for later as well.\n",
    "\n",
    "Next, instantiate a Predictor:"
   ]
  },
  {
   "cell_type": "code",
   "execution_count": 38,
   "metadata": {},
   "outputs": [],
   "source": [
    "from sagemaker.serializers import IdentitySerializer\n",
    "\n",
    "predictor = Predictor(\n",
    "    endpoint_name=endpoint or 'image-classification-2021-12-29-16-23-44-275',\n",
    "    sagemaker_session=session,\n",
    "    serializer=IdentitySerializer(\"image/png\")\n",
    ")"
   ]
  },
  {
   "cell_type": "markdown",
   "metadata": {},
   "source": [
    "In the code snippet below we are going to prepare one of your saved images for prediction. Use the predictor to process the `payload`."
   ]
  },
  {
   "cell_type": "code",
   "execution_count": 39,
   "metadata": {},
   "outputs": [],
   "source": [
    "#from sagemaker.serializers import IdentitySerializer\n",
    "import base64\n",
    "\n",
    "# predictor.serializer = IdentitySerializer(\"image/png\") # Already passed in constructor\n",
    "with open(\"./test/bicycle_s_001789.png\", \"rb\") as f:\n",
    "    payload = f.read()\n",
    "    \n",
    "inference = predictor.predict(payload)"
   ]
  },
  {
   "cell_type": "markdown",
   "metadata": {},
   "source": [
    "Your `inference` object is an array of two values, the predicted probability value for each of your classes (bicycle and motorcycle respectively.) So, for example, a value of `b'[0.91, 0.09]'` indicates the probability of being a bike is 91% and being a motorcycle is 9%."
   ]
  },
  {
   "cell_type": "code",
   "execution_count": 40,
   "metadata": {},
   "outputs": [
    {
     "name": "stdout",
     "output_type": "stream",
     "text": [
      "b'[0.9999934434890747, 6.512540494441055e-06]'\n"
     ]
    }
   ],
   "source": [
    "print(inference)"
   ]
  },
  {
   "cell_type": "code",
   "execution_count": 83,
   "metadata": {},
   "outputs": [
    {
     "data": {
      "text/plain": [
       "[0.9999948740005493, 5.16839099873323e-06]"
      ]
     },
     "execution_count": 83,
     "metadata": {},
     "output_type": "execute_result"
    }
   ],
   "source": [
    "inference"
   ]
  },
  {
   "cell_type": "markdown",
   "metadata": {},
   "source": [
    "### Draft Lambdas and Step Function Workflow\n",
    "\n",
    "Your operations team uses Step Functions to orchestrate serverless workflows. One of the nice things about Step Functions is that [workflows can call other workflows](https://docs.aws.amazon.com/step-functions/latest/dg/connect-stepfunctions.html), so the team can easily plug your workflow into the broader production architecture for Scones Unlimited.\n",
    "\n",
    "In this next stage you're going to write and deploy three Lambda functions, and then use the Step Functions visual editor to chain them together! Our functions are going to work with a simple data object:\n",
    "\n",
    "```python\n",
    "{\n",
    "    \"inferences\": [], # Output of predictor.predict\n",
    "    \"s3_key\": \"\", # Source data S3 key\n",
    "    \"s3_bucket\": \"\", # Source data S3 bucket\n",
    "    \"image_data\": \"\"  # base64 encoded string containing the image data\n",
    "}\n",
    "```\n",
    "\n",
    "A good test object that you can use for Lambda tests and Step Function executions, throughout the next section, might look like this:\n",
    "\n",
    "```python\n",
    "{\n",
    "  \"image_data\": \"\",\n",
    "  \"s3_bucket\": MY_BUCKET_NAME, # Fill in with your bucket\n",
    "  \"s3_key\": \"test/bicycle_s_000513.png\"\n",
    "}\n",
    "```\n",
    "\n",
    "Using these fields, your functions can read and write the necessary data to execute your workflow. Let's start with the first function. Your first Lambda function will copy an object from S3, base64 encode it, and then return it to the step function as `image_data` in an event.\n",
    "\n",
    "Go to the Lambda dashboard and create a new Lambda function with a descriptive name like \"serializeImageData\" and select thr 'Python 3.8' runtime. Add the same permissions as the SageMaker role you created earlier. (Reminder: you do this in the Configuration tab under \"Permissions\"). Once you're ready, use the starter code below to craft your Lambda handler:\n",
    "\n",
    "```python\n",
    "import json\n",
    "import boto3\n",
    "import base64\n",
    "\n",
    "s3 = boto3.client('s3')\n",
    "\n",
    "def lambda_handler(event, context):\n",
    "    \"\"\"A function to serialize target data from S3\"\"\"\n",
    "    \n",
    "    # Get the s3 address from the Step Function event input\n",
    "    key = ## TODO: fill in\n",
    "    bucket = ## TODO: fill in\n",
    "    \n",
    "    # Download the data from s3 to /tmp/image.png\n",
    "    ## TODO: fill in\n",
    "    \n",
    "    # We read the data from a file\n",
    "    with open(\"/tmp/image.png\", \"rb\") as f:\n",
    "        image_data = base64.b64encode(f.read())\n",
    "\n",
    "    # Pass the data back to the Step Function\n",
    "    print(\"Event:\", event.keys())\n",
    "    return {\n",
    "        'statusCode': 200,\n",
    "        'body': {\n",
    "            \"image_data\": image_data,\n",
    "            \"s3_bucket\": bucket,\n",
    "            \"s3_key\": key,\n",
    "            \"inferences\": []\n",
    "        }\n",
    "    }\n",
    "```\n",
    "\n",
    "The next function is responsible for the classification part - we're going to take the image output from the previous function, decode it, and then pass inferences back to the the Step Function.\n",
    "\n",
    "Because this Lambda will have runtime dependencies (i.e. the SageMaker SDK) you'll need to package them in your function. *Key reading:* https://docs.aws.amazon.com/lambda/latest/dg/python-package-create.html#python-package-create-with-dependency\n",
    "\n",
    "Create a new Lambda function with the same rights and a descriptive name, then fill in the starter code below for your classifier Lambda.\n",
    "\n",
    "```python\n",
    "import json\n",
    "import sagemaker\n",
    "import base64\n",
    "from sagemaker.serializers import IdentitySerializer\n",
    "\n",
    "# Fill this in with the name of your deployed model\n",
    "ENDPOINT = ## TODO: fill in\n",
    "\n",
    "def lambda_handler(event, context):\n",
    "\n",
    "    # Decode the image data\n",
    "    image = base64.b64decode(## TODO: fill in)\n",
    "\n",
    "    # Instantiate a Predictor\n",
    "    predictor = ## TODO: fill in\n",
    "\n",
    "    # For this model the IdentitySerializer needs to be \"image/png\"\n",
    "    predictor.serializer = IdentitySerializer(\"image/png\")\n",
    "    \n",
    "    # Make a prediction:\n",
    "    inferences = ## TODO: fill in\n",
    "    \n",
    "    # We return the data back to the Step Function    \n",
    "    event[\"inferences\"] = inferences.decode('utf-8')\n",
    "    return {\n",
    "        'statusCode': 200,\n",
    "        'body': json.dumps(event)\n",
    "    }\n",
    "```\n",
    "\n",
    "Finally, we need to filter low-confidence inferences. Define a threshold between 1.00 and 0.000 for your model: what is reasonble for you? If the model predicts at `.70` for it's highest confidence label, do we want to pass that inference along to downstream systems? Make one last Lambda function and tee up the same permissions:\n",
    "\n",
    "```python\n",
    "import json\n",
    "\n",
    "\n",
    "THRESHOLD = .93\n",
    "\n",
    "\n",
    "def lambda_handler(event, context):\n",
    "    \n",
    "    # Grab the inferences from the event\n",
    "    inferences = ## TODO: fill in\n",
    "    \n",
    "    # Check if any values in our inferences are above THRESHOLD\n",
    "    meets_threshold = ## TODO: fill in\n",
    "    \n",
    "    # If our threshold is met, pass our data back out of the\n",
    "    # Step Function, else, end the Step Function with an error\n",
    "    if meets_threshold:\n",
    "        pass\n",
    "    else:\n",
    "        raise(\"THRESHOLD_CONFIDENCE_NOT_MET\")\n",
    "\n",
    "    return {\n",
    "        'statusCode': 200,\n",
    "        'body': json.dumps(event)\n",
    "    }\n",
    "```\n",
    "Once you have tested the lambda functions, save the code for each lambda function in a python script called 'lambda.py'.\n",
    "\n",
    "With your lambdas in place, you can use the Step Functions visual editor to construct a workflow that chains them together. In the Step Functions console you'll have the option to author a Standard step function *Visually*.\n",
    "\n",
    "When the visual editor opens, you'll have many options to add transitions in your workflow. We're going to keep it simple and have just one: to invoke Lambda functions. Add three of them chained together. For each one, you'll be able to select the Lambda functions you just created in the proper order, filter inputs and outputs, and give them descriptive names.\n",
    "\n",
    "Make sure that you:\n",
    "\n",
    "1. Are properly filtering the inputs and outputs of your invokations (e.g. `$.body`)\n",
    "2. Take care to remove the error handling from the last function - it's supposed to \"fail loudly\" for your operations colleagues!\n",
    "\n",
    "Take a screenshot of your working step function in action and export the step function as JSON for your submission package."
   ]
  },
  {
   "cell_type": "markdown",
   "metadata": {},
   "source": [
    "\n",
    "Great! Now you can use the files in `./test` as test files for our workflow. Depending on our threshold, our workflow should reliably pass predictions about images from `./test` on to downstream systems, while erroring out for inferences below our confidence threshold!\n",
    "\n",
    "### Testing and Evaluation\n",
    "\n",
    "Do several step function invokations using data from the `./test` folder. This process should give you confidence that the workflow both *succeeds* AND *fails* as expected. In addition, SageMaker Model Monitor will generate recordings of your data and inferences which we can visualize.\n",
    "\n",
    "Here's a function that can help you generate test inputs for your invokations:"
   ]
  },
  {
   "cell_type": "code",
   "execution_count": 66,
   "metadata": {},
   "outputs": [
    {
     "data": {
      "text/plain": [
       "'{\"s3_bucket\": \"project2-scones\", \"s3_key\": \"test/velocipede_s_001201.png\"}'"
      ]
     },
     "execution_count": 66,
     "metadata": {},
     "output_type": "execute_result"
    }
   ],
   "source": [
    "import random\n",
    "import boto3\n",
    "import json\n",
    "\n",
    "def generate_test_case():\n",
    "    # Setup s3 in boto3\n",
    "    s3 = boto3.resource('s3')\n",
    "    \n",
    "    # Randomly pick from sfn or test folders in our bucket\n",
    "    objects = s3.Bucket(bucket).objects.filter(Prefix=\"test/\", Delimiter=\"/\")\n",
    "    #objects = s3.Bucket(bucket).objects.filter(\"test\")\n",
    "    \n",
    "    # Grab any random object key from that folder!\n",
    "    obj = random.choice([x.key for x in objects])    \n",
    "    \n",
    "    return json.dumps({\n",
    "        # \"image_data\": \"\",\n",
    "        \"s3_bucket\": bucket,\n",
    "        \"s3_key\": obj\n",
    "    })\n",
    "generate_test_case()"
   ]
  },
  {
   "cell_type": "markdown",
   "metadata": {},
   "source": [
    "In the Step Function dashboard for your new function, you can create new executions and copy in the generated test cases. Do several executions so that you can generate data you can evaluate and visualize.\n",
    "\n",
    "Once you've done several executions, let's visualize the record of our inferences. Pull in the JSONLines data from your inferences like so:"
   ]
  },
  {
   "cell_type": "code",
   "execution_count": 118,
   "metadata": {},
   "outputs": [],
   "source": [
    "from sagemaker.s3 import S3Downloader\n",
    "\n",
    "# In S3 your data will be saved to a datetime-aware path\n",
    "# Find a path related to a datetime you're interested in\n",
    "data_path = 's3://project2-scones/data_capture/image-classification-2021-12-30-00-55-46-527/AllTraffic/2021/12/30/03/'\n",
    "\n",
    "S3Downloader.download(data_path, \"captured_data\")\n",
    "\n",
    "# Feel free to repeat this multiple times and pull in more data"
   ]
  },
  {
   "cell_type": "markdown",
   "metadata": {},
   "source": [
    "The data are in JSONLines format, where multiple valid JSON objects are stacked on top of eachother in a single `jsonl` file. We'll import an open-source library, `jsonlines` that was purpose built for parsing this format."
   ]
  },
  {
   "cell_type": "code",
   "execution_count": 90,
   "metadata": {},
   "outputs": [
    {
     "name": "stdout",
     "output_type": "stream",
     "text": [
      "/opt/conda/lib/python3.7/site-packages/secretstorage/dhcrypto.py:16: CryptographyDeprecationWarning: int_from_bytes is deprecated, use int.from_bytes instead\n",
      "  from cryptography.utils import int_from_bytes\n",
      "/opt/conda/lib/python3.7/site-packages/secretstorage/util.py:25: CryptographyDeprecationWarning: int_from_bytes is deprecated, use int.from_bytes instead\n",
      "  from cryptography.utils import int_from_bytes\n",
      "Requirement already satisfied: jsonlines in /opt/conda/lib/python3.7/site-packages (3.0.0)\n",
      "Requirement already satisfied: attrs>=19.2.0 in /opt/conda/lib/python3.7/site-packages (from jsonlines) (19.3.0)\n",
      "Requirement already satisfied: typing-extensions in /opt/conda/lib/python3.7/site-packages (from jsonlines) (4.0.1)\n",
      "\u001b[33mWARNING: Running pip as the 'root' user can result in broken permissions and conflicting behaviour with the system package manager. It is recommended to use a virtual environment instead: https://pip.pypa.io/warnings/venv\u001b[0m\n"
     ]
    }
   ],
   "source": [
    "!pip install jsonlines\n",
    "import jsonlines"
   ]
  },
  {
   "cell_type": "markdown",
   "metadata": {},
   "source": [
    "Now we can extract the data from each of the source files:"
   ]
  },
  {
   "cell_type": "code",
   "execution_count": 119,
   "metadata": {},
   "outputs": [],
   "source": [
    "import os\n",
    "\n",
    "# List the file names we downloaded\n",
    "file_handles = os.listdir(\"./captured_data\")\n",
    "\n",
    "# Dump all the data into an array\n",
    "json_data = []\n",
    "for jsonl in file_handles:\n",
    "    if jsonl.endswith('.jsonl'):\n",
    "        with jsonlines.open(f\"./captured_data/{jsonl}\") as f:\n",
    "            json_data.append(f.read())"
   ]
  },
  {
   "cell_type": "markdown",
   "metadata": {},
   "source": [
    "The data should now be a list of dictionaries, with significant nesting. We'll give you an example of some code that grabs data out of the objects and visualizes it:"
   ]
  },
  {
   "cell_type": "code",
   "execution_count": 120,
   "metadata": {},
   "outputs": [
    {
     "data": {
      "text/plain": [
       "([0.40418505668640137, 0.5958148837089539], '2021-12-30T03:03:13Z')"
      ]
     },
     "execution_count": 120,
     "metadata": {},
     "output_type": "execute_result"
    }
   ],
   "source": [
    "# Define how we'll get our data\n",
    "def simple_getter(obj):\n",
    "    inferences = obj[\"captureData\"][\"endpointOutput\"][\"data\"]\n",
    "    timestamp = obj[\"eventMetadata\"][\"inferenceTime\"]\n",
    "    return json.loads(inferences), timestamp\n",
    "\n",
    "simple_getter(json_data[0])"
   ]
  },
  {
   "cell_type": "markdown",
   "metadata": {},
   "source": [
    "Finally, here's an example of a visualization you can build with this data. In this last part, you will take some time and build your own - the captured data has the input images, the resulting inferences, and the timestamps."
   ]
  },
  {
   "cell_type": "code",
   "execution_count": 109,
   "metadata": {},
   "outputs": [
    {
     "data": {
      "image/png": "[encoded data removed]",
      "text/plain": [
       "<Figure size 432x288 with 1 Axes>"
      ]
     },
     "metadata": {},
     "output_type": "display_data"
    }
   ],
   "source": [
    "import matplotlib.pyplot as plt\n",
    "\n",
    "# Populate the data for the x and y axis\n",
    "x = []\n",
    "y = []\n",
    "for obj in json_data:\n",
    "    inference, timestamp = simple_getter(obj)\n",
    "    \n",
    "    y.append(max(inference))\n",
    "    x.append(timestamp)\n",
    "\n",
    "# Todo: here is an visualization example, take some time to build another visual that helps monitor the result\n",
    "# Plot the data\n",
    "#plt.scatter(x, y, c=['r' if k<.94 else 'b' for k in y ])\n",
    "plt.scatter(x, y, c=['r' if k<.8 else 'b' for k in y ])\n",
    "#plt.axhline(y=0.94, color='g', linestyle='--')\n",
    "plt.axhline(y=0.8, color='g', linestyle='--')\n",
    "#plt.ylim(bottom=.88)\n",
    "plt.ylim(bottom=.6)\n",
    "\n",
    "# Add labels\n",
    "plt.ylabel(\"Confidence\")\n",
    "plt.suptitle(\"Observed Recent Inferences\", size=14)\n",
    "plt.title(\"Pictured with confidence threshold for production use\", size=10)\n",
    "\n",
    "# Give it some pizzaz!\n",
    "plt.style.use(\"Solarize_Light2\")\n",
    "plt.gcf().autofmt_xdate()"
   ]
  },
  {
   "cell_type": "markdown",
   "metadata": {},
   "source": [
    "### Todo: build your own visualization\n"
   ]
  },
  {
   "cell_type": "code",
   "execution_count": 186,
   "metadata": {},
   "outputs": [
    {
     "data": {
      "image/png": "[encoded data removed]",
      "text/plain": [
       "<Figure size 1440x360 with 1 Axes>"
      ]
     },
     "metadata": {},
     "output_type": "display_data"
    }
   ],
   "source": [
    "import matplotlib.pyplot as plt\n",
    "import numpy as np\n",
    "\n",
    "import os\n",
    "\n",
    "# List the file names we downloaded\n",
    "file_handles = os.listdir(\"./captured_data\")\n",
    "\n",
    "# Dump all the data into an array\n",
    "json_data2 = []\n",
    "for jsonl in file_handles:\n",
    "    if jsonl.endswith('.jsonl'):\n",
    "        with jsonlines.open(f\"./captured_data/{jsonl}\") as reader:\n",
    "            for obj in reader:\n",
    "                json_data2.append(obj)\n",
    "\n",
    "\n",
    "# Populate the data for the x and y axis\n",
    "x = []\n",
    "y = []\n",
    "z = []\n",
    "for obj in json_data2:\n",
    "    inference, timestamp = simple_getter(obj)    \n",
    "    y.append(inference[0])\n",
    "    x.append(timestamp)\n",
    "    z.append(np.argmax(inference))\n",
    "\n",
    "plt.figure(figsize=(20,5))    \n",
    "# Todo: here is an visualization example, take some time to build another visual that helps monitor the result\n",
    "# Plot the data\n",
    "plt.scatter(x, y, c=['g' if k == 1 else 'orange' for k in z ])\n",
    "\n",
    "plt.axhline(y=0.5, color='w', linestyle='-')\n",
    "plt.axhline(y=0.8, color='yellow', linestyle='--')\n",
    "plt.axhline(y=1-0.8, color='lightgreen', linestyle='--')\n",
    "#plt.ylim(bottom=.88)\n",
    "plt.ylim(bottom=-0.1)\n",
    "\n",
    "# Add labels\n",
    "plt.ylabel(\"Probability of being Bicycle\")\n",
    "plt.suptitle(\"Observed Recent Inferences\", size=14)\n",
    "plt.title(\"Dotted Lines indicate threshold\", size=10)\n",
    "\n",
    "D_id_color = {'Bicycle': u'orange', 'Motorcycle': u'green'}\n",
    "#color_map = [color for color in D_id_color.values()[:len(x_coordinates)]]\n",
    "# The following two lines generate custom fake lines that will be used as legend entries:\n",
    "markers = [plt.Line2D([200,200],[200,200],color=color, marker='o', linestyle='') for color in D_id_color.values()]\n",
    "plt.legend(markers, D_id_color.keys(), numpoints=1)\n",
    "\n",
    "\n",
    "# Give it some pizzaz!\n",
    "plt.style.use(\"Solarize_Light2\")\n",
    "plt.gcf().autofmt_xdate()\n",
    "plt.xticks(ticks=['' for k in x]);\n",
    "# plt.legend(('', 'moto','bike'))"
   ]
  },
  {
   "cell_type": "code",
   "execution_count": 187,
   "metadata": {},
   "outputs": [
    {
     "data": {
      "text/plain": [
       "[[0.40418505668640137, 0.5958148837089539],\n",
       " [0.9999812841415405, 1.8768494555843063e-05],\n",
       " [0.005384230520576239, 0.9946157336235046],\n",
       " [0.05962400138378143, 0.9403759837150574],\n",
       " [0.9976561069488525, 0.0023439163342118263],\n",
       " [0.9991372227668762, 0.0008628630894236267],\n",
       " [0.9997960925102234, 0.00020392918668221682],\n",
       " [9.089849299925845e-06, 0.9999909400939941],\n",
       " [0.999874472618103, 0.00012555786815937608],\n",
       " [0.0784524604678154, 0.9215475916862488],\n",
       " [0.9969208240509033, 0.0030791568569839],\n",
       " [1.2265541954548098e-05, 0.9999877214431763],\n",
       " [0.9999978542327881, 2.137185219908133e-06],\n",
       " [0.8402791023254395, 0.15972085297107697],\n",
       " [0.9999997615814209, 1.9595040612330195e-07],\n",
       " [0.07788386940956116, 0.9221161007881165],\n",
       " [0.09039631485939026, 0.9096036553382874],\n",
       " [0.0004664953157771379, 0.9995335340499878],\n",
       " [0.053764212876558304, 0.9462357759475708],\n",
       " [0.8402551412582397, 0.15974488854408264],\n",
       " [0.05027099698781967, 0.9497290253639221],\n",
       " [0.9999997615814209, 1.9733363387786085e-07],\n",
       " [0.0008669981616549194, 0.9991330504417419],\n",
       " [0.9746183156967163, 0.025381676852703094],\n",
       " [0.6586198806762695, 0.34138017892837524],\n",
       " [0.9999977350234985, 2.263149781356333e-06],\n",
       " [0.0008124324376694858, 0.9991875290870667],\n",
       " [6.322624540189281e-05, 0.9999368190765381],\n",
       " [1.9870321921189316e-05, 0.999980092048645],\n",
       " [0.2683439254760742, 0.7316560745239258],\n",
       " [0.9996193647384644, 0.00038058485370129347],\n",
       " [0.9999991655349731, 8.396033308599726e-07],\n",
       " [0.07788386940956116, 0.9221161007881165],\n",
       " [0.32098355889320374, 0.6790164709091187],\n",
       " [0.9995908141136169, 0.00040924709173850715],\n",
       " [7.289950735867023e-05, 0.9999270439147949],\n",
       " [0.9992724061012268, 0.0007276158430613577],\n",
       " [0.010164959356188774, 0.9898349642753601],\n",
       " [0.9998838901519775, 0.00011605892359511927],\n",
       " [0.9942565560340881, 0.005743416026234627],\n",
       " [0.9998875856399536, 0.00011243409244343638],\n",
       " [3.5970265344076324e-06, 0.9999964237213135],\n",
       " [0.41351649165153503, 0.5864835381507874],\n",
       " [0.00026757948216982186, 0.9997324347496033],\n",
       " [9.703450632514432e-05, 0.9999029636383057],\n",
       " [0.9999997615814209, 2.2379560959961964e-07],\n",
       " [8.01589121692814e-05, 0.9999198913574219],\n",
       " [0.9139942526817322, 0.086005799472332],\n",
       " [0.9999821186065674, 1.7878541257232428e-05],\n",
       " [0.9986339211463928, 0.0013660065596923232],\n",
       " [0.0561043880879879, 0.9438956379890442],\n",
       " [0.9999909400939941, 9.010171197587624e-06],\n",
       " [0.9999996423721313, 4.122249208649009e-07],\n",
       " [0.5545869469642639, 0.44541308283805847],\n",
       " [0.9999995231628418, 4.3872572064174165e-07],\n",
       " [0.999291181564331, 0.000708794454112649],\n",
       " [0.2173904925584793, 0.7826094627380371],\n",
       " [0.9999877214431763, 1.2268221325939521e-05],\n",
       " [0.0002460392424836755, 0.999754011631012],\n",
       " [0.9957872033119202, 0.0042127701453864574],\n",
       " [0.005927511490881443, 0.9940724968910217],\n",
       " [0.0003655367181636393, 0.9996345043182373],\n",
       " [0.9999998807907104, 1.7540526187076466e-07],\n",
       " [0.999972939491272, 2.7083891836809926e-05],\n",
       " [0.23659610748291016, 0.7634038925170898],\n",
       " [0.005159373860806227, 0.994840681552887],\n",
       " [1.6114910977194086e-05, 0.9999839067459106],\n",
       " [0.9999934434890747, 6.512540494441055e-06],\n",
       " [0.9996193647384644, 0.00038058485370129347],\n",
       " [0.9999946355819702, 5.305060767568648e-06],\n",
       " [0.9016811847686768, 0.09831883758306503],\n",
       " [0.9999496936798096, 5.0298844143981114e-05],\n",
       " [0.9627302885055542, 0.03726968541741371],\n",
       " [0.9999998807907104, 7.960327508271803e-08],\n",
       " [0.9869583249092102, 0.013041648082435131],\n",
       " [0.9992434978485107, 0.0007564897532574832],\n",
       " [5.4793054005131125e-06, 0.9999945163726807],\n",
       " [0.9998247027397156, 0.0001753441902110353],\n",
       " [0.2683439254760742, 0.7316560745239258],\n",
       " [1.0, 3.547248184077034e-08],\n",
       " [2.042685842695846e-08, 1.0],\n",
       " [0.029015883803367615, 0.970984160900116],\n",
       " [0.9993277788162231, 0.0006722182151861489],\n",
       " [0.6534358859062195, 0.3465641140937805],\n",
       " [0.03113880567252636, 0.9688612222671509],\n",
       " [1.6555719412281178e-05, 0.9999834299087524],\n",
       " [0.9999741315841675, 2.585527181508951e-05],\n",
       " [0.856834352016449, 0.1431656777858734],\n",
       " [0.7216951847076416, 0.2783048748970032],\n",
       " [0.9999998807907104, 7.75951107812034e-08],\n",
       " [0.13241568207740784, 0.8675842881202698],\n",
       " [0.32098355889320374, 0.6790164709091187],\n",
       " [0.00019937485922127962, 0.9998006224632263],\n",
       " [7.289950735867023e-05, 0.9999270439147949],\n",
       " [0.9992724061012268, 0.0007276158430613577],\n",
       " [0.010164959356188774, 0.9898349642753601],\n",
       " [0.07953683286905289, 0.9204631447792053],\n",
       " [0.9974090456962585, 0.002591004129499197],\n",
       " [0.999990701675415, 9.26264237932628e-06],\n",
       " [3.5970265344076324e-06, 0.9999964237213135],\n",
       " [0.41351649165153503, 0.5864835381507874],\n",
       " [0.00026757948216982186, 0.9997324347496033],\n",
       " [9.703450632514432e-05, 0.9999029636383057],\n",
       " [8.01589121692814e-05, 0.9999198913574219],\n",
       " [0.9999821186065674, 1.7878541257232428e-05],\n",
       " [0.005917735397815704, 0.9940822720527649],\n",
       " [0.013615256175398827, 0.9863846898078918],\n",
       " [0.0561043880879879, 0.9438956379890442],\n",
       " [0.9999909400939941, 9.010171197587624e-06],\n",
       " [0.9999996423721313, 4.122249208649009e-07],\n",
       " [0.999988317489624, 1.1724044270522427e-05],\n",
       " [0.8296753168106079, 0.17032475769519806],\n",
       " [0.7812958359718323, 0.21870416402816772],\n",
       " [0.010446565225720406, 0.9895534515380859],\n",
       " [0.999291181564331, 0.000708794454112649],\n",
       " [0.04771042615175247, 0.9522895216941833],\n",
       " [5.648606929753441e-06, 0.9999943971633911],\n",
       " [0.4063301384449005, 0.5936698317527771],\n",
       " [0.9999927282333374, 7.268460649356712e-06],\n",
       " [0.0005646778736263514, 0.9994352459907532],\n",
       " [0.0003655367181636393, 0.9996345043182373],\n",
       " [0.9987019300460815, 0.0012980421306565404],\n",
       " [0.40418505668640137, 0.5958148837089539],\n",
       " [0.9999812841415405, 1.8768494555843063e-05],\n",
       " [0.005384230520576239, 0.9946157336235046],\n",
       " [4.936517871101387e-05, 0.999950647354126],\n",
       " [0.05962400138378143, 0.9403759837150574],\n",
       " [0.9881250858306885, 0.011874950490891933],\n",
       " [0.2969736158847809, 0.7030264139175415],\n",
       " [0.9976561069488525, 0.0023439163342118263],\n",
       " [0.00014036896754987538, 0.9998595714569092],\n",
       " [0.999994158744812, 5.839216555614257e-06],\n",
       " [0.999874472618103, 0.00012555786815937608],\n",
       " [0.10531198233366013, 0.8946880102157593],\n",
       " [1.2265541954548098e-05, 0.9999877214431763],\n",
       " [0.9999996423721313, 3.189378787737951e-07],\n",
       " [0.9999978542327881, 2.137185219908133e-06],\n",
       " [0.8402791023254395, 0.15972085297107697],\n",
       " [0.9999997615814209, 1.9595040612330195e-07],\n",
       " [0.09039631485939026, 0.9096036553382874],\n",
       " [0.9884995818138123, 0.011500438675284386],\n",
       " [1.2122923180868383e-06, 0.9999988079071045],\n",
       " [0.947433352470398, 0.05256667360663414],\n",
       " [0.0004664953157771379, 0.9995335340499878],\n",
       " [0.8402551412582397, 0.15974488854408264],\n",
       " [0.05027099698781967, 0.9497290253639221],\n",
       " [0.9999997615814209, 1.9733363387786085e-07],\n",
       " [0.0008669981616549194, 0.9991330504417419],\n",
       " [0.6586198806762695, 0.34138017892837524],\n",
       " [0.12112976610660553, 0.8788702487945557],\n",
       " [0.9996336698532104, 0.00036629923852160573],\n",
       " [0.11199390143156052, 0.8880060911178589],\n",
       " [0.0985611081123352, 0.9014388918876648],\n",
       " [0.025533189997076988, 0.9744668006896973],\n",
       " [9.583834525983548e-07, 0.9999990463256836],\n",
       " [0.6918215751647949, 0.3081784248352051],\n",
       " [0.9999977350234985, 2.289431904500816e-06],\n",
       " [4.4856071326648816e-05, 0.9999551773071289],\n",
       " [0.34953057765960693, 0.6504693627357483],\n",
       " [0.9999793767929077, 2.064546242763754e-05],\n",
       " [0.00367955444380641, 0.9963204860687256],\n",
       " [0.010329293087124825, 0.9896706938743591],\n",
       " [9.746882824401837e-06, 0.9999902248382568],\n",
       " [0.9999939203262329, 6.027715244272258e-06],\n",
       " [0.0718005821108818, 0.9281994104385376],\n",
       " [0.0014668047660961747, 0.9985331296920776],\n",
       " [0.8324605822563171, 0.16753940284252167],\n",
       " [0.9858177304267883, 0.01418226957321167],\n",
       " [0.999975323677063, 2.4718710847082548e-05],\n",
       " [0.005159373860806227, 0.994840681552887],\n",
       " [1.6114910977194086e-05, 0.9999839067459106],\n",
       " [0.9999934434890747, 6.512540494441055e-06],\n",
       " [0.026547277346253395, 0.9734526872634888],\n",
       " [0.9999991655349731, 8.396033308599726e-07],\n",
       " [0.9016811847686768, 0.09831883758306503],\n",
       " [0.9999496936798096, 5.0298844143981114e-05],\n",
       " [0.0019407395739108324, 0.9980592131614685],\n",
       " [0.1080247238278389, 0.8919752240180969],\n",
       " [0.9627302885055542, 0.03726968541741371],\n",
       " [0.863314688205719, 0.1366852968931198],\n",
       " [0.9999998807907104, 7.960327508271803e-08],\n",
       " [0.9869583249092102, 0.013041648082435131],\n",
       " [0.9992434978485107, 0.0007564897532574832],\n",
       " [0.9999998807907104, 1.7540526187076466e-07],\n",
       " [0.9998247027397156, 0.0001753441902110353],\n",
       " [0.002114930422976613, 0.9978850483894348],\n",
       " [0.9999219179153442, 7.805897621437907e-05],\n",
       " [0.9306612014770508, 0.06933882087469101],\n",
       " [0.029015883803367615, 0.970984160900116],\n",
       " [0.9993277788162231, 0.0006722182151861489],\n",
       " [0.6534358859062195, 0.3465641140937805],\n",
       " [0.9908945560455322, 0.00910542905330658],\n",
       " [1.6555719412281178e-05, 0.9999834299087524],\n",
       " [0.9999877214431763, 1.2324545423325617e-05],\n",
       " [0.9683164954185486, 0.03168352320790291],\n",
       " [5.68583891435992e-06, 0.9999942779541016],\n",
       " [0.9999741315841675, 2.585527181508951e-05],\n",
       " [7.705031021032482e-05, 0.9999229907989502],\n",
       " [0.9990133047103882, 0.000986684812232852],\n",
       " [0.7216951847076416, 0.2783048748970032],\n",
       " [0.9999998807907104, 7.75951107812034e-08],\n",
       " [0.13241568207740784, 0.8675842881202698],\n",
       " [0.9996193647384644, 0.00038058485370129347],\n",
       " [0.9999948740005493, 5.16839099873323e-06],\n",
       " [0.9999574422836304, 4.2613970435922965e-05],\n",
       " [7.37053996999748e-05, 0.9999263286590576],\n",
       " [0.9899652600288391, 0.01003476046025753],\n",
       " [0.9961642026901245, 0.0038357852026820183],\n",
       " [0.6918215751647949, 0.3081784248352051],\n",
       " [0.999972939491272, 2.7083891836809926e-05],\n",
       " [4.4856071326648816e-05, 0.9999551773071289],\n",
       " [7.310699857043801e-06, 0.9999927282333374],\n",
       " [0.9999793767929077, 2.064546242763754e-05],\n",
       " [0.0014668047660961747, 0.9985331296920776],\n",
       " [0.8324605822563171, 0.16753940284252167],\n",
       " [0.9858177304267883, 0.01418226957321167],\n",
       " [0.13357821106910706, 0.8664217591285706]]"
      ]
     },
     "execution_count": 187,
     "metadata": {},
     "output_type": "execute_result"
    }
   ],
   "source": [
    "[simple_getter(obj)[0][0] for obj in json_data2]"
   ]
  },
  {
   "cell_type": "markdown",
   "metadata": {},
   "source": [
    "### Congratulations!\n",
    "\n",
    "You've reached the end of the project. In this project you created an event-drivent ML workflow that can be incorporated into the Scones Unlimited production architecture. You used the SageMaker Estimator API to deploy your SageMaker Model and Endpoint, and you used AWS Lambda and Step Functions to orchestrate your ML workflow. Using SageMaker Model Monitor, you instrumented and observed your Endpoint, and at the end of the project you built a visualization to help stakeholders understand the performance of the Endpoint over time. If you're up for it, you can even go further with these stretch goals:\n",
    "\n",
    "* Extend your workflow to incorporate more classes: the CIFAR dataset includes other vehicles that Scones Unlimited can identify with this model.\n",
    "* Modify your event driven workflow: can you rewrite your Lambda functions so that the workflow can process multiple image inputs in parallel? Can the Step Function \"fan out\" to accomodate this new workflow?\n",
    "* Consider the test data generator we provided for you. Can we use it to create a \"dummy data\" generator, to simulate a continuous stream of input data? Or a big paralell load of data?\n",
    "* What if we want to get notified every time our step function errors out? Can we use the Step Functions visual editor in conjunction with a service like SNS to accomplish this? Try it out!\n",
    "\n",
    "\n"
   ]
  },
  {
   "cell_type": "code",
   "execution_count": 99,
   "metadata": {},
   "outputs": [
    {
     "name": "stdout",
     "output_type": "stream",
     "text": [
      "[0.13357821106910706, 0.8664217591285706]\n",
      "[0.7991456389427185, 0.2008543163537979]\n",
      "[0.9727866649627686, 0.02721327729523182]\n",
      "[0.00040443407488055527, 0.999595582485199]\n",
      "[0.23659610748291016, 0.7634038925170898]\n",
      "[0.999975323677063, 2.4718710847082548e-05]\n",
      "[0.005159373860806227, 0.994840681552887]\n",
      "[0.9999995231628418, 4.982444465895242e-07]\n",
      "[4.833518687519245e-07, 0.9999995231628418]\n",
      "[1.6114910977194086e-05, 0.9999839067459106]\n",
      "[0.9999934434890747, 6.512540494441055e-06]\n",
      "[0.026547277346253395, 0.9734526872634888]\n",
      "[0.0001952194288605824, 0.9998047947883606]\n",
      "[0.9999991655349731, 8.396033308599726e-07]\n",
      "[0.9996193647384644, 0.00038058485370129347]\n",
      "[0.9998162388801575, 0.00018381682457402349]\n",
      "[0.9999946355819702, 5.305060767568648e-06]\n",
      "[0.17839239537715912, 0.8216075897216797]\n",
      "[0.9016811847686768, 0.09831883758306503]\n",
      "[0.9999496936798096, 5.0298844143981114e-05]\n",
      "[0.0019407395739108324, 0.9980592131614685]\n",
      "[0.1080247238278389, 0.8919752240180969]\n",
      "[0.9999847412109375, 1.5263358363881707e-05]\n",
      "[0.9627302885055542, 0.03726968541741371]\n",
      "[0.863314688205719, 0.1366852968931198]\n",
      "[0.9999998807907104, 7.960327508271803e-08]\n",
      "[0.9869583249092102, 0.013041648082435131]\n",
      "[0.1833505481481552, 0.8166494965553284]\n",
      "[0.7773104906082153, 0.22268953919410706]\n",
      "[0.9992434978485107, 0.0007564897532574832]\n",
      "[0.9999998807907104, 1.7540526187076466e-07]\n",
      "[0.04409737512469292, 0.9559026956558228]\n",
      "[5.4793054005131125e-06, 0.9999945163726807]\n",
      "[0.9998247027397156, 0.0001753441902110353]\n",
      "[0.980755627155304, 0.019244320690631866]\n",
      "[0.002114930422976613, 0.9978850483894348]\n",
      "[0.2683439254760742, 0.7316560745239258]\n",
      "[0.9999796152114868, 2.0352079445729032e-05]\n",
      "[1.0, 3.547248184077034e-08]\n",
      "[0.9999219179153442, 7.805897621437907e-05]\n",
      "[0.9306612014770508, 0.06933882087469101]\n",
      "[2.042685842695846e-08, 1.0]\n",
      "[0.029015883803367615, 0.970984160900116]\n",
      "[0.9993277788162231, 0.0006722182151861489]\n",
      "[0.6534358859062195, 0.3465641140937805]\n",
      "[0.03113880567252636, 0.9688612222671509]\n",
      "[0.9908945560455322, 0.00910542905330658]\n",
      "[0.9999948740005493, 5.16839099873323e-06]\n",
      "[0.999992847442627, 7.150835699576419e-06]\n",
      "[1.6555719412281178e-05, 0.9999834299087524]\n",
      "[0.9999877214431763, 1.2324545423325617e-05]\n",
      "[0.9683164954185486, 0.03168352320790291]\n",
      "[5.68583891435992e-06, 0.9999942779541016]\n",
      "[0.9999741315841675, 2.585527181508951e-05]\n",
      "[7.705031021032482e-05, 0.9999229907989502]\n",
      "[0.9990133047103882, 0.000986684812232852]\n",
      "[0.856834352016449, 0.1431656777858734]\n",
      "[0.7216951847076416, 0.2783048748970032]\n",
      "[0.9999998807907104, 7.75951107812034e-08]\n",
      "[0.13241568207740784, 0.8675842881202698]\n",
      "[0.32098355889320374, 0.6790164709091187]\n",
      "[0.00019937485922127962, 0.9998006224632263]\n",
      "[0.9998041987419128, 0.00019584699475672096]\n",
      "[0.9995908141136169, 0.00040924709173850715]\n",
      "[7.289950735867023e-05, 0.9999270439147949]\n",
      "[0.9992724061012268, 0.0007276158430613577]\n",
      "[0.010164959356188774, 0.9898349642753601]\n",
      "[0.07953683286905289, 0.9204631447792053]\n",
      "[0.9998838901519775, 0.00011605892359511927]\n",
      "[0.9974090456962585, 0.002591004129499197]\n",
      "[0.9942565560340881, 0.005743416026234627]\n",
      "[0.999990701675415, 9.26264237932628e-06]\n",
      "[0.9998875856399536, 0.00011243409244343638]\n",
      "[3.5970265344076324e-06, 0.9999964237213135]\n",
      "[0.41351649165153503, 0.5864835381507874]\n",
      "[0.00026757948216982186, 0.9997324347496033]\n",
      "[9.703450632514432e-05, 0.9999029636383057]\n",
      "[0.9999997615814209, 2.2379560959961964e-07]\n",
      "[8.01589121692814e-05, 0.9999198913574219]\n",
      "[0.9139942526817322, 0.086005799472332]\n",
      "[0.9999821186065674, 1.7878541257232428e-05]\n",
      "[0.005917735397815704, 0.9940822720527649]\n",
      "[0.9986339211463928, 0.0013660065596923232]\n",
      "[0.013615256175398827, 0.9863846898078918]\n",
      "[1.1835683153549326e-06, 0.9999988079071045]\n",
      "[0.0561043880879879, 0.9438956379890442]\n",
      "[0.000520180503372103, 0.9994798302650452]\n",
      "[0.9999909400939941, 9.010171197587624e-06]\n",
      "[1.4870694030832965e-05, 0.9999850988388062]\n",
      "[0.9999996423721313, 4.122249208649009e-07]\n",
      "[0.999988317489624, 1.1724044270522427e-05]\n",
      "[0.8296753168106079, 0.17032475769519806]\n",
      "[0.9999586343765259, 4.1393304854864255e-05]\n",
      "[0.7812958359718323, 0.21870416402816772]\n",
      "[0.5545869469642639, 0.44541308283805847]\n",
      "[0.8533526659011841, 0.14664730429649353]\n",
      "[0.010446565225720406, 0.9895534515380859]\n",
      "[0.843392014503479, 0.15660803020000458]\n",
      "[9.830935596255586e-05, 0.9999016523361206]\n",
      "[0.9999995231628418, 4.3872572064174165e-07]\n",
      "[0.999291181564331, 0.000708794454112649]\n",
      "[0.04771042615175247, 0.9522895216941833]\n",
      "[5.648606929753441e-06, 0.9999943971633911]\n",
      "[0.2173904925584793, 0.7826094627380371]\n",
      "[0.9999877214431763, 1.2268221325939521e-05]\n",
      "[0.010624656453728676, 0.9893753528594971]\n",
      "[0.0019061511848121881, 0.9980939030647278]\n",
      "[0.0002460392424836755, 0.999754011631012]\n",
      "[0.9957872033119202, 0.0042127701453864574]\n",
      "[0.4063301384449005, 0.5936698317527771]\n",
      "[0.005927511490881443, 0.9940724968910217]\n",
      "[0.9999927282333374, 7.268460649356712e-06]\n",
      "[0.0005646778736263514, 0.9994352459907532]\n",
      "[0.0003655367181636393, 0.9996345043182373]\n",
      "[0.9987019300460815, 0.0012980421306565404]\n",
      "[0.40418505668640137, 0.5958148837089539]\n",
      "[0.9999812841415405, 1.8768494555843063e-05]\n",
      "[0.00010582046525087208, 0.9998941421508789]\n",
      "[0.005384230520576239, 0.9946157336235046]\n",
      "[4.936517871101387e-05, 0.999950647354126]\n",
      "[0.05962400138378143, 0.9403759837150574]\n",
      "[0.9881250858306885, 0.011874950490891933]\n",
      "[0.2969736158847809, 0.7030264139175415]\n",
      "[0.11413593590259552, 0.8858640193939209]\n",
      "[0.9976561069488525, 0.0023439163342118263]\n",
      "[0.9991372227668762, 0.0008628630894236267]\n",
      "[0.9997960925102234, 0.00020392918668221682]\n",
      "[0.0032758787274360657, 0.9967241883277893]\n",
      "[9.089849299925845e-06, 0.9999909400939941]\n",
      "[0.9999756813049316, 2.4301514713442884e-05]\n",
      "[0.00014036896754987538, 0.9998595714569092]\n",
      "[0.999994158744812, 5.839216555614257e-06]\n",
      "[0.999874472618103, 0.00012555786815937608]\n",
      "[0.9997960925102234, 0.000203892239369452]\n",
      "[0.0784524604678154, 0.9215475916862488]\n",
      "[0.10531198233366013, 0.8946880102157593]\n",
      "[0.9969208240509033, 0.0030791568569839]\n",
      "[1.2265541954548098e-05, 0.9999877214431763]\n",
      "[0.9999996423721313, 3.189378787737951e-07]\n",
      "[0.9999978542327881, 2.137185219908133e-06]\n",
      "[0.8402791023254395, 0.15972085297107697]\n",
      "[0.9999997615814209, 1.9595040612330195e-07]\n",
      "[0.07788386940956116, 0.9221161007881165]\n",
      "[0.936223030090332, 0.06377694755792618]\n",
      "[0.09039631485939026, 0.9096036553382874]\n",
      "[0.9884995818138123, 0.011500438675284386]\n",
      "[1.2122923180868383e-06, 0.9999988079071045]\n",
      "[0.947433352470398, 0.05256667360663414]\n",
      "[0.0004664953157771379, 0.9995335340499878]\n",
      "[0.053764212876558304, 0.9462357759475708]\n",
      "[0.8402551412582397, 0.15974488854408264]\n",
      "[0.05027099698781967, 0.9497290253639221]\n",
      "[0.9999997615814209, 1.9733363387786085e-07]\n",
      "[0.0008669981616549194, 0.9991330504417419]\n",
      "[0.9746183156967163, 0.025381676852703094]\n",
      "[0.6586198806762695, 0.34138017892837524]\n",
      "[0.12112976610660553, 0.8788702487945557]\n",
      "[0.9996336698532104, 0.00036629923852160573]\n",
      "[0.9999977350234985, 2.263149781356333e-06]\n",
      "[0.999931812286377, 6.824237061664462e-05]\n",
      "[0.9997408986091614, 0.0002591296215541661]\n",
      "[0.11199390143156052, 0.8880060911178589]\n",
      "[0.0008124324376694858, 0.9991875290870667]\n",
      "[0.0985611081123352, 0.9014388918876648]\n",
      "[0.08382447808980942, 0.9161754846572876]\n",
      "[0.999829888343811, 0.00017005747940856963]\n",
      "[6.322624540189281e-05, 0.9999368190765381]\n",
      "[0.9825479388237, 0.017452064901590347]\n",
      "[1.9870321921189316e-05, 0.999980092048645]\n",
      "[0.009043974801898003, 0.9909560084342957]\n",
      "[0.9999574422836304, 4.2613970435922965e-05]\n",
      "[0.025533189997076988, 0.9744668006896973]\n",
      "[7.37053996999748e-05, 0.9999263286590576]\n",
      "[0.9899652600288391, 0.01003476046025753]\n",
      "[9.583834525983548e-07, 0.9999990463256836]\n",
      "[1.8205334981757915e-06, 0.9999982118606567]\n",
      "[0.9961642026901245, 0.0038357852026820183]\n",
      "[0.6918215751647949, 0.3081784248352051]\n",
      "[0.999972939491272, 2.7083891836809926e-05]\n",
      "[0.9999977350234985, 2.289431904500816e-06]\n",
      "[0.001007485087029636, 0.9989925026893616]\n",
      "[4.4856071326648816e-05, 0.9999551773071289]\n",
      "[1.0, 2.726750558679214e-08]\n",
      "[7.310699857043801e-06, 0.9999927282333374]\n",
      "[0.34953057765960693, 0.6504693627357483]\n",
      "[0.9999793767929077, 2.064546242763754e-05]\n",
      "[0.001798824523575604, 0.9982011318206787]\n",
      "[0.9888365268707275, 0.011163419112563133]\n",
      "[0.00367955444380641, 0.9963204860687256]\n",
      "[0.010329293087124825, 0.9896706938743591]\n",
      "[2.1918015136179747e-06, 0.9999978542327881]\n",
      "[9.746882824401837e-06, 0.9999902248382568]\n",
      "[0.9999939203262329, 6.027715244272258e-06]\n",
      "[0.0034580016508698463, 0.9965420365333557]\n",
      "[0.0009019029093906283, 0.9990980625152588]\n",
      "[0.0718005821108818, 0.9281994104385376]\n",
      "[0.0014668047660961747, 0.9985331296920776]\n",
      "[0.8324605822563171, 0.16753940284252167]\n",
      "[0.9472323060035706, 0.05276773124933243]\n",
      "[0.9858177304267883, 0.01418226957321167]\n"
     ]
    }
   ],
   "source": [
    "# Run inference for all the test images\n",
    "import os\n",
    "import time\n",
    "\n",
    "file_handles = os.listdir(\"./test\")\n",
    "\n",
    "for filename in file_handles:\n",
    "    if not filename.endswith('.png'):\n",
    "        continue\n",
    "    with open(f\"./test/{filename}\", \"rb\") as f:\n",
    "        payload = f.read()\n",
    "    raw_inference = predictor.predict(payload)\n",
    "    inference = json.loads(raw_inference.decode('utf-8'))\n",
    "    print(inference)\n",
    "    time.sleep(1)\n",
    "    \n",
    "\n"
   ]
  }
 ],
 "metadata": {
  "instance_type": "ml.t3.medium",
  "kernelspec": {
   "display_name": "Python 3 (Data Science)",
   "language": "python",
   "name": "python3__SAGEMAKER_INTERNAL__arn:aws:sagemaker:us-east-1:081325390199:image/datascience-1.0"
  },
  "language_info": {
   "codemirror_mode": {
    "name": "ipython",
    "version": 3
   },
   "file_extension": ".py",
   "mimetype": "text/x-python",
   "name": "python",
   "nbconvert_exporter": "python",
   "pygments_lexer": "ipython3",
   "version": "3.7.10"
  }
 },
 "nbformat": 4,
 "nbformat_minor": 4
}
